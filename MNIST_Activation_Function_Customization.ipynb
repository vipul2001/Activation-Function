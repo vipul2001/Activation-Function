{
  "cells": [
    {
      "cell_type": "code",
      "execution_count": null,
      "metadata": {
        "id": "eyfTtR6Z0WUr"
      },
      "outputs": [],
      "source": [
        "from __future__ import print_function\n",
        "import numpy\n",
        "import os\n",
        "import torch\n",
        "import torch.nn as nn\n",
        "import torch.nn.functional as F\n",
        "import torchvision\n",
        "import torch.optim as optim\n",
        "from torchvision.datasets import ImageFolder\n",
        "from PIL import Image\n",
        "import numpy as np\n",
        "from torchvision import datasets, transforms\n",
        "from torch.autograd import Variable"
      ]
    },
    {
      "cell_type": "code",
      "execution_count": null,
      "metadata": {
        "id": "SFx5Gnda1a9k"
      },
      "outputs": [],
      "source": [
        "class Net(nn.Module):\n",
        "    \"\"\"ConvNet -> Max_Pool -> RELU -> ConvNet -> Max_Pool -> RELU -> FC -> RELU -> FC -> SOFTMAX\"\"\"\n",
        "    def __init__(self):\n",
        "        super(Net, self).__init__()\n",
        "        self.conv1 = nn.Conv2d(1, 20, 5, 1)\n",
        "        self.bn1=torch.nn.BatchNorm2d(20)\n",
        "        self.w1_1 = torch.nn.Parameter(data=torch.abs(torch.randn (1)), requires_grad=True)\n",
        "        self.w2_1 = torch.nn.Parameter(data=torch.abs(torch.randn (1)), requires_grad=True)\n",
        "        self.w3_1 = torch.nn.Parameter(data=torch.abs(torch.randn (1)), requires_grad=True)\n",
        "        self.conv2 = nn.Conv2d(20, 50, 5, 1)\n",
        "        self.bn2=torch.nn.BatchNorm2d(50)\n",
        "        self.w1_2 = torch.nn.Parameter(data=torch.abs(torch.randn (1)), requires_grad=True)\n",
        "        self.w2_2 = torch.nn.Parameter(data=torch.abs(torch.randn (1)), requires_grad=True)\n",
        "        self.w3_2 = torch.nn.Parameter(data=torch.abs(torch.randn (1)), requires_grad=True)\n",
        "        self.fc1 = nn.Linear(4*4*50, 500)\n",
        "        self.bn3=torch.nn.BatchNorm1d(500)\n",
        "        self.w1_3 = torch.nn.Parameter(data=torch.abs(torch.randn (1)), requires_grad=True)\n",
        "        self.w2_3 = torch.nn.Parameter(data=torch.abs(torch.randn (1)), requires_grad=True)\n",
        "        self.w3_3 = torch.nn.Parameter(data=torch.abs(torch.randn (1)), requires_grad=True)\n",
        "        self.fc2 = nn.Linear(500, 10)\n",
        "\n",
        "    def forward(self, x):\n",
        "        x = ((self.bn1(self.conv1(x))))\n",
        "        self.w1_1.data=self.w1_1.data.clamp(min=0)\n",
        "        self.w2_1.data=self.w2_1.data.clamp(min=0)\n",
        "        self.w3_1.data=self.w3_1.data.clamp(min=0)\n",
        "        self.w1_2.data=self.w1_2.data.clamp(min=0)\n",
        "        self.w2_2.data=self.w2_2.data.clamp(min=0)\n",
        "        self.w3_2.data=self.w3_2.data.clamp(min=0)\n",
        "        self.w1_3.data=self.w1_3.data.clamp(min=0)\n",
        "        self.w2_3.data=self.w2_3.data.clamp(min=0)\n",
        "        self.w3_3.data=self.w3_3.data.clamp(min=0)\n",
        "        x =(self.w1_1*F.relu(x)+self.w2_1*F.tanh(x)+self.w3_1*torch.sin(x))/(self.w1_1+self.w2_1+self.w3_1+1e-5)\n",
        "        x = F.max_pool2d(x, 2, 2)\n",
        "        x = ((self.bn2(self.conv2(x))))\n",
        "        x =(self.w1_2*F.relu(x)+self.w2_2*F.tanh(x)+self.w3_2*torch.sin(x))/(self.w1_2+self.w2_2+self.w3_2+1e-5)\n",
        "        x = F.max_pool2d(x, 2, 2)\n",
        "        x = x.view(-1, 4*4*50)\n",
        "        x =(self.bn3(self.fc1(x)))\n",
        "        x =(self.w1_3*F.relu(x)+self.w2_3*F.tanh(x)+self.w3_3*torch.sin(x))/(self.w1_3+self.w2_3+self.w3_3+1e-5)\n",
        "        x = self.fc2(x)\n",
        "        return F.log_softmax(x, dim=1)\n"
      ]
    },
    {
      "cell_type": "code",
      "execution_count": null,
      "metadata": {
        "id": "eS6c22cq49l1"
      },
      "outputs": [],
      "source": [
        "n_epochs = 30\n",
        "batch_size_train = 64\n",
        "batch_size_test = 1000\n",
        "learning_rate =1e-4\n",
        "momentum = 0.5\n",
        "log_interval = 200"
      ]
    },
    {
      "cell_type": "code",
      "execution_count": null,
      "metadata": {
        "colab": {
          "base_uri": "https://localhost:8080/",
          "height": 422,
          "referenced_widgets": [
            "982b0b38ee4b455eb058fd3b468e2232",
            "2c07f4b52bfd44378bff0965069e7d58",
            "609445cc32874353b65914a4e5134573",
            "d8f8c9cd1a384bc0bc9a9b3949ce16a3",
            "835d22f5a03a4a1581b0f003e3c0bd28",
            "5743c72c30ec4eb79d8ac087f017ed8f",
            "a7cdbd0faa28429490950f2d05ef81b2",
            "5ae7064dd1ea458b8b419f79a6d61a17",
            "0f688e3243ab4fdbbefadbec5f4435b9",
            "f8958927cb6544058645957a66b1f36d",
            "dcbf627ba4ea4d15b20cca9d45cae72a",
            "012b9479f0f94988a25eefc9643c8ca7",
            "6ce0d976b90f4345b79cf17c4dfa53d2",
            "a1d59da0a24545068d462aa004298750",
            "1d6b8a632d4d4784b63811a3e0bfa833",
            "bc41943934214452a1395c12cf657702",
            "3d7a9745ac604f24b897ca5d3efb55a7",
            "920b87cb10a54e71a4f0518baca7c2c3",
            "4202f640eb474b7685d11e67345ff50f",
            "421f99ca629c40f08e819cc5f2670cc8",
            "17acec9607f142a69ede68da2360d54b",
            "5707277f142c42edb9b3c4055bcae9ba",
            "1e48f314d46e4a0d9539eb0c5751d33a",
            "236ee72cedde455fbf3df84b132ed719",
            "715078f3981744e5b2343a7e71d8c004",
            "c2117e84f84a4bbe99f956cead1529f1",
            "7765eb536f2e4fc097a7ae55d72b2522",
            "677773f1ee704d9eb8c46eeab0bdaf16",
            "4ad64219078c48b1b7688e905f40e9ae",
            "fbae58ff5ea745b3a4237aaf0b694996",
            "f3ac348120cb4c38af22d2c58a32bc43",
            "a44a09d2a7a647dfa2bac1e347633015",
            "ebd79992914648e19df6339622f61513",
            "dbad1842581e4ecd8bf6be62832bdd73",
            "d58834d08b554003925fdfcb5819f735",
            "bc5f7076d8924c54b8a63b8e293e3a42",
            "aeeee993088c49439d16bebf4f1161dc",
            "a838345374b745168a8479d2cb1a8002",
            "87a46992a4254155ad6cb79c7ac80d9e",
            "2d6de886d96944dbaf2f282de71e2191",
            "ec510ea7388844169e571d11e1bb7445",
            "a6007da940704a50b57b3643398d7a91",
            "a9261e19671b4a74842898993cf8e3c6",
            "6c8da97ad9e64fe09c35149bc05fc614"
          ]
        },
        "id": "zV1EnhYx1w93",
        "outputId": "6bc811b8-69db-4869-c06c-d73ba00d25cc"
      },
      "outputs": [
        {
          "output_type": "stream",
          "name": "stdout",
          "text": [
            "Downloading http://yann.lecun.com/exdb/mnist/train-images-idx3-ubyte.gz\n",
            "Downloading http://yann.lecun.com/exdb/mnist/train-images-idx3-ubyte.gz to /d/MNIST/raw/train-images-idx3-ubyte.gz\n"
          ]
        },
        {
          "output_type": "display_data",
          "data": {
            "application/vnd.jupyter.widget-view+json": {
              "model_id": "982b0b38ee4b455eb058fd3b468e2232",
              "version_minor": 0,
              "version_major": 2
            },
            "text/plain": [
              "  0%|          | 0/9912422 [00:00<?, ?it/s]"
            ]
          },
          "metadata": {}
        },
        {
          "output_type": "stream",
          "name": "stdout",
          "text": [
            "Extracting /d/MNIST/raw/train-images-idx3-ubyte.gz to /d/MNIST/raw\n",
            "\n",
            "Downloading http://yann.lecun.com/exdb/mnist/train-labels-idx1-ubyte.gz\n",
            "Downloading http://yann.lecun.com/exdb/mnist/train-labels-idx1-ubyte.gz to /d/MNIST/raw/train-labels-idx1-ubyte.gz\n"
          ]
        },
        {
          "output_type": "display_data",
          "data": {
            "application/vnd.jupyter.widget-view+json": {
              "model_id": "012b9479f0f94988a25eefc9643c8ca7",
              "version_minor": 0,
              "version_major": 2
            },
            "text/plain": [
              "  0%|          | 0/28881 [00:00<?, ?it/s]"
            ]
          },
          "metadata": {}
        },
        {
          "output_type": "stream",
          "name": "stdout",
          "text": [
            "Extracting /d/MNIST/raw/train-labels-idx1-ubyte.gz to /d/MNIST/raw\n",
            "\n",
            "Downloading http://yann.lecun.com/exdb/mnist/t10k-images-idx3-ubyte.gz\n",
            "Downloading http://yann.lecun.com/exdb/mnist/t10k-images-idx3-ubyte.gz to /d/MNIST/raw/t10k-images-idx3-ubyte.gz\n"
          ]
        },
        {
          "output_type": "display_data",
          "data": {
            "application/vnd.jupyter.widget-view+json": {
              "model_id": "1e48f314d46e4a0d9539eb0c5751d33a",
              "version_minor": 0,
              "version_major": 2
            },
            "text/plain": [
              "  0%|          | 0/1648877 [00:00<?, ?it/s]"
            ]
          },
          "metadata": {}
        },
        {
          "output_type": "stream",
          "name": "stdout",
          "text": [
            "Extracting /d/MNIST/raw/t10k-images-idx3-ubyte.gz to /d/MNIST/raw\n",
            "\n",
            "Downloading http://yann.lecun.com/exdb/mnist/t10k-labels-idx1-ubyte.gz\n",
            "Downloading http://yann.lecun.com/exdb/mnist/t10k-labels-idx1-ubyte.gz to /d/MNIST/raw/t10k-labels-idx1-ubyte.gz\n"
          ]
        },
        {
          "output_type": "display_data",
          "data": {
            "application/vnd.jupyter.widget-view+json": {
              "model_id": "dbad1842581e4ecd8bf6be62832bdd73",
              "version_minor": 0,
              "version_major": 2
            },
            "text/plain": [
              "  0%|          | 0/4542 [00:00<?, ?it/s]"
            ]
          },
          "metadata": {}
        },
        {
          "output_type": "stream",
          "name": "stdout",
          "text": [
            "Extracting /d/MNIST/raw/t10k-labels-idx1-ubyte.gz to /d/MNIST/raw\n",
            "\n"
          ]
        }
      ],
      "source": [
        "# transforms to apply to the data\n",
        "trans = transforms.Compose([transforms.ToTensor(), transforms.Normalize((0.1307,), (0.3081,))])\n",
        "\n",
        "# MNIST dataset\n",
        "train_loader = torch.utils.data.DataLoader(\n",
        "  torchvision.datasets.MNIST('/d/', train=True, download=True,\n",
        "                             transform=torchvision.transforms.Compose([\n",
        "                               torchvision.transforms.ToTensor(),\n",
        "                               torchvision.transforms.Normalize(\n",
        "                                 (0.1307,), (0.3081,))\n",
        "                             ])),\n",
        "  batch_size=batch_size_train, shuffle=True)\n",
        "\n",
        "test_loader = torch.utils.data.DataLoader(\n",
        "  torchvision.datasets.MNIST('/d/', train=False, download=True,\n",
        "                             transform=torchvision.transforms.Compose([\n",
        "                               torchvision.transforms.ToTensor(),\n",
        "                               torchvision.transforms.Normalize(\n",
        "                                 (0.1307,), (0.3081,))\n",
        "                             ])),\n",
        "  batch_size=batch_size_test, shuffle=True)"
      ]
    },
    {
      "cell_type": "code",
      "execution_count": null,
      "metadata": {
        "id": "QR5o54hw4jg8"
      },
      "outputs": [],
      "source": [
        "examples = enumerate(test_loader)\n",
        "batch_idx, (example_data, example_targets) = next(examples)"
      ]
    },
    {
      "cell_type": "code",
      "execution_count": null,
      "metadata": {
        "colab": {
          "base_uri": "https://localhost:8080/"
        },
        "id": "5bW8EhJO5pOS",
        "outputId": "c2da8a2e-b42d-4476-d76b-8b6e88528bf5"
      },
      "outputs": [
        {
          "output_type": "execute_result",
          "data": {
            "text/plain": [
              "torch.Size([1000, 1, 28, 28])"
            ]
          },
          "metadata": {},
          "execution_count": 6
        }
      ],
      "source": [
        "example_data.shape"
      ]
    },
    {
      "cell_type": "code",
      "execution_count": null,
      "metadata": {
        "colab": {
          "base_uri": "https://localhost:8080/",
          "height": 551
        },
        "id": "2W2xc1T35rQk",
        "outputId": "5a6a1eb6-d20c-4fd4-feaf-f43dbe8b68c0"
      },
      "outputs": [
        {
          "output_type": "execute_result",
          "data": {
            "image/png": "[encoded data removed]",
            "text/plain": [
              "<Figure size 432x288 with 6 Axes>"
            ]
          },
          "metadata": {},
          "execution_count": 7
        },
        {
          "output_type": "display_data",
          "data": {
            "image/png": "[encoded data removed]",
            "text/plain": [
              "<Figure size 432x288 with 6 Axes>"
            ]
          },
          "metadata": {}
        }
      ],
      "source": [
        "import matplotlib.pyplot as plt\n",
        "\n",
        "fig = plt.figure()\n",
        "for i in range(6):\n",
        "  plt.subplot(2,3,i+1)\n",
        "  plt.tight_layout()\n",
        "  plt.imshow(example_data[i][0], cmap='gray', interpolation='none')\n",
        "  plt.title(\"Ground Truth: {}\".format(example_targets[i]))\n",
        "  plt.xticks([])\n",
        "  plt.yticks([])\n",
        "fig"
      ]
    },
    {
      "cell_type": "code",
      "execution_count": null,
      "metadata": {
        "id": "ydXMolcO5wSz"
      },
      "outputs": [],
      "source": [
        "network = Net()\n"
      ]
    },
    {
      "cell_type": "code",
      "execution_count": null,
      "metadata": {
        "id": "etjRfmXd6CYH"
      },
      "outputs": [],
      "source": [
        "train_losses = []\n",
        "train_counter = []\n",
        "test_losses = []\n",
        "test_counter = [i*len(train_loader.dataset) for i in range(n_epochs + 1)]"
      ]
    },
    {
      "cell_type": "code",
      "execution_count": null,
      "metadata": {
        "colab": {
          "base_uri": "https://localhost:8080/"
        },
        "id": "1Z10JM-1Ri50",
        "outputId": "f446d6c2-609a-45b3-9751-08843786013b"
      },
      "outputs": [
        {
          "output_type": "execute_result",
          "data": {
            "text/plain": [
              "Net(\n",
              "  (conv1): Conv2d(1, 20, kernel_size=(5, 5), stride=(1, 1))\n",
              "  (bn1): BatchNorm2d(20, eps=1e-05, momentum=0.1, affine=True, track_running_stats=True)\n",
              "  (conv2): Conv2d(20, 50, kernel_size=(5, 5), stride=(1, 1))\n",
              "  (bn2): BatchNorm2d(50, eps=1e-05, momentum=0.1, affine=True, track_running_stats=True)\n",
              "  (fc1): Linear(in_features=800, out_features=500, bias=True)\n",
              "  (bn3): BatchNorm1d(500, eps=1e-05, momentum=0.1, affine=True, track_running_stats=True)\n",
              "  (fc2): Linear(in_features=500, out_features=10, bias=True)\n",
              ")"
            ]
          },
          "metadata": {},
          "execution_count": 10
        }
      ],
      "source": [
        "network.cuda()"
      ]
    },
    {
      "cell_type": "code",
      "execution_count": null,
      "metadata": {
        "id": "ilS-0c5o6Hg1"
      },
      "outputs": [],
      "source": [
        "def train(epoch):\n",
        "  network.train()\n",
        "  for batch_idx, (data, target) in enumerate(train_loader):\n",
        "    data=data.cuda()\n",
        "    target=target.cuda()\n",
        "    optimizer.zero_grad()\n",
        "    output = network(data)\n",
        "    loss = F.nll_loss(output, target)\n",
        "    loss.backward()\n",
        "    optimizer.step()\n",
        "    if batch_idx % log_interval == 0:\n",
        "      print('Train Epoch: {} [{}/{} ({:.0f}%)]\\tLoss: {:.6f}'.format(\n",
        "        epoch, batch_idx * len(data), len(train_loader.dataset),\n",
        "        100. * batch_idx / len(train_loader), loss.item()))\n",
        "      train_losses.append(loss.item())\n",
        "      train_counter.append(\n",
        "        (batch_idx*64) + ((epoch-1)*len(train_loader.dataset)))"
      ]
    },
    {
      "cell_type": "code",
      "execution_count": null,
      "metadata": {
        "id": "LzxxFXZa6PS8"
      },
      "outputs": [],
      "source": [
        "def test():\n",
        "  network.eval()\n",
        "  test_loss = 0\n",
        "  correct = 0\n",
        "  with torch.no_grad():\n",
        "    for data, target in test_loader:\n",
        "      data=data.cuda()\n",
        "      target=target.cuda()\n",
        "      output = network(data)\n",
        "      test_loss += F.nll_loss(output, target, size_average=False).item()\n",
        "      pred = output.data.max(1, keepdim=True)[1]\n",
        "      correct += pred.eq(target.data.view_as(pred)).sum()\n",
        "  test_loss /= len(test_loader.dataset)\n",
        "  test_losses.append(test_loss)\n",
        "  test_counter.append(\n",
        "        (batch_idx*64) + ((epoch-1)*len(test_loader.dataset)))\n",
        "  print('\\nTest set: Avg. loss: {:.4f}, Accuracy: {}/{} ({:.0f}%)\\n'.format(\n",
        "    test_loss, correct, len(test_loader.dataset),\n",
        "    100. * correct / len(test_loader.dataset)))\n",
        "  print(network.w1_1/(network.w1_1+network.w2_1+network.w3_1))\n",
        "  print(network.w2_1/(network.w1_1+network.w2_1+network.w3_1))\n",
        "  print(network.w3_1/(network.w1_1+network.w2_1+network.w3_1))\n",
        "  print(network.w1_2/(network.w1_2+network.w2_2+network.w3_2))\n",
        "  print(network.w2_2/(network.w1_2+network.w2_2+network.w3_2))\n",
        "  print(network.w3_2/(network.w1_2+network.w2_2+network.w3_2))"
      ]
    },
    {
      "cell_type": "code",
      "execution_count": null,
      "metadata": {
        "colab": {
          "base_uri": "https://localhost:8080/"
        },
        "id": "spFae66c6VHr",
        "outputId": "9a58c27d-d51f-4fda-a8e2-bbef49b46ffd",
        "scrolled": true
      },
      "outputs": [
        {
          "output_type": "stream",
          "name": "stderr",
          "text": [
            "/usr/local/lib/python3.7/dist-packages/torch/nn/functional.py:1795: UserWarning: nn.functional.tanh is deprecated. Use torch.tanh instead.\n",
            "  warnings.warn(\"nn.functional.tanh is deprecated. Use torch.tanh instead.\")\n"
          ]
        },
        {
          "output_type": "stream",
          "name": "stdout",
          "text": [
            "Train Epoch: 1 [0/60000 (0%)]\tLoss: 2.465106\n",
            "Train Epoch: 1 [12800/60000 (21%)]\tLoss: 0.093459\n",
            "Train Epoch: 1 [25600/60000 (43%)]\tLoss: 0.135357\n",
            "Train Epoch: 1 [38400/60000 (64%)]\tLoss: 0.074514\n",
            "Train Epoch: 1 [51200/60000 (85%)]\tLoss: 0.009288\n"
          ]
        },
        {
          "output_type": "stream",
          "name": "stderr",
          "text": [
            "/usr/local/lib/python3.7/dist-packages/torch/nn/_reduction.py:42: UserWarning: size_average and reduce args will be deprecated, please use reduction='sum' instead.\n",
            "  warnings.warn(warning.format(ret))\n"
          ]
        },
        {
          "output_type": "stream",
          "name": "stdout",
          "text": [
            "\n",
            "Test set: Avg. loss: 0.0369, Accuracy: 9897/10000 (99%)\n",
            "\n",
            "tensor([0.4915], device='cuda:0', grad_fn=<DivBackward0>)\n",
            "tensor([0.3965], device='cuda:0', grad_fn=<DivBackward0>)\n",
            "tensor([0.1120], device='cuda:0', grad_fn=<DivBackward0>)\n",
            "tensor([0.0266], device='cuda:0', grad_fn=<DivBackward0>)\n",
            "tensor([0.7190], device='cuda:0', grad_fn=<DivBackward0>)\n",
            "tensor([0.2543], device='cuda:0', grad_fn=<DivBackward0>)\n",
            "Train Epoch: 2 [0/60000 (0%)]\tLoss: 0.103846\n",
            "Train Epoch: 2 [12800/60000 (21%)]\tLoss: 0.005366\n",
            "Train Epoch: 2 [25600/60000 (43%)]\tLoss: 0.092259\n",
            "Train Epoch: 2 [38400/60000 (64%)]\tLoss: 0.049374\n",
            "Train Epoch: 2 [51200/60000 (85%)]\tLoss: 0.018978\n",
            "\n",
            "Test set: Avg. loss: 0.0378, Accuracy: 9889/10000 (99%)\n",
            "\n",
            "tensor([0.4915], device='cuda:0', grad_fn=<DivBackward0>)\n",
            "tensor([0.3965], device='cuda:0', grad_fn=<DivBackward0>)\n",
            "tensor([0.1120], device='cuda:0', grad_fn=<DivBackward0>)\n",
            "tensor([0.0266], device='cuda:0', grad_fn=<DivBackward0>)\n",
            "tensor([0.7190], device='cuda:0', grad_fn=<DivBackward0>)\n",
            "tensor([0.2543], device='cuda:0', grad_fn=<DivBackward0>)\n",
            "Train Epoch: 3 [0/60000 (0%)]\tLoss: 0.037879\n",
            "Train Epoch: 3 [12800/60000 (21%)]\tLoss: 0.011872\n",
            "Train Epoch: 3 [25600/60000 (43%)]\tLoss: 0.002123\n",
            "Train Epoch: 3 [38400/60000 (64%)]\tLoss: 0.014211\n",
            "Train Epoch: 3 [51200/60000 (85%)]\tLoss: 0.075933\n",
            "\n",
            "Test set: Avg. loss: 0.0357, Accuracy: 9885/10000 (99%)\n",
            "\n",
            "tensor([0.4915], device='cuda:0', grad_fn=<DivBackward0>)\n",
            "tensor([0.3965], device='cuda:0', grad_fn=<DivBackward0>)\n",
            "tensor([0.1120], device='cuda:0', grad_fn=<DivBackward0>)\n",
            "tensor([0.0266], device='cuda:0', grad_fn=<DivBackward0>)\n",
            "tensor([0.7190], device='cuda:0', grad_fn=<DivBackward0>)\n",
            "tensor([0.2543], device='cuda:0', grad_fn=<DivBackward0>)\n",
            "Train Epoch: 4 [0/60000 (0%)]\tLoss: 0.001899\n",
            "Train Epoch: 4 [12800/60000 (21%)]\tLoss: 0.073139\n",
            "Train Epoch: 4 [25600/60000 (43%)]\tLoss: 0.014514\n",
            "Train Epoch: 4 [38400/60000 (64%)]\tLoss: 0.036943\n",
            "Train Epoch: 4 [51200/60000 (85%)]\tLoss: 0.012182\n",
            "\n",
            "Test set: Avg. loss: 0.0284, Accuracy: 9915/10000 (99%)\n",
            "\n",
            "tensor([0.4915], device='cuda:0', grad_fn=<DivBackward0>)\n",
            "tensor([0.3965], device='cuda:0', grad_fn=<DivBackward0>)\n",
            "tensor([0.1120], device='cuda:0', grad_fn=<DivBackward0>)\n",
            "tensor([0.0266], device='cuda:0', grad_fn=<DivBackward0>)\n",
            "tensor([0.7190], device='cuda:0', grad_fn=<DivBackward0>)\n",
            "tensor([0.2543], device='cuda:0', grad_fn=<DivBackward0>)\n",
            "Train Epoch: 5 [0/60000 (0%)]\tLoss: 0.032175\n",
            "Train Epoch: 5 [12800/60000 (21%)]\tLoss: 0.009122\n",
            "Train Epoch: 5 [25600/60000 (43%)]\tLoss: 0.005270\n",
            "Train Epoch: 5 [38400/60000 (64%)]\tLoss: 0.000788\n",
            "Train Epoch: 5 [51200/60000 (85%)]\tLoss: 0.005316\n",
            "\n",
            "Test set: Avg. loss: 0.0301, Accuracy: 9905/10000 (99%)\n",
            "\n",
            "tensor([0.4915], device='cuda:0', grad_fn=<DivBackward0>)\n",
            "tensor([0.3965], device='cuda:0', grad_fn=<DivBackward0>)\n",
            "tensor([0.1120], device='cuda:0', grad_fn=<DivBackward0>)\n",
            "tensor([0.0266], device='cuda:0', grad_fn=<DivBackward0>)\n",
            "tensor([0.7190], device='cuda:0', grad_fn=<DivBackward0>)\n",
            "tensor([0.2543], device='cuda:0', grad_fn=<DivBackward0>)\n",
            "Train Epoch: 6 [0/60000 (0%)]\tLoss: 0.001500\n",
            "Train Epoch: 6 [12800/60000 (21%)]\tLoss: 0.002203\n",
            "Train Epoch: 6 [25600/60000 (43%)]\tLoss: 0.048270\n",
            "Train Epoch: 6 [38400/60000 (64%)]\tLoss: 0.000426\n",
            "Train Epoch: 6 [51200/60000 (85%)]\tLoss: 0.079181\n",
            "\n",
            "Test set: Avg. loss: 0.0306, Accuracy: 9902/10000 (99%)\n",
            "\n",
            "tensor([0.4915], device='cuda:0', grad_fn=<DivBackward0>)\n",
            "tensor([0.3965], device='cuda:0', grad_fn=<DivBackward0>)\n",
            "tensor([0.1120], device='cuda:0', grad_fn=<DivBackward0>)\n",
            "tensor([0.0266], device='cuda:0', grad_fn=<DivBackward0>)\n",
            "tensor([0.7190], device='cuda:0', grad_fn=<DivBackward0>)\n",
            "tensor([0.2543], device='cuda:0', grad_fn=<DivBackward0>)\n",
            "Train Epoch: 7 [0/60000 (0%)]\tLoss: 0.000376\n",
            "Train Epoch: 7 [12800/60000 (21%)]\tLoss: 0.000263\n",
            "Train Epoch: 7 [25600/60000 (43%)]\tLoss: 0.000351\n",
            "Train Epoch: 7 [38400/60000 (64%)]\tLoss: 0.019991\n",
            "Train Epoch: 7 [51200/60000 (85%)]\tLoss: 0.000087\n",
            "\n",
            "Test set: Avg. loss: 0.0318, Accuracy: 9903/10000 (99%)\n",
            "\n",
            "tensor([0.4915], device='cuda:0', grad_fn=<DivBackward0>)\n",
            "tensor([0.3965], device='cuda:0', grad_fn=<DivBackward0>)\n",
            "tensor([0.1120], device='cuda:0', grad_fn=<DivBackward0>)\n",
            "tensor([0.0266], device='cuda:0', grad_fn=<DivBackward0>)\n",
            "tensor([0.7190], device='cuda:0', grad_fn=<DivBackward0>)\n",
            "tensor([0.2543], device='cuda:0', grad_fn=<DivBackward0>)\n",
            "Train Epoch: 8 [0/60000 (0%)]\tLoss: 0.002556\n",
            "Train Epoch: 8 [12800/60000 (21%)]\tLoss: 0.000270\n",
            "Train Epoch: 8 [25600/60000 (43%)]\tLoss: 0.073005\n",
            "Train Epoch: 8 [38400/60000 (64%)]\tLoss: 0.018161\n",
            "Train Epoch: 8 [51200/60000 (85%)]\tLoss: 0.000172\n",
            "\n",
            "Test set: Avg. loss: 0.0391, Accuracy: 9890/10000 (99%)\n",
            "\n",
            "tensor([0.4915], device='cuda:0', grad_fn=<DivBackward0>)\n",
            "tensor([0.3965], device='cuda:0', grad_fn=<DivBackward0>)\n",
            "tensor([0.1120], device='cuda:0', grad_fn=<DivBackward0>)\n",
            "tensor([0.0266], device='cuda:0', grad_fn=<DivBackward0>)\n",
            "tensor([0.7190], device='cuda:0', grad_fn=<DivBackward0>)\n",
            "tensor([0.2543], device='cuda:0', grad_fn=<DivBackward0>)\n",
            "Train Epoch: 9 [0/60000 (0%)]\tLoss: 0.000379\n",
            "Train Epoch: 9 [12800/60000 (21%)]\tLoss: 0.006203\n",
            "Train Epoch: 9 [25600/60000 (43%)]\tLoss: 0.000354\n",
            "Train Epoch: 9 [38400/60000 (64%)]\tLoss: 0.000038\n",
            "Train Epoch: 9 [51200/60000 (85%)]\tLoss: 0.002800\n",
            "\n",
            "Test set: Avg. loss: 0.0384, Accuracy: 9908/10000 (99%)\n",
            "\n",
            "tensor([0.4915], device='cuda:0', grad_fn=<DivBackward0>)\n",
            "tensor([0.3965], device='cuda:0', grad_fn=<DivBackward0>)\n",
            "tensor([0.1120], device='cuda:0', grad_fn=<DivBackward0>)\n",
            "tensor([0.0266], device='cuda:0', grad_fn=<DivBackward0>)\n",
            "tensor([0.7190], device='cuda:0', grad_fn=<DivBackward0>)\n",
            "tensor([0.2543], device='cuda:0', grad_fn=<DivBackward0>)\n",
            "Train Epoch: 10 [0/60000 (0%)]\tLoss: 0.002727\n",
            "Train Epoch: 10 [12800/60000 (21%)]\tLoss: 0.000165\n",
            "Train Epoch: 10 [25600/60000 (43%)]\tLoss: 0.001071\n",
            "Train Epoch: 10 [38400/60000 (64%)]\tLoss: 0.010053\n",
            "Train Epoch: 10 [51200/60000 (85%)]\tLoss: 0.000931\n",
            "\n",
            "Test set: Avg. loss: 0.0333, Accuracy: 9905/10000 (99%)\n",
            "\n",
            "tensor([0.4915], device='cuda:0', grad_fn=<DivBackward0>)\n",
            "tensor([0.3965], device='cuda:0', grad_fn=<DivBackward0>)\n",
            "tensor([0.1120], device='cuda:0', grad_fn=<DivBackward0>)\n",
            "tensor([0.0266], device='cuda:0', grad_fn=<DivBackward0>)\n",
            "tensor([0.7190], device='cuda:0', grad_fn=<DivBackward0>)\n",
            "tensor([0.2543], device='cuda:0', grad_fn=<DivBackward0>)\n",
            "Train Epoch: 1 [0/60000 (0%)]\tLoss: 0.002342\n",
            "Train Epoch: 1 [12800/60000 (21%)]\tLoss: 0.002557\n",
            "Train Epoch: 1 [25600/60000 (43%)]\tLoss: 0.000182\n",
            "Train Epoch: 1 [38400/60000 (64%)]\tLoss: 0.000364\n",
            "Train Epoch: 1 [51200/60000 (85%)]\tLoss: 0.001138\n",
            "\n",
            "Test set: Avg. loss: 0.0325, Accuracy: 9906/10000 (99%)\n",
            "\n",
            "tensor([0.5144], device='cuda:0', grad_fn=<DivBackward0>)\n",
            "tensor([0.4130], device='cuda:0', grad_fn=<DivBackward0>)\n",
            "tensor([0.0726], device='cuda:0', grad_fn=<DivBackward0>)\n",
            "tensor([0.], device='cuda:0', grad_fn=<DivBackward0>)\n",
            "tensor([0.5744], device='cuda:0', grad_fn=<DivBackward0>)\n",
            "tensor([0.4256], device='cuda:0', grad_fn=<DivBackward0>)\n",
            "Train Epoch: 2 [0/60000 (0%)]\tLoss: 0.000321\n",
            "Train Epoch: 2 [12800/60000 (21%)]\tLoss: 0.000504\n",
            "Train Epoch: 2 [25600/60000 (43%)]\tLoss: 0.000553\n",
            "Train Epoch: 2 [38400/60000 (64%)]\tLoss: 0.000579\n",
            "Train Epoch: 2 [51200/60000 (85%)]\tLoss: 0.064839\n",
            "\n",
            "Test set: Avg. loss: 0.0336, Accuracy: 9905/10000 (99%)\n",
            "\n",
            "tensor([0.4988], device='cuda:0', grad_fn=<DivBackward0>)\n",
            "tensor([0.4802], device='cuda:0', grad_fn=<DivBackward0>)\n",
            "tensor([0.0211], device='cuda:0', grad_fn=<DivBackward0>)\n",
            "tensor([0.0182], device='cuda:0', grad_fn=<DivBackward0>)\n",
            "tensor([0.5063], device='cuda:0', grad_fn=<DivBackward0>)\n",
            "tensor([0.4755], device='cuda:0', grad_fn=<DivBackward0>)\n",
            "Train Epoch: 3 [0/60000 (0%)]\tLoss: 0.000032\n",
            "Train Epoch: 3 [12800/60000 (21%)]\tLoss: 0.000510\n",
            "Train Epoch: 3 [25600/60000 (43%)]\tLoss: 0.000267\n",
            "Train Epoch: 3 [38400/60000 (64%)]\tLoss: 0.000080\n",
            "Train Epoch: 3 [51200/60000 (85%)]\tLoss: 0.002803\n",
            "\n",
            "Test set: Avg. loss: 0.0334, Accuracy: 9908/10000 (99%)\n",
            "\n",
            "tensor([0.4749], device='cuda:0', grad_fn=<DivBackward0>)\n",
            "tensor([0.4619], device='cuda:0', grad_fn=<DivBackward0>)\n",
            "tensor([0.0631], device='cuda:0', grad_fn=<DivBackward0>)\n",
            "tensor([0.0243], device='cuda:0', grad_fn=<DivBackward0>)\n",
            "tensor([0.5014], device='cuda:0', grad_fn=<DivBackward0>)\n",
            "tensor([0.4744], device='cuda:0', grad_fn=<DivBackward0>)\n",
            "Train Epoch: 4 [0/60000 (0%)]\tLoss: 0.000440\n",
            "Train Epoch: 4 [12800/60000 (21%)]\tLoss: 0.001111\n",
            "Train Epoch: 4 [25600/60000 (43%)]\tLoss: 0.003399\n",
            "Train Epoch: 4 [38400/60000 (64%)]\tLoss: 0.004139\n",
            "Train Epoch: 4 [51200/60000 (85%)]\tLoss: 0.000154\n",
            "\n",
            "Test set: Avg. loss: 0.0320, Accuracy: 9908/10000 (99%)\n",
            "\n",
            "tensor([0.5392], device='cuda:0', grad_fn=<DivBackward0>)\n",
            "tensor([0.4350], device='cuda:0', grad_fn=<DivBackward0>)\n",
            "tensor([0.0258], device='cuda:0', grad_fn=<DivBackward0>)\n",
            "tensor([0.0019], device='cuda:0', grad_fn=<DivBackward0>)\n",
            "tensor([0.4762], device='cuda:0', grad_fn=<DivBackward0>)\n",
            "tensor([0.5219], device='cuda:0', grad_fn=<DivBackward0>)\n",
            "Train Epoch: 5 [0/60000 (0%)]\tLoss: 0.008964\n",
            "Train Epoch: 5 [12800/60000 (21%)]\tLoss: 0.000519\n",
            "Train Epoch: 5 [25600/60000 (43%)]\tLoss: 0.000256\n",
            "Train Epoch: 5 [38400/60000 (64%)]\tLoss: 0.001379\n",
            "Train Epoch: 5 [51200/60000 (85%)]\tLoss: 0.011136\n",
            "\n",
            "Test set: Avg. loss: 0.0328, Accuracy: 9908/10000 (99%)\n",
            "\n",
            "tensor([0.4567], device='cuda:0', grad_fn=<DivBackward0>)\n",
            "tensor([0.4715], device='cuda:0', grad_fn=<DivBackward0>)\n",
            "tensor([0.0719], device='cuda:0', grad_fn=<DivBackward0>)\n",
            "tensor([0.0087], device='cuda:0', grad_fn=<DivBackward0>)\n",
            "tensor([0.4974], device='cuda:0', grad_fn=<DivBackward0>)\n",
            "tensor([0.4939], device='cuda:0', grad_fn=<DivBackward0>)\n",
            "Train Epoch: 6 [0/60000 (0%)]\tLoss: 0.000106\n",
            "Train Epoch: 6 [12800/60000 (21%)]\tLoss: 0.000611\n",
            "Train Epoch: 6 [25600/60000 (43%)]\tLoss: 0.000531\n",
            "Train Epoch: 6 [38400/60000 (64%)]\tLoss: 0.000757\n",
            "Train Epoch: 6 [51200/60000 (85%)]\tLoss: 0.000600\n",
            "\n",
            "Test set: Avg. loss: 0.0332, Accuracy: 9907/10000 (99%)\n",
            "\n",
            "tensor([0.5174], device='cuda:0', grad_fn=<DivBackward0>)\n",
            "tensor([0.4318], device='cuda:0', grad_fn=<DivBackward0>)\n",
            "tensor([0.0508], device='cuda:0', grad_fn=<DivBackward0>)\n",
            "tensor([0.0313], device='cuda:0', grad_fn=<DivBackward0>)\n",
            "tensor([0.4812], device='cuda:0', grad_fn=<DivBackward0>)\n",
            "tensor([0.4875], device='cuda:0', grad_fn=<DivBackward0>)\n",
            "Train Epoch: 7 [0/60000 (0%)]\tLoss: 0.026317\n",
            "Train Epoch: 7 [12800/60000 (21%)]\tLoss: 0.001394\n",
            "Train Epoch: 7 [25600/60000 (43%)]\tLoss: 0.001003\n",
            "Train Epoch: 7 [38400/60000 (64%)]\tLoss: 0.009657\n",
            "Train Epoch: 7 [51200/60000 (85%)]\tLoss: 0.000132\n",
            "\n",
            "Test set: Avg. loss: 0.0331, Accuracy: 9907/10000 (99%)\n",
            "\n",
            "tensor([0.5314], device='cuda:0', grad_fn=<DivBackward0>)\n",
            "tensor([0.4429], device='cuda:0', grad_fn=<DivBackward0>)\n",
            "tensor([0.0256], device='cuda:0', grad_fn=<DivBackward0>)\n",
            "tensor([0.0038], device='cuda:0', grad_fn=<DivBackward0>)\n",
            "tensor([0.5266], device='cuda:0', grad_fn=<DivBackward0>)\n",
            "tensor([0.4696], device='cuda:0', grad_fn=<DivBackward0>)\n",
            "Train Epoch: 8 [0/60000 (0%)]\tLoss: 0.002248\n",
            "Train Epoch: 8 [12800/60000 (21%)]\tLoss: 0.000237\n",
            "Train Epoch: 8 [25600/60000 (43%)]\tLoss: 0.001755\n",
            "Train Epoch: 8 [38400/60000 (64%)]\tLoss: 0.000085\n",
            "Train Epoch: 8 [51200/60000 (85%)]\tLoss: 0.000043\n",
            "\n",
            "Test set: Avg. loss: 0.0332, Accuracy: 9908/10000 (99%)\n",
            "\n",
            "tensor([0.4805], device='cuda:0', grad_fn=<DivBackward0>)\n",
            "tensor([0.4951], device='cuda:0', grad_fn=<DivBackward0>)\n",
            "tensor([0.0244], device='cuda:0', grad_fn=<DivBackward0>)\n",
            "tensor([0.0162], device='cuda:0', grad_fn=<DivBackward0>)\n",
            "tensor([0.5024], device='cuda:0', grad_fn=<DivBackward0>)\n",
            "tensor([0.4814], device='cuda:0', grad_fn=<DivBackward0>)\n",
            "Train Epoch: 9 [0/60000 (0%)]\tLoss: 0.000089\n",
            "Train Epoch: 9 [12800/60000 (21%)]\tLoss: 0.001410\n",
            "Train Epoch: 9 [25600/60000 (43%)]\tLoss: 0.000358\n",
            "Train Epoch: 9 [38400/60000 (64%)]\tLoss: 0.000009\n",
            "Train Epoch: 9 [51200/60000 (85%)]\tLoss: 0.000070\n",
            "\n",
            "Test set: Avg. loss: 0.0334, Accuracy: 9903/10000 (99%)\n",
            "\n",
            "tensor([0.5214], device='cuda:0', grad_fn=<DivBackward0>)\n",
            "tensor([0.4587], device='cuda:0', grad_fn=<DivBackward0>)\n",
            "tensor([0.0199], device='cuda:0', grad_fn=<DivBackward0>)\n",
            "tensor([0.0098], device='cuda:0', grad_fn=<DivBackward0>)\n",
            "tensor([0.5453], device='cuda:0', grad_fn=<DivBackward0>)\n",
            "tensor([0.4449], device='cuda:0', grad_fn=<DivBackward0>)\n",
            "Train Epoch: 10 [0/60000 (0%)]\tLoss: 0.000131\n",
            "Train Epoch: 10 [12800/60000 (21%)]\tLoss: 0.000812\n",
            "Train Epoch: 10 [25600/60000 (43%)]\tLoss: 0.028190\n",
            "Train Epoch: 10 [38400/60000 (64%)]\tLoss: 0.000298\n",
            "Train Epoch: 10 [51200/60000 (85%)]\tLoss: 0.000616\n",
            "\n",
            "Test set: Avg. loss: 0.0332, Accuracy: 9909/10000 (99%)\n",
            "\n",
            "tensor([0.4628], device='cuda:0', grad_fn=<DivBackward0>)\n",
            "tensor([0.5046], device='cuda:0', grad_fn=<DivBackward0>)\n",
            "tensor([0.0326], device='cuda:0', grad_fn=<DivBackward0>)\n",
            "tensor([0.0144], device='cuda:0', grad_fn=<DivBackward0>)\n",
            "tensor([0.5383], device='cuda:0', grad_fn=<DivBackward0>)\n",
            "tensor([0.4473], device='cuda:0', grad_fn=<DivBackward0>)\n",
            "Train Epoch: 11 [0/60000 (0%)]\tLoss: 0.000381\n",
            "Train Epoch: 11 [12800/60000 (21%)]\tLoss: 0.001555\n",
            "Train Epoch: 11 [25600/60000 (43%)]\tLoss: 0.000033\n",
            "Train Epoch: 11 [38400/60000 (64%)]\tLoss: 0.000605\n",
            "Train Epoch: 11 [51200/60000 (85%)]\tLoss: 0.002489\n",
            "\n",
            "Test set: Avg. loss: 0.0327, Accuracy: 9911/10000 (99%)\n",
            "\n",
            "tensor([0.5342], device='cuda:0', grad_fn=<DivBackward0>)\n",
            "tensor([0.4181], device='cuda:0', grad_fn=<DivBackward0>)\n",
            "tensor([0.0477], device='cuda:0', grad_fn=<DivBackward0>)\n",
            "tensor([0.0177], device='cuda:0', grad_fn=<DivBackward0>)\n",
            "tensor([0.4866], device='cuda:0', grad_fn=<DivBackward0>)\n",
            "tensor([0.4956], device='cuda:0', grad_fn=<DivBackward0>)\n",
            "Train Epoch: 12 [0/60000 (0%)]\tLoss: 0.000508\n",
            "Train Epoch: 12 [12800/60000 (21%)]\tLoss: 0.005384\n",
            "Train Epoch: 12 [25600/60000 (43%)]\tLoss: 0.000035\n",
            "Train Epoch: 12 [38400/60000 (64%)]\tLoss: 0.000426\n",
            "Train Epoch: 12 [51200/60000 (85%)]\tLoss: 0.012286\n",
            "\n",
            "Test set: Avg. loss: 0.0326, Accuracy: 9905/10000 (99%)\n",
            "\n",
            "tensor([0.5073], device='cuda:0', grad_fn=<DivBackward0>)\n",
            "tensor([0.4741], device='cuda:0', grad_fn=<DivBackward0>)\n",
            "tensor([0.0186], device='cuda:0', grad_fn=<DivBackward0>)\n",
            "tensor([0.], device='cuda:0', grad_fn=<DivBackward0>)\n",
            "tensor([0.5033], device='cuda:0', grad_fn=<DivBackward0>)\n",
            "tensor([0.4967], device='cuda:0', grad_fn=<DivBackward0>)\n",
            "Train Epoch: 13 [0/60000 (0%)]\tLoss: 0.000355\n",
            "Train Epoch: 13 [12800/60000 (21%)]\tLoss: 0.000300\n",
            "Train Epoch: 13 [25600/60000 (43%)]\tLoss: 0.000351\n",
            "Train Epoch: 13 [38400/60000 (64%)]\tLoss: 0.000244\n",
            "Train Epoch: 13 [51200/60000 (85%)]\tLoss: 0.003655\n",
            "\n",
            "Test set: Avg. loss: 0.0333, Accuracy: 9904/10000 (99%)\n",
            "\n",
            "tensor([0.4979], device='cuda:0', grad_fn=<DivBackward0>)\n",
            "tensor([0.4616], device='cuda:0', grad_fn=<DivBackward0>)\n",
            "tensor([0.0405], device='cuda:0', grad_fn=<DivBackward0>)\n",
            "tensor([0.0409], device='cuda:0', grad_fn=<DivBackward0>)\n",
            "tensor([0.5259], device='cuda:0', grad_fn=<DivBackward0>)\n",
            "tensor([0.4331], device='cuda:0', grad_fn=<DivBackward0>)\n",
            "Train Epoch: 14 [0/60000 (0%)]\tLoss: 0.003312\n",
            "Train Epoch: 14 [12800/60000 (21%)]\tLoss: 0.025735\n",
            "Train Epoch: 14 [25600/60000 (43%)]\tLoss: 0.001804\n",
            "Train Epoch: 14 [38400/60000 (64%)]\tLoss: 0.000215\n",
            "Train Epoch: 14 [51200/60000 (85%)]\tLoss: 0.011898\n",
            "\n",
            "Test set: Avg. loss: 0.0330, Accuracy: 9906/10000 (99%)\n",
            "\n",
            "tensor([0.4620], device='cuda:0', grad_fn=<DivBackward0>)\n",
            "tensor([0.5121], device='cuda:0', grad_fn=<DivBackward0>)\n",
            "tensor([0.0259], device='cuda:0', grad_fn=<DivBackward0>)\n",
            "tensor([0.0345], device='cuda:0', grad_fn=<DivBackward0>)\n",
            "tensor([0.4961], device='cuda:0', grad_fn=<DivBackward0>)\n",
            "tensor([0.4694], device='cuda:0', grad_fn=<DivBackward0>)\n",
            "Train Epoch: 15 [0/60000 (0%)]\tLoss: 0.000150\n",
            "Train Epoch: 15 [12800/60000 (21%)]\tLoss: 0.001194\n",
            "Train Epoch: 15 [25600/60000 (43%)]\tLoss: 0.082371\n",
            "Train Epoch: 15 [38400/60000 (64%)]\tLoss: 0.000717\n",
            "Train Epoch: 15 [51200/60000 (85%)]\tLoss: 0.000035\n",
            "\n",
            "Test set: Avg. loss: 0.0335, Accuracy: 9907/10000 (99%)\n",
            "\n",
            "tensor([0.4925], device='cuda:0', grad_fn=<DivBackward0>)\n",
            "tensor([0.4688], device='cuda:0', grad_fn=<DivBackward0>)\n",
            "tensor([0.0387], device='cuda:0', grad_fn=<DivBackward0>)\n",
            "tensor([0.0077], device='cuda:0', grad_fn=<DivBackward0>)\n",
            "tensor([0.4566], device='cuda:0', grad_fn=<DivBackward0>)\n",
            "tensor([0.5356], device='cuda:0', grad_fn=<DivBackward0>)\n",
            "Train Epoch: 16 [0/60000 (0%)]\tLoss: 0.000657\n",
            "Train Epoch: 16 [12800/60000 (21%)]\tLoss: 0.000905\n",
            "Train Epoch: 16 [25600/60000 (43%)]\tLoss: 0.000766\n",
            "Train Epoch: 16 [38400/60000 (64%)]\tLoss: 0.000342\n",
            "Train Epoch: 16 [51200/60000 (85%)]\tLoss: 0.016402\n",
            "\n",
            "Test set: Avg. loss: 0.0329, Accuracy: 9907/10000 (99%)\n",
            "\n",
            "tensor([0.5387], device='cuda:0', grad_fn=<DivBackward0>)\n",
            "tensor([0.4173], device='cuda:0', grad_fn=<DivBackward0>)\n",
            "tensor([0.0440], device='cuda:0', grad_fn=<DivBackward0>)\n",
            "tensor([0.0233], device='cuda:0', grad_fn=<DivBackward0>)\n",
            "tensor([0.4948], device='cuda:0', grad_fn=<DivBackward0>)\n",
            "tensor([0.4819], device='cuda:0', grad_fn=<DivBackward0>)\n",
            "Train Epoch: 17 [0/60000 (0%)]\tLoss: 0.001143\n",
            "Train Epoch: 17 [12800/60000 (21%)]\tLoss: 0.000192\n",
            "Train Epoch: 17 [25600/60000 (43%)]\tLoss: 0.000075\n",
            "Train Epoch: 17 [38400/60000 (64%)]\tLoss: 0.001181\n",
            "Train Epoch: 17 [51200/60000 (85%)]\tLoss: 0.020347\n",
            "\n",
            "Test set: Avg. loss: 0.0336, Accuracy: 9904/10000 (99%)\n",
            "\n",
            "tensor([0.4939], device='cuda:0', grad_fn=<DivBackward0>)\n",
            "tensor([0.4534], device='cuda:0', grad_fn=<DivBackward0>)\n",
            "tensor([0.0527], device='cuda:0', grad_fn=<DivBackward0>)\n",
            "tensor([0.0081], device='cuda:0', grad_fn=<DivBackward0>)\n",
            "tensor([0.4775], device='cuda:0', grad_fn=<DivBackward0>)\n",
            "tensor([0.5144], device='cuda:0', grad_fn=<DivBackward0>)\n",
            "Train Epoch: 18 [0/60000 (0%)]\tLoss: 0.000254\n",
            "Train Epoch: 18 [12800/60000 (21%)]\tLoss: 0.004418\n",
            "Train Epoch: 18 [25600/60000 (43%)]\tLoss: 0.000597\n",
            "Train Epoch: 18 [38400/60000 (64%)]\tLoss: 0.003274\n",
            "Train Epoch: 18 [51200/60000 (85%)]\tLoss: 0.002111\n",
            "\n",
            "Test set: Avg. loss: 0.0336, Accuracy: 9906/10000 (99%)\n",
            "\n",
            "tensor([0.4758], device='cuda:0', grad_fn=<DivBackward0>)\n",
            "tensor([0.4533], device='cuda:0', grad_fn=<DivBackward0>)\n",
            "tensor([0.0709], device='cuda:0', grad_fn=<DivBackward0>)\n",
            "tensor([0.0445], device='cuda:0', grad_fn=<DivBackward0>)\n",
            "tensor([0.4935], device='cuda:0', grad_fn=<DivBackward0>)\n",
            "tensor([0.4621], device='cuda:0', grad_fn=<DivBackward0>)\n",
            "Train Epoch: 19 [0/60000 (0%)]\tLoss: 0.000020\n",
            "Train Epoch: 19 [12800/60000 (21%)]\tLoss: 0.027858\n",
            "Train Epoch: 19 [25600/60000 (43%)]\tLoss: 0.001641\n",
            "Train Epoch: 19 [38400/60000 (64%)]\tLoss: 0.000580\n",
            "Train Epoch: 19 [51200/60000 (85%)]\tLoss: 0.002037\n",
            "\n",
            "Test set: Avg. loss: 0.0324, Accuracy: 9911/10000 (99%)\n",
            "\n",
            "tensor([0.5057], device='cuda:0', grad_fn=<DivBackward0>)\n",
            "tensor([0.4380], device='cuda:0', grad_fn=<DivBackward0>)\n",
            "tensor([0.0563], device='cuda:0', grad_fn=<DivBackward0>)\n",
            "tensor([0.0188], device='cuda:0', grad_fn=<DivBackward0>)\n",
            "tensor([0.5502], device='cuda:0', grad_fn=<DivBackward0>)\n",
            "tensor([0.4311], device='cuda:0', grad_fn=<DivBackward0>)\n",
            "Train Epoch: 20 [0/60000 (0%)]\tLoss: 0.000867\n",
            "Train Epoch: 20 [12800/60000 (21%)]\tLoss: 0.000953\n",
            "Train Epoch: 20 [25600/60000 (43%)]\tLoss: 0.001103\n",
            "Train Epoch: 20 [38400/60000 (64%)]\tLoss: 0.000619\n",
            "Train Epoch: 20 [51200/60000 (85%)]\tLoss: 0.000339\n",
            "\n",
            "Test set: Avg. loss: 0.0332, Accuracy: 9907/10000 (99%)\n",
            "\n",
            "tensor([0.4848], device='cuda:0', grad_fn=<DivBackward0>)\n",
            "tensor([0.4437], device='cuda:0', grad_fn=<DivBackward0>)\n",
            "tensor([0.0715], device='cuda:0', grad_fn=<DivBackward0>)\n",
            "tensor([0.0276], device='cuda:0', grad_fn=<DivBackward0>)\n",
            "tensor([0.4923], device='cuda:0', grad_fn=<DivBackward0>)\n",
            "tensor([0.4800], device='cuda:0', grad_fn=<DivBackward0>)\n",
            "Train Epoch: 1 [0/60000 (0%)]\tLoss: 0.000552\n",
            "Train Epoch: 1 [12800/60000 (21%)]\tLoss: 0.000469\n",
            "Train Epoch: 1 [25600/60000 (43%)]\tLoss: 0.000177\n",
            "Train Epoch: 1 [38400/60000 (64%)]\tLoss: 0.012711\n",
            "Train Epoch: 1 [51200/60000 (85%)]\tLoss: 0.000284\n",
            "\n",
            "Test set: Avg. loss: 0.0290, Accuracy: 9914/10000 (99%)\n",
            "\n",
            "tensor([0.4848], device='cuda:0', grad_fn=<DivBackward0>)\n",
            "tensor([0.4437], device='cuda:0', grad_fn=<DivBackward0>)\n",
            "tensor([0.0715], device='cuda:0', grad_fn=<DivBackward0>)\n",
            "tensor([0.0276], device='cuda:0', grad_fn=<DivBackward0>)\n",
            "tensor([0.4923], device='cuda:0', grad_fn=<DivBackward0>)\n",
            "tensor([0.4800], device='cuda:0', grad_fn=<DivBackward0>)\n",
            "Train Epoch: 2 [0/60000 (0%)]\tLoss: 0.002040\n",
            "Train Epoch: 2 [12800/60000 (21%)]\tLoss: 0.000077\n",
            "Train Epoch: 2 [25600/60000 (43%)]\tLoss: 0.000256\n",
            "Train Epoch: 2 [38400/60000 (64%)]\tLoss: 0.002305\n",
            "Train Epoch: 2 [51200/60000 (85%)]\tLoss: 0.000048\n",
            "\n",
            "Test set: Avg. loss: 0.0399, Accuracy: 9884/10000 (99%)\n",
            "\n",
            "tensor([0.4848], device='cuda:0', grad_fn=<DivBackward0>)\n",
            "tensor([0.4437], device='cuda:0', grad_fn=<DivBackward0>)\n",
            "tensor([0.0715], device='cuda:0', grad_fn=<DivBackward0>)\n",
            "tensor([0.0276], device='cuda:0', grad_fn=<DivBackward0>)\n",
            "tensor([0.4923], device='cuda:0', grad_fn=<DivBackward0>)\n",
            "tensor([0.4800], device='cuda:0', grad_fn=<DivBackward0>)\n",
            "Train Epoch: 3 [0/60000 (0%)]\tLoss: 0.000351\n",
            "Train Epoch: 3 [12800/60000 (21%)]\tLoss: 0.000247\n",
            "Train Epoch: 3 [25600/60000 (43%)]\tLoss: 0.003514\n",
            "Train Epoch: 3 [38400/60000 (64%)]\tLoss: 0.000641\n",
            "Train Epoch: 3 [51200/60000 (85%)]\tLoss: 0.000806\n",
            "\n",
            "Test set: Avg. loss: 0.0334, Accuracy: 9916/10000 (99%)\n",
            "\n",
            "tensor([0.4848], device='cuda:0', grad_fn=<DivBackward0>)\n",
            "tensor([0.4437], device='cuda:0', grad_fn=<DivBackward0>)\n",
            "tensor([0.0715], device='cuda:0', grad_fn=<DivBackward0>)\n",
            "tensor([0.0276], device='cuda:0', grad_fn=<DivBackward0>)\n",
            "tensor([0.4923], device='cuda:0', grad_fn=<DivBackward0>)\n",
            "tensor([0.4800], device='cuda:0', grad_fn=<DivBackward0>)\n",
            "Train Epoch: 4 [0/60000 (0%)]\tLoss: 0.000554\n",
            "Train Epoch: 4 [12800/60000 (21%)]\tLoss: 0.002384\n",
            "Train Epoch: 4 [25600/60000 (43%)]\tLoss: 0.000087\n",
            "Train Epoch: 4 [38400/60000 (64%)]\tLoss: 0.000094\n",
            "Train Epoch: 4 [51200/60000 (85%)]\tLoss: 0.000401\n",
            "\n",
            "Test set: Avg. loss: 0.0413, Accuracy: 9905/10000 (99%)\n",
            "\n",
            "tensor([0.4848], device='cuda:0', grad_fn=<DivBackward0>)\n",
            "tensor([0.4437], device='cuda:0', grad_fn=<DivBackward0>)\n",
            "tensor([0.0715], device='cuda:0', grad_fn=<DivBackward0>)\n",
            "tensor([0.0276], device='cuda:0', grad_fn=<DivBackward0>)\n",
            "tensor([0.4923], device='cuda:0', grad_fn=<DivBackward0>)\n",
            "tensor([0.4800], device='cuda:0', grad_fn=<DivBackward0>)\n",
            "Train Epoch: 5 [0/60000 (0%)]\tLoss: 0.000068\n",
            "Train Epoch: 5 [12800/60000 (21%)]\tLoss: 0.081964\n",
            "Train Epoch: 5 [25600/60000 (43%)]\tLoss: 0.000038\n",
            "Train Epoch: 5 [38400/60000 (64%)]\tLoss: 0.000090\n",
            "Train Epoch: 5 [51200/60000 (85%)]\tLoss: 0.005289\n",
            "\n",
            "Test set: Avg. loss: 0.0390, Accuracy: 9914/10000 (99%)\n",
            "\n",
            "tensor([0.4848], device='cuda:0', grad_fn=<DivBackward0>)\n",
            "tensor([0.4437], device='cuda:0', grad_fn=<DivBackward0>)\n",
            "tensor([0.0715], device='cuda:0', grad_fn=<DivBackward0>)\n",
            "tensor([0.0276], device='cuda:0', grad_fn=<DivBackward0>)\n",
            "tensor([0.4923], device='cuda:0', grad_fn=<DivBackward0>)\n",
            "tensor([0.4800], device='cuda:0', grad_fn=<DivBackward0>)\n",
            "Train Epoch: 6 [0/60000 (0%)]\tLoss: 0.000103\n",
            "Train Epoch: 6 [12800/60000 (21%)]\tLoss: 0.000004\n",
            "Train Epoch: 6 [25600/60000 (43%)]\tLoss: 0.000047\n",
            "Train Epoch: 6 [38400/60000 (64%)]\tLoss: 0.000458\n",
            "Train Epoch: 6 [51200/60000 (85%)]\tLoss: 0.000135\n",
            "\n",
            "Test set: Avg. loss: 0.0307, Accuracy: 9925/10000 (99%)\n",
            "\n",
            "tensor([0.4848], device='cuda:0', grad_fn=<DivBackward0>)\n",
            "tensor([0.4437], device='cuda:0', grad_fn=<DivBackward0>)\n",
            "tensor([0.0715], device='cuda:0', grad_fn=<DivBackward0>)\n",
            "tensor([0.0276], device='cuda:0', grad_fn=<DivBackward0>)\n",
            "tensor([0.4923], device='cuda:0', grad_fn=<DivBackward0>)\n",
            "tensor([0.4800], device='cuda:0', grad_fn=<DivBackward0>)\n",
            "Train Epoch: 7 [0/60000 (0%)]\tLoss: 0.000310\n",
            "Train Epoch: 7 [12800/60000 (21%)]\tLoss: 0.004884\n",
            "Train Epoch: 7 [25600/60000 (43%)]\tLoss: 0.004906\n",
            "Train Epoch: 7 [38400/60000 (64%)]\tLoss: 0.002311\n",
            "Train Epoch: 7 [51200/60000 (85%)]\tLoss: 0.000015\n",
            "\n",
            "Test set: Avg. loss: 0.0304, Accuracy: 9926/10000 (99%)\n",
            "\n",
            "tensor([0.4848], device='cuda:0', grad_fn=<DivBackward0>)\n",
            "tensor([0.4437], device='cuda:0', grad_fn=<DivBackward0>)\n",
            "tensor([0.0715], device='cuda:0', grad_fn=<DivBackward0>)\n",
            "tensor([0.0276], device='cuda:0', grad_fn=<DivBackward0>)\n",
            "tensor([0.4923], device='cuda:0', grad_fn=<DivBackward0>)\n",
            "tensor([0.4800], device='cuda:0', grad_fn=<DivBackward0>)\n",
            "Train Epoch: 8 [0/60000 (0%)]\tLoss: 0.000370\n",
            "Train Epoch: 8 [12800/60000 (21%)]\tLoss: 0.000004\n",
            "Train Epoch: 8 [25600/60000 (43%)]\tLoss: 0.000228\n",
            "Train Epoch: 8 [38400/60000 (64%)]\tLoss: 0.000180\n",
            "Train Epoch: 8 [51200/60000 (85%)]\tLoss: 0.000082\n",
            "\n",
            "Test set: Avg. loss: 0.0416, Accuracy: 9916/10000 (99%)\n",
            "\n",
            "tensor([0.4848], device='cuda:0', grad_fn=<DivBackward0>)\n",
            "tensor([0.4437], device='cuda:0', grad_fn=<DivBackward0>)\n",
            "tensor([0.0715], device='cuda:0', grad_fn=<DivBackward0>)\n",
            "tensor([0.0276], device='cuda:0', grad_fn=<DivBackward0>)\n",
            "tensor([0.4923], device='cuda:0', grad_fn=<DivBackward0>)\n",
            "tensor([0.4800], device='cuda:0', grad_fn=<DivBackward0>)\n",
            "Train Epoch: 9 [0/60000 (0%)]\tLoss: 0.000047\n",
            "Train Epoch: 9 [12800/60000 (21%)]\tLoss: 0.000990\n",
            "Train Epoch: 9 [25600/60000 (43%)]\tLoss: 0.000373\n",
            "Train Epoch: 9 [38400/60000 (64%)]\tLoss: 0.000252\n",
            "Train Epoch: 9 [51200/60000 (85%)]\tLoss: 0.000270\n",
            "\n",
            "Test set: Avg. loss: 0.0425, Accuracy: 9910/10000 (99%)\n",
            "\n",
            "tensor([0.4848], device='cuda:0', grad_fn=<DivBackward0>)\n",
            "tensor([0.4437], device='cuda:0', grad_fn=<DivBackward0>)\n",
            "tensor([0.0715], device='cuda:0', grad_fn=<DivBackward0>)\n",
            "tensor([0.0276], device='cuda:0', grad_fn=<DivBackward0>)\n",
            "tensor([0.4923], device='cuda:0', grad_fn=<DivBackward0>)\n",
            "tensor([0.4800], device='cuda:0', grad_fn=<DivBackward0>)\n",
            "Train Epoch: 10 [0/60000 (0%)]\tLoss: 0.000038\n",
            "Train Epoch: 10 [12800/60000 (21%)]\tLoss: 0.000130\n",
            "Train Epoch: 10 [25600/60000 (43%)]\tLoss: 0.000118\n",
            "Train Epoch: 10 [38400/60000 (64%)]\tLoss: 0.000441\n",
            "Train Epoch: 10 [51200/60000 (85%)]\tLoss: 0.000746\n",
            "\n",
            "Test set: Avg. loss: 0.0299, Accuracy: 9926/10000 (99%)\n",
            "\n",
            "tensor([0.4848], device='cuda:0', grad_fn=<DivBackward0>)\n",
            "tensor([0.4437], device='cuda:0', grad_fn=<DivBackward0>)\n",
            "tensor([0.0715], device='cuda:0', grad_fn=<DivBackward0>)\n",
            "tensor([0.0276], device='cuda:0', grad_fn=<DivBackward0>)\n",
            "tensor([0.4923], device='cuda:0', grad_fn=<DivBackward0>)\n",
            "tensor([0.4800], device='cuda:0', grad_fn=<DivBackward0>)\n"
          ]
        }
      ],
      "source": [
        "optimizer = torch.optim.Adam(\n",
        "    [\n",
        "        {\"params\": network.conv1.parameters(), \"lr\": 1e-3},\n",
        "        {\"params\": network.conv2.parameters(), \"lr\": 1e-3},\n",
        "        {\"params\": network.bn1.parameters(), \"lr\": 1e-3},\n",
        "        {\"params\": network.bn2.parameters(), \"lr\": 1e-3},\n",
        "        {\"params\": network.bn3.parameters(), \"lr\": 1e-3},\n",
        "        {\"params\": network.fc1.parameters(), \"lr\": 1e-3},\n",
        "        {\"params\": network.fc2.parameters(), \"lr\": 1e-3},\n",
        "        {\"params\": network.w1_1},\n",
        "        {\"params\": network.w2_1},\n",
        "        {\"params\": network.w3_1},\n",
        "        {\"params\": network.w1_2},\n",
        "        {\"params\": network.w2_2},\n",
        "        {\"params\": network.w3_2},\n",
        "        {\"params\": network.w1_3},\n",
        "        {\"params\": network.w2_3},\n",
        "        {\"params\": network.w3_3},\n",
        "        \n",
        "    ],\n",
        "    lr=0,\n",
        ")\n",
        "for epoch in range(1, 10 + 1):\n",
        "  train(epoch)\n",
        "  test()\n",
        "optimizer = torch.optim.Adam(\n",
        "    [\n",
        "        {\"params\": network.conv1.parameters(), \"lr\": 0},\n",
        "        {\"params\": network.conv2.parameters(), \"lr\": 0},\n",
        "        {\"params\": network.bn1.parameters(), \"lr\":0},\n",
        "        {\"params\": network.bn2.parameters(), \"lr\": 0},\n",
        "        {\"params\": network.bn3.parameters(), \"lr\": 0},\n",
        "        {\"params\": network.fc1.parameters(), \"lr\": 0},\n",
        "        {\"params\": network.fc2.parameters(), \"lr\": 0},\n",
        "        {\"params\": network.w1_1},\n",
        "        {\"params\": network.w2_1},\n",
        "        {\"params\": network.w3_1},\n",
        "        {\"params\": network.w1_2},\n",
        "        {\"params\": network.w2_2},\n",
        "        {\"params\": network.w3_2},\n",
        "        {\"params\": network.w1_3},\n",
        "        {\"params\": network.w2_3},\n",
        "        {\"params\": network.w3_3},\n",
        "        \n",
        "    ],\n",
        "    lr=1e-2,\n",
        ")\n",
        "for epoch in range(1, 20 + 1):\n",
        "  train(epoch)\n",
        "  test()\n",
        "optimizer = torch.optim.Adam(\n",
        "    [\n",
        "        {\"params\": network.conv1.parameters(), \"lr\": 1e-3},\n",
        "        {\"params\": network.conv2.parameters(), \"lr\": 1e-3},\n",
        "        {\"params\": network.bn1.parameters(), \"lr\": 1e-3},\n",
        "        {\"params\": network.bn2.parameters(), \"lr\": 1e-3},\n",
        "        {\"params\": network.bn3.parameters(), \"lr\": 1e-3},\n",
        "        {\"params\": network.fc1.parameters(), \"lr\": 1e-3},\n",
        "        {\"params\": network.fc2.parameters(), \"lr\": 1e-3},\n",
        "        {\"params\": network.w1_1, \"lr\": 0},\n",
        "        {\"params\": network.w2_1, \"lr\": 0},\n",
        "        {\"params\": network.w3_1, \"lr\": 0},\n",
        "        {\"params\": network.w1_2, \"lr\": 0},\n",
        "        {\"params\": network.w2_2, \"lr\": 0},\n",
        "        {\"params\": network.w3_2, \"lr\": 0},\n",
        "        {\"params\": network.w1_3, \"lr\": 0},\n",
        "        {\"params\": network.w2_3, \"lr\": 0},\n",
        "        {\"params\": network.w3_3, \"lr\": 0},\n",
        "        \n",
        "    ],\n",
        "    lr=1e-4,\n",
        ")\n",
        "for epoch in range(1, 10 + 1):\n",
        "  train(epoch)\n",
        "  test()"
      ]
    },
    {
      "cell_type": "code",
      "execution_count": null,
      "metadata": {
        "id": "xpzvtq4lRi55"
      },
      "outputs": [],
      "source": [
        "torch.save(network, 'MNIST.pth')"
      ]
    },
    {
      "cell_type": "code",
      "execution_count": null,
      "metadata": {
        "colab": {
          "base_uri": "https://localhost:8080/"
        },
        "id": "1GgLncZcRi56",
        "outputId": "7d66d7e9-b621-4a25-cd53-2942b62ba9b8"
      },
      "outputs": [
        {
          "output_type": "execute_result",
          "data": {
            "text/plain": [
              "Net(\n",
              "  (conv1): Conv2d(1, 20, kernel_size=(5, 5), stride=(1, 1))\n",
              "  (bn1): BatchNorm2d(20, eps=1e-05, momentum=0.1, affine=True, track_running_stats=True)\n",
              "  (conv2): Conv2d(20, 50, kernel_size=(5, 5), stride=(1, 1))\n",
              "  (bn2): BatchNorm2d(50, eps=1e-05, momentum=0.1, affine=True, track_running_stats=True)\n",
              "  (fc1): Linear(in_features=800, out_features=500, bias=True)\n",
              "  (bn3): BatchNorm1d(500, eps=1e-05, momentum=0.1, affine=True, track_running_stats=True)\n",
              "  (fc2): Linear(in_features=500, out_features=10, bias=True)\n",
              ")"
            ]
          },
          "metadata": {},
          "execution_count": 15
        }
      ],
      "source": [
        "\n",
        "\n",
        "network = torch.load('MNIST.pth')\n",
        "network.eval()"
      ]
    },
    {
      "cell_type": "code",
      "execution_count": null,
      "metadata": {
        "colab": {
          "base_uri": "https://localhost:8080/",
          "height": 876
        },
        "id": "VwW6b-ygRi57",
        "outputId": "3a548bbf-9c71-466b-a346-fe83884a51f7"
      },
      "outputs": [
        {
          "output_type": "stream",
          "name": "stderr",
          "text": [
            "/usr/local/lib/python3.7/dist-packages/torch/nn/functional.py:1795: UserWarning: nn.functional.tanh is deprecated. Use torch.tanh instead.\n",
            "  warnings.warn(\"nn.functional.tanh is deprecated. Use torch.tanh instead.\")\n"
          ]
        },
        {
          "output_type": "display_data",
          "data": {
            "image/png": "[encoded data removed]",
            "text/plain": [
              "<Figure size 432x288 with 1 Axes>"
            ]
          },
          "metadata": {}
        },
        {
          "output_type": "stream",
          "name": "stderr",
          "text": [
            "/usr/local/lib/python3.7/dist-packages/torch/nn/functional.py:1795: UserWarning: nn.functional.tanh is deprecated. Use torch.tanh instead.\n",
            "  warnings.warn(\"nn.functional.tanh is deprecated. Use torch.tanh instead.\")\n"
          ]
        },
        {
          "output_type": "display_data",
          "data": {
            "image/png": "[encoded data removed]",
            "text/plain": [
              "<Figure size 432x288 with 1 Axes>"
            ]
          },
          "metadata": {}
        },
        {
          "output_type": "stream",
          "name": "stderr",
          "text": [
            "/usr/local/lib/python3.7/dist-packages/torch/nn/functional.py:1795: UserWarning: nn.functional.tanh is deprecated. Use torch.tanh instead.\n",
            "  warnings.warn(\"nn.functional.tanh is deprecated. Use torch.tanh instead.\")\n"
          ]
        },
        {
          "output_type": "display_data",
          "data": {
            "image/png": "[encoded data removed]",
            "text/plain": [
              "<Figure size 432x288 with 1 Axes>"
            ]
          },
          "metadata": {}
        }
      ],
      "source": [
        "network.cpu()\n",
        "import seaborn as sns\n",
        "sns.set()\n",
        "x = torch.Tensor(np.linspace(-3, 3))\n",
        "plt.plot(x.cpu().detach().numpy(),(network.w1_1*F.relu(x)+network.w2_1*F.tanh(x)+network.w3_1*torch.sin(x)).detach().numpy()/(network.w1_1+network.w2_1+network.w3_1+1e-5).cpu().detach().numpy())\n",
        "#plt.yscale('log')\n",
        "plt.show()\n",
        "plt.plot(x.cpu().detach().numpy(),(network.w1_2*F.relu(x)+network.w2_2*F.tanh(x)+network.w3_2*torch.sin(x)).detach().numpy()/(network.w1_2+network.w2_2+network.w3_2+1e-5).cpu().detach().numpy())\n",
        "plt.show()\n",
        "plt.plot(x.cpu().detach().numpy(),(network.w1_3*F.relu(x)+network.w2_3*F.tanh(x)+network.w3_3*torch.sin(x)).detach().numpy()/(network.w1_3+network.w2_3+network.w3_3+1e-5).cpu().detach().numpy())\n",
        "plt.show()\n",
        "\n"
      ]
    },
    {
      "cell_type": "code",
      "execution_count": null,
      "metadata": {
        "colab": {
          "base_uri": "https://localhost:8080/",
          "height": 553
        },
        "id": "pjmztxHY6XpE",
        "outputId": "1da5b35a-d535-495b-d348-73e0cddf67d2"
      },
      "outputs": [
        {
          "output_type": "execute_result",
          "data": {
            "image/png": "[encoded data removed]",
            "text/plain": [
              "<Figure size 432x288 with 1 Axes>"
            ]
          },
          "metadata": {},
          "execution_count": 17
        },
        {
          "output_type": "display_data",
          "data": {
            "image/png": "[encoded data removed]",
            "text/plain": [
              "<Figure size 432x288 with 1 Axes>"
            ]
          },
          "metadata": {}
        }
      ],
      "source": [
        "fig = plt.figure()\n",
        "plt.plot(train_counter, train_losses, color='blue')\n",
        "\n",
        "train_losses1=train_losses\n",
        "plt.legend(['Train Loss', 'Test Loss'], loc='upper right')\n",
        "plt.xlabel('Number of Training Examples Seen')\n",
        "plt.ylabel('Negative Log Likelihood Loss')\n",
        "fig"
      ]
    },
    {
      "cell_type": "code",
      "execution_count": null,
      "metadata": {
        "colab": {
          "base_uri": "https://localhost:8080/",
          "height": 553
        },
        "id": "lHAdEj5hRi58",
        "outputId": "676979b0-61d8-4430-9867-8e1665332195"
      },
      "outputs": [
        {
          "output_type": "execute_result",
          "data": {
            "image/png": "[encoded data removed]",
            "text/plain": [
              "<Figure size 432x288 with 1 Axes>"
            ]
          },
          "metadata": {},
          "execution_count": 18
        },
        {
          "output_type": "display_data",
          "data": {
            "image/png": "[encoded data removed]",
            "text/plain": [
              "<Figure size 432x288 with 1 Axes>"
            ]
          },
          "metadata": {}
        }
      ],
      "source": [
        "fig = plt.figure()\n",
        "plt.plot(train_losses, color='blue')\n",
        "plt.plot( test_losses, color='red')\n",
        "train_losses1=train_losses\n",
        "plt.legend(['Train Loss', 'Test Loss'], loc='upper right')\n",
        "plt.xlabel('Number of Training Examples Seen')\n",
        "plt.ylabel('Negative Log Likelihood Loss')\n",
        "fig"
      ]
    },
    {
      "cell_type": "code",
      "execution_count": null,
      "metadata": {
        "colab": {
          "base_uri": "https://localhost:8080/"
        },
        "id": "GS59whbp8DaA",
        "outputId": "21b052e5-020d-4603-96a7-d4047a492b68"
      },
      "outputs": [
        {
          "output_type": "stream",
          "name": "stderr",
          "text": [
            "/usr/local/lib/python3.7/dist-packages/torch/nn/functional.py:1795: UserWarning: nn.functional.tanh is deprecated. Use torch.tanh instead.\n",
            "  warnings.warn(\"nn.functional.tanh is deprecated. Use torch.tanh instead.\")\n"
          ]
        }
      ],
      "source": [
        "with torch.no_grad():\n",
        "  output = network(example_data)"
      ]
    },
    {
      "cell_type": "code",
      "execution_count": null,
      "metadata": {
        "colab": {
          "base_uri": "https://localhost:8080/",
          "height": 529
        },
        "id": "NkitMzx696D0",
        "outputId": "34821795-0184-450f-d1f1-6aec42dafcdd"
      },
      "outputs": [
        {
          "output_type": "execute_result",
          "data": {
            "image/png": "[encoded data removed]",
            "text/plain": [
              "<Figure size 432x288 with 6 Axes>"
            ]
          },
          "metadata": {},
          "execution_count": 20
        },
        {
          "output_type": "display_data",
          "data": {
            "image/png": "[encoded data removed]",
            "text/plain": [
              "<Figure size 432x288 with 6 Axes>"
            ]
          },
          "metadata": {}
        }
      ],
      "source": [
        "fig = plt.figure()\n",
        "for i in range(6):\n",
        "  plt.subplot(2,3,i+1)\n",
        "  plt.tight_layout()\n",
        "  plt.imshow(example_data[i][0], cmap='gray', interpolation='none')\n",
        "  plt.title(\"Prediction: {}\".format(\n",
        "    output.data.max(1, keepdim=True)[1][i].item()))\n",
        "  plt.xticks([])\n",
        "  plt.yticks([])\n",
        "fig"
      ]
    },
    {
      "cell_type": "code",
      "source": [
        "network"
      ],
      "metadata": {
        "colab": {
          "base_uri": "https://localhost:8080/"
        },
        "id": "Mv1Ge2pVRoy4",
        "outputId": "9e0f3f7f-2a7b-4f3f-f791-72590ae835ba"
      },
      "execution_count": null,
      "outputs": [
        {
          "output_type": "execute_result",
          "data": {
            "text/plain": [
              "Net(\n",
              "  (conv1): Conv2d(1, 20, kernel_size=(5, 5), stride=(1, 1))\n",
              "  (bn1): BatchNorm2d(20, eps=1e-05, momentum=0.1, affine=True, track_running_stats=True)\n",
              "  (conv2): Conv2d(20, 50, kernel_size=(5, 5), stride=(1, 1))\n",
              "  (bn2): BatchNorm2d(50, eps=1e-05, momentum=0.1, affine=True, track_running_stats=True)\n",
              "  (fc1): Linear(in_features=800, out_features=500, bias=True)\n",
              "  (bn3): BatchNorm1d(500, eps=1e-05, momentum=0.1, affine=True, track_running_stats=True)\n",
              "  (fc2): Linear(in_features=500, out_features=10, bias=True)\n",
              ")"
            ]
          },
          "metadata": {},
          "execution_count": 21
        }
      ]
    },
    {
      "cell_type": "code",
      "source": [
        "x = torch.Tensor(np.linspace(-3, 3))\n",
        "plt.plot(x.cpu().detach().numpy(),(network.w1_1*F.relu(x)+network.w2_1*F.tanh(x)+network.w3_1*torch.sin(x)).detach().numpy()/(network.w1_1+network.w2_1+network.w3_1+1e-5).cpu().detach().numpy(),label='Layer 1')\n",
        "plt.plot(x.cpu().detach().numpy(),(network.w1_2*F.relu(x)+network.w2_2*F.tanh(x)+network.w3_2*torch.sin(x)).detach().numpy()/(network.w1_2+network.w2_2+network.w3_2+1e-5).cpu().detach().numpy(),label='Layer 2')\n",
        "plt.plot(x.cpu().detach().numpy(),(network.w1_3*F.relu(x)+network.w2_3*F.tanh(x)+network.w3_3*torch.sin(x)).detach().numpy()/(network.w1_3+network.w2_3+network.w3_3+1e-5).cpu().detach().numpy(),label='Layer 3')\n",
        "plt.legend(ncol=1, loc='upper left');\n",
        "plt.show()\n"
      ],
      "metadata": {
        "colab": {
          "base_uri": "https://localhost:8080/",
          "height": 372
        },
        "id": "99U4R8OHV6Tc",
        "outputId": "01e5a336-adda-48df-b387-3be83c48347d"
      },
      "execution_count": null,
      "outputs": [
        {
          "output_type": "stream",
          "name": "stderr",
          "text": [
            "/usr/local/lib/python3.7/dist-packages/torch/nn/functional.py:1795: UserWarning: nn.functional.tanh is deprecated. Use torch.tanh instead.\n",
            "  warnings.warn(\"nn.functional.tanh is deprecated. Use torch.tanh instead.\")\n",
            "/usr/local/lib/python3.7/dist-packages/torch/nn/functional.py:1795: UserWarning: nn.functional.tanh is deprecated. Use torch.tanh instead.\n",
            "  warnings.warn(\"nn.functional.tanh is deprecated. Use torch.tanh instead.\")\n",
            "/usr/local/lib/python3.7/dist-packages/torch/nn/functional.py:1795: UserWarning: nn.functional.tanh is deprecated. Use torch.tanh instead.\n",
            "  warnings.warn(\"nn.functional.tanh is deprecated. Use torch.tanh instead.\")\n"
          ]
        },
        {
          "output_type": "display_data",
          "data": {
            "image/png": "[encoded data removed]",
            "text/plain": [
              "<Figure size 432x288 with 1 Axes>"
            ]
          },
          "metadata": {}
        }
      ]
    },
    {
      "cell_type": "code",
      "source": [
        ""
      ],
      "metadata": {
        "id": "Gm37tFYYV8Om"
      },
      "execution_count": null,
      "outputs": []
    },
    {
      "cell_type": "code",
      "source": [
        "  print(network.w1_1/(network.w1_1+network.w2_1+network.w3_1))\n",
        "  print(network.w2_1/(network.w1_1+network.w2_1+network.w3_1))\n",
        "  print(network.w3_1/(network.w1_1+network.w2_1+network.w3_1))\n",
        "  print(network.w1_2/(network.w1_2+network.w2_2+network.w3_2))\n",
        "  print(network.w2_2/(network.w1_2+network.w2_2+network.w3_2))\n",
        "  print(network.w3_2/(network.w1_2+network.w2_2+network.w3_2))\n",
        "  print(network.w1_3/(network.w1_3+network.w2_3+network.w3_3))\n",
        "  print(network.w2_3/(network.w1_3+network.w2_3+network.w3_3))\n",
        "  print(network.w3_3/(network.w1_3+network.w2_3+network.w3_3))"
      ],
      "metadata": {
        "colab": {
          "base_uri": "https://localhost:8080/"
        },
        "id": "yYEhJLUyWHLe",
        "outputId": "d834773d-cccb-4bfc-84ff-42963da373c3"
      },
      "execution_count": null,
      "outputs": [
        {
          "output_type": "stream",
          "name": "stdout",
          "text": [
            "tensor([0.4848], grad_fn=<DivBackward0>)\n",
            "tensor([0.4437], grad_fn=<DivBackward0>)\n",
            "tensor([0.0715], grad_fn=<DivBackward0>)\n",
            "tensor([0.0276], grad_fn=<DivBackward0>)\n",
            "tensor([0.4923], grad_fn=<DivBackward0>)\n",
            "tensor([0.4800], grad_fn=<DivBackward0>)\n",
            "tensor([0.2840], grad_fn=<DivBackward0>)\n",
            "tensor([0.0877], grad_fn=<DivBackward0>)\n",
            "tensor([0.6283], grad_fn=<DivBackward0>)\n"
          ]
        }
      ]
    },
    {
      "cell_type": "code",
      "source": [
        "x = torch.Tensor(np.linspace(-10, 10))\n",
        "plt.plot(x.cpu().detach().numpy(),(network.w1_1*F.relu(x)+network.w2_1*F.tanh(x)+network.w3_1*torch.sin(x)).detach().numpy()/(network.w1_1+network.w2_1+network.w3_1+1e-5).cpu().detach().numpy(),label='Layer 1')\n",
        "plt.plot(x.cpu().detach().numpy(),(network.w1_2*F.relu(x)+network.w2_2*F.tanh(x)+network.w3_2*torch.sin(x)).detach().numpy()/(network.w1_2+network.w2_2+network.w3_2+1e-5).cpu().detach().numpy(),label='Layer 2')\n",
        "plt.plot(x.cpu().detach().numpy(),(network.w1_3*F.relu(x)+network.w2_3*F.tanh(x)+network.w3_3*torch.sin(x)).detach().numpy()/(network.w1_3+network.w2_3+network.w3_3+1e-5).cpu().detach().numpy(),label='Layer 3')\n",
        "plt.legend(ncol=1, loc='upper left');\n",
        "plt.show()\n"
      ],
      "metadata": {
        "colab": {
          "base_uri": "https://localhost:8080/",
          "height": 372
        },
        "id": "Ns-wvL-1Wy-x",
        "outputId": "ba0b4312-668a-4040-d142-6a564f4efaa7"
      },
      "execution_count": null,
      "outputs": [
        {
          "output_type": "stream",
          "name": "stderr",
          "text": [
            "/usr/local/lib/python3.7/dist-packages/torch/nn/functional.py:1795: UserWarning: nn.functional.tanh is deprecated. Use torch.tanh instead.\n",
            "  warnings.warn(\"nn.functional.tanh is deprecated. Use torch.tanh instead.\")\n",
            "/usr/local/lib/python3.7/dist-packages/torch/nn/functional.py:1795: UserWarning: nn.functional.tanh is deprecated. Use torch.tanh instead.\n",
            "  warnings.warn(\"nn.functional.tanh is deprecated. Use torch.tanh instead.\")\n",
            "/usr/local/lib/python3.7/dist-packages/torch/nn/functional.py:1795: UserWarning: nn.functional.tanh is deprecated. Use torch.tanh instead.\n",
            "  warnings.warn(\"nn.functional.tanh is deprecated. Use torch.tanh instead.\")\n"
          ]
        },
        {
          "output_type": "display_data",
          "data": {
            "image/png": "[encoded data removed]",
            "text/plain": [
              "<Figure size 432x288 with 1 Axes>"
            ]
          },
          "metadata": {}
        }
      ]
    },
    {
      "cell_type": "code",
      "source": [
        "x = torch.Tensor(np.linspace(-100, 100))\n",
        "plt.plot(x.cpu().detach().numpy(),(network.w1_1*F.relu(x)+network.w2_1*F.tanh(x)+network.w3_1*torch.sin(x)).detach().numpy()/(network.w1_1+network.w2_1+network.w3_1+1e-5).cpu().detach().numpy(),label='Layer 1')\n",
        "plt.plot(x.cpu().detach().numpy(),(network.w1_2*F.relu(x)+network.w2_2*F.tanh(x)+network.w3_2*torch.sin(x)).detach().numpy()/(network.w1_2+network.w2_2+network.w3_2+1e-5).cpu().detach().numpy(),label='Layer 2')\n",
        "plt.plot(x.cpu().detach().numpy(),(network.w1_3*F.relu(x)+network.w2_3*F.tanh(x)+network.w3_3*torch.sin(x)).detach().numpy()/(network.w1_3+network.w2_3+network.w3_3+1e-5).cpu().detach().numpy(),label='Layer 3')\n",
        "plt.legend(ncol=1, loc='upper left');\n",
        "plt.show()\n"
      ],
      "metadata": {
        "colab": {
          "base_uri": "https://localhost:8080/",
          "height": 372
        },
        "id": "do6QeUZJhPHg",
        "outputId": "00f7fc56-4574-4f2c-e7c0-083712ba26f5"
      },
      "execution_count": null,
      "outputs": [
        {
          "output_type": "stream",
          "name": "stderr",
          "text": [
            "/usr/local/lib/python3.7/dist-packages/torch/nn/functional.py:1795: UserWarning: nn.functional.tanh is deprecated. Use torch.tanh instead.\n",
            "  warnings.warn(\"nn.functional.tanh is deprecated. Use torch.tanh instead.\")\n",
            "/usr/local/lib/python3.7/dist-packages/torch/nn/functional.py:1795: UserWarning: nn.functional.tanh is deprecated. Use torch.tanh instead.\n",
            "  warnings.warn(\"nn.functional.tanh is deprecated. Use torch.tanh instead.\")\n",
            "/usr/local/lib/python3.7/dist-packages/torch/nn/functional.py:1795: UserWarning: nn.functional.tanh is deprecated. Use torch.tanh instead.\n",
            "  warnings.warn(\"nn.functional.tanh is deprecated. Use torch.tanh instead.\")\n"
          ]
        },
        {
          "output_type": "display_data",
          "data": {
            "image/png": "[encoded data removed]",
            "text/plain": [
              "<Figure size 432x288 with 1 Axes>"
            ]
          },
          "metadata": {}
        }
      ]
    },
    {
      "cell_type": "code",
      "source": [
        "x = torch.Tensor(np.linspace(-1, 1))\n",
        "plt.plot(x.cpu().detach().numpy(),(network.w1_1*F.relu(x)+network.w2_1*F.tanh(x)+network.w3_1*torch.sin(x)).detach().numpy()/(network.w1_1+network.w2_1+network.w3_1+1e-5).cpu().detach().numpy(),label='Layer 1')\n",
        "plt.plot(x.cpu().detach().numpy(),(network.w1_2*F.relu(x)+network.w2_2*F.tanh(x)+network.w3_2*torch.sin(x)).detach().numpy()/(network.w1_2+network.w2_2+network.w3_2+1e-5).cpu().detach().numpy(),label='Layer 2')\n",
        "plt.plot(x.cpu().detach().numpy(),(network.w1_3*F.relu(x)+network.w2_3*F.tanh(x)+network.w3_3*torch.sin(x)).detach().numpy()/(network.w1_3+network.w2_3+network.w3_3+1e-5).cpu().detach().numpy(),label='Layer 3')\n",
        "plt.legend(ncol=1, loc='upper left');\n",
        "plt.show()"
      ],
      "metadata": {
        "colab": {
          "base_uri": "https://localhost:8080/",
          "height": 372
        },
        "id": "WyLmsz5fhYHO",
        "outputId": "229ffbf0-f336-473e-e142-072ff1e1dd6f"
      },
      "execution_count": null,
      "outputs": [
        {
          "output_type": "stream",
          "name": "stderr",
          "text": [
            "/usr/local/lib/python3.7/dist-packages/torch/nn/functional.py:1795: UserWarning: nn.functional.tanh is deprecated. Use torch.tanh instead.\n",
            "  warnings.warn(\"nn.functional.tanh is deprecated. Use torch.tanh instead.\")\n",
            "/usr/local/lib/python3.7/dist-packages/torch/nn/functional.py:1795: UserWarning: nn.functional.tanh is deprecated. Use torch.tanh instead.\n",
            "  warnings.warn(\"nn.functional.tanh is deprecated. Use torch.tanh instead.\")\n",
            "/usr/local/lib/python3.7/dist-packages/torch/nn/functional.py:1795: UserWarning: nn.functional.tanh is deprecated. Use torch.tanh instead.\n",
            "  warnings.warn(\"nn.functional.tanh is deprecated. Use torch.tanh instead.\")\n"
          ]
        },
        {
          "output_type": "display_data",
          "data": {
            "image/png": "[encoded data removed]",
            "text/plain": [
              "<Figure size 432x288 with 1 Axes>"
            ]
          },
          "metadata": {}
        }
      ]
    },
    {
      "cell_type": "code",
      "source": [
        ""
      ],
      "metadata": {
        "id": "Ei8TXoW2hZHU"
      },
      "execution_count": null,
      "outputs": []
    }
  ],
  "metadata": {
    "accelerator": "GPU",
    "colab": {
      "name": "MNIST Activation Function Customization.ipynb",
      "provenance": [],
      "collapsed_sections": []
    },
    "kernelspec": {
      "display_name": "Python 3",
      "language": "python",
      "name": "python3"
    },
    "language_info": {
      "codemirror_mode": {
        "name": "ipython",
        "version": 3
      },
      "file_extension": ".py",
      "mimetype": "text/x-python",
      "name": "python",
      "nbconvert_exporter": "python",
      "pygments_lexer": "ipython3",
      "version": "3.7.4"
    },
    "widgets": {
      "application/vnd.jupyter.widget-state+json": {
        "982b0b38ee4b455eb058fd3b468e2232": {
          "model_module": "@jupyter-widgets/controls",
          "model_name": "HBoxModel",
          "model_module_version": "1.5.0",
          "state": {
            "_view_name": "HBoxView",
            "_dom_classes": [],
            "_model_name": "HBoxModel",
            "_view_module": "@jupyter-widgets/controls",
            "_model_module_version": "1.5.0",
            "_view_count": null,
            "_view_module_version": "1.5.0",
            "box_style": "",
            "layout": "IPY_MODEL_2c07f4b52bfd44378bff0965069e7d58",
            "_model_module": "@jupyter-widgets/controls",
            "children": [
              "IPY_MODEL_609445cc32874353b65914a4e5134573",
              "IPY_MODEL_d8f8c9cd1a384bc0bc9a9b3949ce16a3",
              "IPY_MODEL_835d22f5a03a4a1581b0f003e3c0bd28"
            ]
          }
        },
        "2c07f4b52bfd44378bff0965069e7d58": {
          "model_module": "@jupyter-widgets/base",
          "model_name": "LayoutModel",
          "model_module_version": "1.2.0",
          "state": {
            "_view_name": "LayoutView",
            "grid_template_rows": null,
            "right": null,
            "justify_content": null,
            "_view_module": "@jupyter-widgets/base",
            "overflow": null,
            "_model_module_version": "1.2.0",
            "_view_count": null,
            "flex_flow": null,
            "width": null,
            "min_width": null,
            "border": null,
            "align_items": null,
            "bottom": null,
            "_model_module": "@jupyter-widgets/base",
            "top": null,
            "grid_column": null,
            "overflow_y": null,
            "overflow_x": null,
            "grid_auto_flow": null,
            "grid_area": null,
            "grid_template_columns": null,
            "flex": null,
            "_model_name": "LayoutModel",
            "justify_items": null,
            "grid_row": null,
            "max_height": null,
            "align_content": null,
            "visibility": null,
            "align_self": null,
            "height": null,
            "min_height": null,
            "padding": null,
            "grid_auto_rows": null,
            "grid_gap": null,
            "max_width": null,
            "order": null,
            "_view_module_version": "1.2.0",
            "grid_template_areas": null,
            "object_position": null,
            "object_fit": null,
            "grid_auto_columns": null,
            "margin": null,
            "display": null,
            "left": null
          }
        },
        "609445cc32874353b65914a4e5134573": {
          "model_module": "@jupyter-widgets/controls",
          "model_name": "HTMLModel",
          "model_module_version": "1.5.0",
          "state": {
            "_view_name": "HTMLView",
            "style": "IPY_MODEL_5743c72c30ec4eb79d8ac087f017ed8f",
            "_dom_classes": [],
            "description": "",
            "_model_name": "HTMLModel",
            "placeholder": "​",
            "_view_module": "@jupyter-widgets/controls",
            "_model_module_version": "1.5.0",
            "value": "",
            "_view_count": null,
            "_view_module_version": "1.5.0",
            "description_tooltip": null,
            "_model_module": "@jupyter-widgets/controls",
            "layout": "IPY_MODEL_a7cdbd0faa28429490950f2d05ef81b2"
          }
        },
        "d8f8c9cd1a384bc0bc9a9b3949ce16a3": {
          "model_module": "@jupyter-widgets/controls",
          "model_name": "FloatProgressModel",
          "model_module_version": "1.5.0",
          "state": {
            "_view_name": "ProgressView",
            "style": "IPY_MODEL_5ae7064dd1ea458b8b419f79a6d61a17",
            "_dom_classes": [],
            "description": "",
            "_model_name": "FloatProgressModel",
            "bar_style": "success",
            "max": 9912422,
            "_view_module": "@jupyter-widgets/controls",
            "_model_module_version": "1.5.0",
            "value": 9912422,
            "_view_count": null,
            "_view_module_version": "1.5.0",
            "orientation": "horizontal",
            "min": 0,
            "description_tooltip": null,
            "_model_module": "@jupyter-widgets/controls",
            "layout": "IPY_MODEL_0f688e3243ab4fdbbefadbec5f4435b9"
          }
        },
        "835d22f5a03a4a1581b0f003e3c0bd28": {
          "model_module": "@jupyter-widgets/controls",
          "model_name": "HTMLModel",
          "model_module_version": "1.5.0",
          "state": {
            "_view_name": "HTMLView",
            "style": "IPY_MODEL_f8958927cb6544058645957a66b1f36d",
            "_dom_classes": [],
            "description": "",
            "_model_name": "HTMLModel",
            "placeholder": "​",
            "_view_module": "@jupyter-widgets/controls",
            "_model_module_version": "1.5.0",
            "value": " 9913344/? [00:00&lt;00:00, 27195108.12it/s]",
            "_view_count": null,
            "_view_module_version": "1.5.0",
            "description_tooltip": null,
            "_model_module": "@jupyter-widgets/controls",
            "layout": "IPY_MODEL_dcbf627ba4ea4d15b20cca9d45cae72a"
          }
        },
        "5743c72c30ec4eb79d8ac087f017ed8f": {
          "model_module": "@jupyter-widgets/controls",
          "model_name": "DescriptionStyleModel",
          "model_module_version": "1.5.0",
          "state": {
            "_view_name": "StyleView",
            "_model_name": "DescriptionStyleModel",
            "description_width": "",
            "_view_module": "@jupyter-widgets/base",
            "_model_module_version": "1.5.0",
            "_view_count": null,
            "_view_module_version": "1.2.0",
            "_model_module": "@jupyter-widgets/controls"
          }
        },
        "a7cdbd0faa28429490950f2d05ef81b2": {
          "model_module": "@jupyter-widgets/base",
          "model_name": "LayoutModel",
          "model_module_version": "1.2.0",
          "state": {
            "_view_name": "LayoutView",
            "grid_template_rows": null,
            "right": null,
            "justify_content": null,
            "_view_module": "@jupyter-widgets/base",
            "overflow": null,
            "_model_module_version": "1.2.0",
            "_view_count": null,
            "flex_flow": null,
            "width": null,
            "min_width": null,
            "border": null,
            "align_items": null,
            "bottom": null,
            "_model_module": "@jupyter-widgets/base",
            "top": null,
            "grid_column": null,
            "overflow_y": null,
            "overflow_x": null,
            "grid_auto_flow": null,
            "grid_area": null,
            "grid_template_columns": null,
            "flex": null,
            "_model_name": "LayoutModel",
            "justify_items": null,
            "grid_row": null,
            "max_height": null,
            "align_content": null,
            "visibility": null,
            "align_self": null,
            "height": null,
            "min_height": null,
            "padding": null,
            "grid_auto_rows": null,
            "grid_gap": null,
            "max_width": null,
            "order": null,
            "_view_module_version": "1.2.0",
            "grid_template_areas": null,
            "object_position": null,
            "object_fit": null,
            "grid_auto_columns": null,
            "margin": null,
            "display": null,
            "left": null
          }
        },
        "5ae7064dd1ea458b8b419f79a6d61a17": {
          "model_module": "@jupyter-widgets/controls",
          "model_name": "ProgressStyleModel",
          "model_module_version": "1.5.0",
          "state": {
            "_view_name": "StyleView",
            "_model_name": "ProgressStyleModel",
            "description_width": "",
            "_view_module": "@jupyter-widgets/base",
            "_model_module_version": "1.5.0",
            "_view_count": null,
            "_view_module_version": "1.2.0",
            "bar_color": null,
            "_model_module": "@jupyter-widgets/controls"
          }
        },
        "0f688e3243ab4fdbbefadbec5f4435b9": {
          "model_module": "@jupyter-widgets/base",
          "model_name": "LayoutModel",
          "model_module_version": "1.2.0",
          "state": {
            "_view_name": "LayoutView",
            "grid_template_rows": null,
            "right": null,
            "justify_content": null,
            "_view_module": "@jupyter-widgets/base",
            "overflow": null,
            "_model_module_version": "1.2.0",
            "_view_count": null,
            "flex_flow": null,
            "width": null,
            "min_width": null,
            "border": null,
            "align_items": null,
            "bottom": null,
            "_model_module": "@jupyter-widgets/base",
            "top": null,
            "grid_column": null,
            "overflow_y": null,
            "overflow_x": null,
            "grid_auto_flow": null,
            "grid_area": null,
            "grid_template_columns": null,
            "flex": null,
            "_model_name": "LayoutModel",
            "justify_items": null,
            "grid_row": null,
            "max_height": null,
            "align_content": null,
            "visibility": null,
            "align_self": null,
            "height": null,
            "min_height": null,
            "padding": null,
            "grid_auto_rows": null,
            "grid_gap": null,
            "max_width": null,
            "order": null,
            "_view_module_version": "1.2.0",
            "grid_template_areas": null,
            "object_position": null,
            "object_fit": null,
            "grid_auto_columns": null,
            "margin": null,
            "display": null,
            "left": null
          }
        },
        "f8958927cb6544058645957a66b1f36d": {
          "model_module": "@jupyter-widgets/controls",
          "model_name": "DescriptionStyleModel",
          "model_module_version": "1.5.0",
          "state": {
            "_view_name": "StyleView",
            "_model_name": "DescriptionStyleModel",
            "description_width": "",
            "_view_module": "@jupyter-widgets/base",
            "_model_module_version": "1.5.0",
            "_view_count": null,
            "_view_module_version": "1.2.0",
            "_model_module": "@jupyter-widgets/controls"
          }
        },
        "dcbf627ba4ea4d15b20cca9d45cae72a": {
          "model_module": "@jupyter-widgets/base",
          "model_name": "LayoutModel",
          "model_module_version": "1.2.0",
          "state": {
            "_view_name": "LayoutView",
            "grid_template_rows": null,
            "right": null,
            "justify_content": null,
            "_view_module": "@jupyter-widgets/base",
            "overflow": null,
            "_model_module_version": "1.2.0",
            "_view_count": null,
            "flex_flow": null,
            "width": null,
            "min_width": null,
            "border": null,
            "align_items": null,
            "bottom": null,
            "_model_module": "@jupyter-widgets/base",
            "top": null,
            "grid_column": null,
            "overflow_y": null,
            "overflow_x": null,
            "grid_auto_flow": null,
            "grid_area": null,
            "grid_template_columns": null,
            "flex": null,
            "_model_name": "LayoutModel",
            "justify_items": null,
            "grid_row": null,
            "max_height": null,
            "align_content": null,
            "visibility": null,
            "align_self": null,
            "height": null,
            "min_height": null,
            "padding": null,
            "grid_auto_rows": null,
            "grid_gap": null,
            "max_width": null,
            "order": null,
            "_view_module_version": "1.2.0",
            "grid_template_areas": null,
            "object_position": null,
            "object_fit": null,
            "grid_auto_columns": null,
            "margin": null,
            "display": null,
            "left": null
          }
        },
        "012b9479f0f94988a25eefc9643c8ca7": {
          "model_module": "@jupyter-widgets/controls",
          "model_name": "HBoxModel",
          "model_module_version": "1.5.0",
          "state": {
            "_view_name": "HBoxView",
            "_dom_classes": [],
            "_model_name": "HBoxModel",
            "_view_module": "@jupyter-widgets/controls",
            "_model_module_version": "1.5.0",
            "_view_count": null,
            "_view_module_version": "1.5.0",
            "box_style": "",
            "layout": "IPY_MODEL_6ce0d976b90f4345b79cf17c4dfa53d2",
            "_model_module": "@jupyter-widgets/controls",
            "children": [
              "IPY_MODEL_a1d59da0a24545068d462aa004298750",
              "IPY_MODEL_1d6b8a632d4d4784b63811a3e0bfa833",
              "IPY_MODEL_bc41943934214452a1395c12cf657702"
            ]
          }
        },
        "6ce0d976b90f4345b79cf17c4dfa53d2": {
          "model_module": "@jupyter-widgets/base",
          "model_name": "LayoutModel",
          "model_module_version": "1.2.0",
          "state": {
            "_view_name": "LayoutView",
            "grid_template_rows": null,
            "right": null,
            "justify_content": null,
            "_view_module": "@jupyter-widgets/base",
            "overflow": null,
            "_model_module_version": "1.2.0",
            "_view_count": null,
            "flex_flow": null,
            "width": null,
            "min_width": null,
            "border": null,
            "align_items": null,
            "bottom": null,
            "_model_module": "@jupyter-widgets/base",
            "top": null,
            "grid_column": null,
            "overflow_y": null,
            "overflow_x": null,
            "grid_auto_flow": null,
            "grid_area": null,
            "grid_template_columns": null,
            "flex": null,
            "_model_name": "LayoutModel",
            "justify_items": null,
            "grid_row": null,
            "max_height": null,
            "align_content": null,
            "visibility": null,
            "align_self": null,
            "height": null,
            "min_height": null,
            "padding": null,
            "grid_auto_rows": null,
            "grid_gap": null,
            "max_width": null,
            "order": null,
            "_view_module_version": "1.2.0",
            "grid_template_areas": null,
            "object_position": null,
            "object_fit": null,
            "grid_auto_columns": null,
            "margin": null,
            "display": null,
            "left": null
          }
        },
        "a1d59da0a24545068d462aa004298750": {
          "model_module": "@jupyter-widgets/controls",
          "model_name": "HTMLModel",
          "model_module_version": "1.5.0",
          "state": {
            "_view_name": "HTMLView",
            "style": "IPY_MODEL_3d7a9745ac604f24b897ca5d3efb55a7",
            "_dom_classes": [],
            "description": "",
            "_model_name": "HTMLModel",
            "placeholder": "​",
            "_view_module": "@jupyter-widgets/controls",
            "_model_module_version": "1.5.0",
            "value": "",
            "_view_count": null,
            "_view_module_version": "1.5.0",
            "description_tooltip": null,
            "_model_module": "@jupyter-widgets/controls",
            "layout": "IPY_MODEL_920b87cb10a54e71a4f0518baca7c2c3"
          }
        },
        "1d6b8a632d4d4784b63811a3e0bfa833": {
          "model_module": "@jupyter-widgets/controls",
          "model_name": "FloatProgressModel",
          "model_module_version": "1.5.0",
          "state": {
            "_view_name": "ProgressView",
            "style": "IPY_MODEL_4202f640eb474b7685d11e67345ff50f",
            "_dom_classes": [],
            "description": "",
            "_model_name": "FloatProgressModel",
            "bar_style": "success",
            "max": 28881,
            "_view_module": "@jupyter-widgets/controls",
            "_model_module_version": "1.5.0",
            "value": 28881,
            "_view_count": null,
            "_view_module_version": "1.5.0",
            "orientation": "horizontal",
            "min": 0,
            "description_tooltip": null,
            "_model_module": "@jupyter-widgets/controls",
            "layout": "IPY_MODEL_421f99ca629c40f08e819cc5f2670cc8"
          }
        },
        "bc41943934214452a1395c12cf657702": {
          "model_module": "@jupyter-widgets/controls",
          "model_name": "HTMLModel",
          "model_module_version": "1.5.0",
          "state": {
            "_view_name": "HTMLView",
            "style": "IPY_MODEL_17acec9607f142a69ede68da2360d54b",
            "_dom_classes": [],
            "description": "",
            "_model_name": "HTMLModel",
            "placeholder": "​",
            "_view_module": "@jupyter-widgets/controls",
            "_model_module_version": "1.5.0",
            "value": " 29696/? [00:00&lt;00:00, 423670.53it/s]",
            "_view_count": null,
            "_view_module_version": "1.5.0",
            "description_tooltip": null,
            "_model_module": "@jupyter-widgets/controls",
            "layout": "IPY_MODEL_5707277f142c42edb9b3c4055bcae9ba"
          }
        },
        "3d7a9745ac604f24b897ca5d3efb55a7": {
          "model_module": "@jupyter-widgets/controls",
          "model_name": "DescriptionStyleModel",
          "model_module_version": "1.5.0",
          "state": {
            "_view_name": "StyleView",
            "_model_name": "DescriptionStyleModel",
            "description_width": "",
            "_view_module": "@jupyter-widgets/base",
            "_model_module_version": "1.5.0",
            "_view_count": null,
            "_view_module_version": "1.2.0",
            "_model_module": "@jupyter-widgets/controls"
          }
        },
        "920b87cb10a54e71a4f0518baca7c2c3": {
          "model_module": "@jupyter-widgets/base",
          "model_name": "LayoutModel",
          "model_module_version": "1.2.0",
          "state": {
            "_view_name": "LayoutView",
            "grid_template_rows": null,
            "right": null,
            "justify_content": null,
            "_view_module": "@jupyter-widgets/base",
            "overflow": null,
            "_model_module_version": "1.2.0",
            "_view_count": null,
            "flex_flow": null,
            "width": null,
            "min_width": null,
            "border": null,
            "align_items": null,
            "bottom": null,
            "_model_module": "@jupyter-widgets/base",
            "top": null,
            "grid_column": null,
            "overflow_y": null,
            "overflow_x": null,
            "grid_auto_flow": null,
            "grid_area": null,
            "grid_template_columns": null,
            "flex": null,
            "_model_name": "LayoutModel",
            "justify_items": null,
            "grid_row": null,
            "max_height": null,
            "align_content": null,
            "visibility": null,
            "align_self": null,
            "height": null,
            "min_height": null,
            "padding": null,
            "grid_auto_rows": null,
            "grid_gap": null,
            "max_width": null,
            "order": null,
            "_view_module_version": "1.2.0",
            "grid_template_areas": null,
            "object_position": null,
            "object_fit": null,
            "grid_auto_columns": null,
            "margin": null,
            "display": null,
            "left": null
          }
        },
        "4202f640eb474b7685d11e67345ff50f": {
          "model_module": "@jupyter-widgets/controls",
          "model_name": "ProgressStyleModel",
          "model_module_version": "1.5.0",
          "state": {
            "_view_name": "StyleView",
            "_model_name": "ProgressStyleModel",
            "description_width": "",
            "_view_module": "@jupyter-widgets/base",
            "_model_module_version": "1.5.0",
            "_view_count": null,
            "_view_module_version": "1.2.0",
            "bar_color": null,
            "_model_module": "@jupyter-widgets/controls"
          }
        },
        "421f99ca629c40f08e819cc5f2670cc8": {
          "model_module": "@jupyter-widgets/base",
          "model_name": "LayoutModel",
          "model_module_version": "1.2.0",
          "state": {
            "_view_name": "LayoutView",
            "grid_template_rows": null,
            "right": null,
            "justify_content": null,
            "_view_module": "@jupyter-widgets/base",
            "overflow": null,
            "_model_module_version": "1.2.0",
            "_view_count": null,
            "flex_flow": null,
            "width": null,
            "min_width": null,
            "border": null,
            "align_items": null,
            "bottom": null,
            "_model_module": "@jupyter-widgets/base",
            "top": null,
            "grid_column": null,
            "overflow_y": null,
            "overflow_x": null,
            "grid_auto_flow": null,
            "grid_area": null,
            "grid_template_columns": null,
            "flex": null,
            "_model_name": "LayoutModel",
            "justify_items": null,
            "grid_row": null,
            "max_height": null,
            "align_content": null,
            "visibility": null,
            "align_self": null,
            "height": null,
            "min_height": null,
            "padding": null,
            "grid_auto_rows": null,
            "grid_gap": null,
            "max_width": null,
            "order": null,
            "_view_module_version": "1.2.0",
            "grid_template_areas": null,
            "object_position": null,
            "object_fit": null,
            "grid_auto_columns": null,
            "margin": null,
            "display": null,
            "left": null
          }
        },
        "17acec9607f142a69ede68da2360d54b": {
          "model_module": "@jupyter-widgets/controls",
          "model_name": "DescriptionStyleModel",
          "model_module_version": "1.5.0",
          "state": {
            "_view_name": "StyleView",
            "_model_name": "DescriptionStyleModel",
            "description_width": "",
            "_view_module": "@jupyter-widgets/base",
            "_model_module_version": "1.5.0",
            "_view_count": null,
            "_view_module_version": "1.2.0",
            "_model_module": "@jupyter-widgets/controls"
          }
        },
        "5707277f142c42edb9b3c4055bcae9ba": {
          "model_module": "@jupyter-widgets/base",
          "model_name": "LayoutModel",
          "model_module_version": "1.2.0",
          "state": {
            "_view_name": "LayoutView",
            "grid_template_rows": null,
            "right": null,
            "justify_content": null,
            "_view_module": "@jupyter-widgets/base",
            "overflow": null,
            "_model_module_version": "1.2.0",
            "_view_count": null,
            "flex_flow": null,
            "width": null,
            "min_width": null,
            "border": null,
            "align_items": null,
            "bottom": null,
            "_model_module": "@jupyter-widgets/base",
            "top": null,
            "grid_column": null,
            "overflow_y": null,
            "overflow_x": null,
            "grid_auto_flow": null,
            "grid_area": null,
            "grid_template_columns": null,
            "flex": null,
            "_model_name": "LayoutModel",
            "justify_items": null,
            "grid_row": null,
            "max_height": null,
            "align_content": null,
            "visibility": null,
            "align_self": null,
            "height": null,
            "min_height": null,
            "padding": null,
            "grid_auto_rows": null,
            "grid_gap": null,
            "max_width": null,
            "order": null,
            "_view_module_version": "1.2.0",
            "grid_template_areas": null,
            "object_position": null,
            "object_fit": null,
            "grid_auto_columns": null,
            "margin": null,
            "display": null,
            "left": null
          }
        },
        "1e48f314d46e4a0d9539eb0c5751d33a": {
          "model_module": "@jupyter-widgets/controls",
          "model_name": "HBoxModel",
          "model_module_version": "1.5.0",
          "state": {
            "_view_name": "HBoxView",
            "_dom_classes": [],
            "_model_name": "HBoxModel",
            "_view_module": "@jupyter-widgets/controls",
            "_model_module_version": "1.5.0",
            "_view_count": null,
            "_view_module_version": "1.5.0",
            "box_style": "",
            "layout": "IPY_MODEL_236ee72cedde455fbf3df84b132ed719",
            "_model_module": "@jupyter-widgets/controls",
            "children": [
              "IPY_MODEL_715078f3981744e5b2343a7e71d8c004",
              "IPY_MODEL_c2117e84f84a4bbe99f956cead1529f1",
              "IPY_MODEL_7765eb536f2e4fc097a7ae55d72b2522"
            ]
          }
        },
        "236ee72cedde455fbf3df84b132ed719": {
          "model_module": "@jupyter-widgets/base",
          "model_name": "LayoutModel",
          "model_module_version": "1.2.0",
          "state": {
            "_view_name": "LayoutView",
            "grid_template_rows": null,
            "right": null,
            "justify_content": null,
            "_view_module": "@jupyter-widgets/base",
            "overflow": null,
            "_model_module_version": "1.2.0",
            "_view_count": null,
            "flex_flow": null,
            "width": null,
            "min_width": null,
            "border": null,
            "align_items": null,
            "bottom": null,
            "_model_module": "@jupyter-widgets/base",
            "top": null,
            "grid_column": null,
            "overflow_y": null,
            "overflow_x": null,
            "grid_auto_flow": null,
            "grid_area": null,
            "grid_template_columns": null,
            "flex": null,
            "_model_name": "LayoutModel",
            "justify_items": null,
            "grid_row": null,
            "max_height": null,
            "align_content": null,
            "visibility": null,
            "align_self": null,
            "height": null,
            "min_height": null,
            "padding": null,
            "grid_auto_rows": null,
            "grid_gap": null,
            "max_width": null,
            "order": null,
            "_view_module_version": "1.2.0",
            "grid_template_areas": null,
            "object_position": null,
            "object_fit": null,
            "grid_auto_columns": null,
            "margin": null,
            "display": null,
            "left": null
          }
        },
        "715078f3981744e5b2343a7e71d8c004": {
          "model_module": "@jupyter-widgets/controls",
          "model_name": "HTMLModel",
          "model_module_version": "1.5.0",
          "state": {
            "_view_name": "HTMLView",
            "style": "IPY_MODEL_677773f1ee704d9eb8c46eeab0bdaf16",
            "_dom_classes": [],
            "description": "",
            "_model_name": "HTMLModel",
            "placeholder": "​",
            "_view_module": "@jupyter-widgets/controls",
            "_model_module_version": "1.5.0",
            "value": "",
            "_view_count": null,
            "_view_module_version": "1.5.0",
            "description_tooltip": null,
            "_model_module": "@jupyter-widgets/controls",
            "layout": "IPY_MODEL_4ad64219078c48b1b7688e905f40e9ae"
          }
        },
        "c2117e84f84a4bbe99f956cead1529f1": {
          "model_module": "@jupyter-widgets/controls",
          "model_name": "FloatProgressModel",
          "model_module_version": "1.5.0",
          "state": {
            "_view_name": "ProgressView",
            "style": "IPY_MODEL_fbae58ff5ea745b3a4237aaf0b694996",
            "_dom_classes": [],
            "description": "",
            "_model_name": "FloatProgressModel",
            "bar_style": "success",
            "max": 1648877,
            "_view_module": "@jupyter-widgets/controls",
            "_model_module_version": "1.5.0",
            "value": 1648877,
            "_view_count": null,
            "_view_module_version": "1.5.0",
            "orientation": "horizontal",
            "min": 0,
            "description_tooltip": null,
            "_model_module": "@jupyter-widgets/controls",
            "layout": "IPY_MODEL_f3ac348120cb4c38af22d2c58a32bc43"
          }
        },
        "7765eb536f2e4fc097a7ae55d72b2522": {
          "model_module": "@jupyter-widgets/controls",
          "model_name": "HTMLModel",
          "model_module_version": "1.5.0",
          "state": {
            "_view_name": "HTMLView",
            "style": "IPY_MODEL_a44a09d2a7a647dfa2bac1e347633015",
            "_dom_classes": [],
            "description": "",
            "_model_name": "HTMLModel",
            "placeholder": "​",
            "_view_module": "@jupyter-widgets/controls",
            "_model_module_version": "1.5.0",
            "value": " 1649664/? [00:00&lt;00:00, 1109931.71it/s]",
            "_view_count": null,
            "_view_module_version": "1.5.0",
            "description_tooltip": null,
            "_model_module": "@jupyter-widgets/controls",
            "layout": "IPY_MODEL_ebd79992914648e19df6339622f61513"
          }
        },
        "677773f1ee704d9eb8c46eeab0bdaf16": {
          "model_module": "@jupyter-widgets/controls",
          "model_name": "DescriptionStyleModel",
          "model_module_version": "1.5.0",
          "state": {
            "_view_name": "StyleView",
            "_model_name": "DescriptionStyleModel",
            "description_width": "",
            "_view_module": "@jupyter-widgets/base",
            "_model_module_version": "1.5.0",
            "_view_count": null,
            "_view_module_version": "1.2.0",
            "_model_module": "@jupyter-widgets/controls"
          }
        },
        "4ad64219078c48b1b7688e905f40e9ae": {
          "model_module": "@jupyter-widgets/base",
          "model_name": "LayoutModel",
          "model_module_version": "1.2.0",
          "state": {
            "_view_name": "LayoutView",
            "grid_template_rows": null,
            "right": null,
            "justify_content": null,
            "_view_module": "@jupyter-widgets/base",
            "overflow": null,
            "_model_module_version": "1.2.0",
            "_view_count": null,
            "flex_flow": null,
            "width": null,
            "min_width": null,
            "border": null,
            "align_items": null,
            "bottom": null,
            "_model_module": "@jupyter-widgets/base",
            "top": null,
            "grid_column": null,
            "overflow_y": null,
            "overflow_x": null,
            "grid_auto_flow": null,
            "grid_area": null,
            "grid_template_columns": null,
            "flex": null,
            "_model_name": "LayoutModel",
            "justify_items": null,
            "grid_row": null,
            "max_height": null,
            "align_content": null,
            "visibility": null,
            "align_self": null,
            "height": null,
            "min_height": null,
            "padding": null,
            "grid_auto_rows": null,
            "grid_gap": null,
            "max_width": null,
            "order": null,
            "_view_module_version": "1.2.0",
            "grid_template_areas": null,
            "object_position": null,
            "object_fit": null,
            "grid_auto_columns": null,
            "margin": null,
            "display": null,
            "left": null
          }
        },
        "fbae58ff5ea745b3a4237aaf0b694996": {
          "model_module": "@jupyter-widgets/controls",
          "model_name": "ProgressStyleModel",
          "model_module_version": "1.5.0",
          "state": {
            "_view_name": "StyleView",
            "_model_name": "ProgressStyleModel",
            "description_width": "",
            "_view_module": "@jupyter-widgets/base",
            "_model_module_version": "1.5.0",
            "_view_count": null,
            "_view_module_version": "1.2.0",
            "bar_color": null,
            "_model_module": "@jupyter-widgets/controls"
          }
        },
        "f3ac348120cb4c38af22d2c58a32bc43": {
          "model_module": "@jupyter-widgets/base",
          "model_name": "LayoutModel",
          "model_module_version": "1.2.0",
          "state": {
            "_view_name": "LayoutView",
            "grid_template_rows": null,
            "right": null,
            "justify_content": null,
            "_view_module": "@jupyter-widgets/base",
            "overflow": null,
            "_model_module_version": "1.2.0",
            "_view_count": null,
            "flex_flow": null,
            "width": null,
            "min_width": null,
            "border": null,
            "align_items": null,
            "bottom": null,
            "_model_module": "@jupyter-widgets/base",
            "top": null,
            "grid_column": null,
            "overflow_y": null,
            "overflow_x": null,
            "grid_auto_flow": null,
            "grid_area": null,
            "grid_template_columns": null,
            "flex": null,
            "_model_name": "LayoutModel",
            "justify_items": null,
            "grid_row": null,
            "max_height": null,
            "align_content": null,
            "visibility": null,
            "align_self": null,
            "height": null,
            "min_height": null,
            "padding": null,
            "grid_auto_rows": null,
            "grid_gap": null,
            "max_width": null,
            "order": null,
            "_view_module_version": "1.2.0",
            "grid_template_areas": null,
            "object_position": null,
            "object_fit": null,
            "grid_auto_columns": null,
            "margin": null,
            "display": null,
            "left": null
          }
        },
        "a44a09d2a7a647dfa2bac1e347633015": {
          "model_module": "@jupyter-widgets/controls",
          "model_name": "DescriptionStyleModel",
          "model_module_version": "1.5.0",
          "state": {
            "_view_name": "StyleView",
            "_model_name": "DescriptionStyleModel",
            "description_width": "",
            "_view_module": "@jupyter-widgets/base",
            "_model_module_version": "1.5.0",
            "_view_count": null,
            "_view_module_version": "1.2.0",
            "_model_module": "@jupyter-widgets/controls"
          }
        },
        "ebd79992914648e19df6339622f61513": {
          "model_module": "@jupyter-widgets/base",
          "model_name": "LayoutModel",
          "model_module_version": "1.2.0",
          "state": {
            "_view_name": "LayoutView",
            "grid_template_rows": null,
            "right": null,
            "justify_content": null,
            "_view_module": "@jupyter-widgets/base",
            "overflow": null,
            "_model_module_version": "1.2.0",
            "_view_count": null,
            "flex_flow": null,
            "width": null,
            "min_width": null,
            "border": null,
            "align_items": null,
            "bottom": null,
            "_model_module": "@jupyter-widgets/base",
            "top": null,
            "grid_column": null,
            "overflow_y": null,
            "overflow_x": null,
            "grid_auto_flow": null,
            "grid_area": null,
            "grid_template_columns": null,
            "flex": null,
            "_model_name": "LayoutModel",
            "justify_items": null,
            "grid_row": null,
            "max_height": null,
            "align_content": null,
            "visibility": null,
            "align_self": null,
            "height": null,
            "min_height": null,
            "padding": null,
            "grid_auto_rows": null,
            "grid_gap": null,
            "max_width": null,
            "order": null,
            "_view_module_version": "1.2.0",
            "grid_template_areas": null,
            "object_position": null,
            "object_fit": null,
            "grid_auto_columns": null,
            "margin": null,
            "display": null,
            "left": null
          }
        },
        "dbad1842581e4ecd8bf6be62832bdd73": {
          "model_module": "@jupyter-widgets/controls",
          "model_name": "HBoxModel",
          "model_module_version": "1.5.0",
          "state": {
            "_view_name": "HBoxView",
            "_dom_classes": [],
            "_model_name": "HBoxModel",
            "_view_module": "@jupyter-widgets/controls",
            "_model_module_version": "1.5.0",
            "_view_count": null,
            "_view_module_version": "1.5.0",
            "box_style": "",
            "layout": "IPY_MODEL_d58834d08b554003925fdfcb5819f735",
            "_model_module": "@jupyter-widgets/controls",
            "children": [
              "IPY_MODEL_bc5f7076d8924c54b8a63b8e293e3a42",
              "IPY_MODEL_aeeee993088c49439d16bebf4f1161dc",
              "IPY_MODEL_a838345374b745168a8479d2cb1a8002"
            ]
          }
        },
        "d58834d08b554003925fdfcb5819f735": {
          "model_module": "@jupyter-widgets/base",
          "model_name": "LayoutModel",
          "model_module_version": "1.2.0",
          "state": {
            "_view_name": "LayoutView",
            "grid_template_rows": null,
            "right": null,
            "justify_content": null,
            "_view_module": "@jupyter-widgets/base",
            "overflow": null,
            "_model_module_version": "1.2.0",
            "_view_count": null,
            "flex_flow": null,
            "width": null,
            "min_width": null,
            "border": null,
            "align_items": null,
            "bottom": null,
            "_model_module": "@jupyter-widgets/base",
            "top": null,
            "grid_column": null,
            "overflow_y": null,
            "overflow_x": null,
            "grid_auto_flow": null,
            "grid_area": null,
            "grid_template_columns": null,
            "flex": null,
            "_model_name": "LayoutModel",
            "justify_items": null,
            "grid_row": null,
            "max_height": null,
            "align_content": null,
            "visibility": null,
            "align_self": null,
            "height": null,
            "min_height": null,
            "padding": null,
            "grid_auto_rows": null,
            "grid_gap": null,
            "max_width": null,
            "order": null,
            "_view_module_version": "1.2.0",
            "grid_template_areas": null,
            "object_position": null,
            "object_fit": null,
            "grid_auto_columns": null,
            "margin": null,
            "display": null,
            "left": null
          }
        },
        "bc5f7076d8924c54b8a63b8e293e3a42": {
          "model_module": "@jupyter-widgets/controls",
          "model_name": "HTMLModel",
          "model_module_version": "1.5.0",
          "state": {
            "_view_name": "HTMLView",
            "style": "IPY_MODEL_87a46992a4254155ad6cb79c7ac80d9e",
            "_dom_classes": [],
            "description": "",
            "_model_name": "HTMLModel",
            "placeholder": "​",
            "_view_module": "@jupyter-widgets/controls",
            "_model_module_version": "1.5.0",
            "value": "",
            "_view_count": null,
            "_view_module_version": "1.5.0",
            "description_tooltip": null,
            "_model_module": "@jupyter-widgets/controls",
            "layout": "IPY_MODEL_2d6de886d96944dbaf2f282de71e2191"
          }
        },
        "aeeee993088c49439d16bebf4f1161dc": {
          "model_module": "@jupyter-widgets/controls",
          "model_name": "FloatProgressModel",
          "model_module_version": "1.5.0",
          "state": {
            "_view_name": "ProgressView",
            "style": "IPY_MODEL_ec510ea7388844169e571d11e1bb7445",
            "_dom_classes": [],
            "description": "",
            "_model_name": "FloatProgressModel",
            "bar_style": "success",
            "max": 4542,
            "_view_module": "@jupyter-widgets/controls",
            "_model_module_version": "1.5.0",
            "value": 4542,
            "_view_count": null,
            "_view_module_version": "1.5.0",
            "orientation": "horizontal",
            "min": 0,
            "description_tooltip": null,
            "_model_module": "@jupyter-widgets/controls",
            "layout": "IPY_MODEL_a6007da940704a50b57b3643398d7a91"
          }
        },
        "a838345374b745168a8479d2cb1a8002": {
          "model_module": "@jupyter-widgets/controls",
          "model_name": "HTMLModel",
          "model_module_version": "1.5.0",
          "state": {
            "_view_name": "HTMLView",
            "style": "IPY_MODEL_a9261e19671b4a74842898993cf8e3c6",
            "_dom_classes": [],
            "description": "",
            "_model_name": "HTMLModel",
            "placeholder": "​",
            "_view_module": "@jupyter-widgets/controls",
            "_model_module_version": "1.5.0",
            "value": " 5120/? [00:00&lt;00:00, 6727.57it/s]",
            "_view_count": null,
            "_view_module_version": "1.5.0",
            "description_tooltip": null,
            "_model_module": "@jupyter-widgets/controls",
            "layout": "IPY_MODEL_6c8da97ad9e64fe09c35149bc05fc614"
          }
        },
        "87a46992a4254155ad6cb79c7ac80d9e": {
          "model_module": "@jupyter-widgets/controls",
          "model_name": "DescriptionStyleModel",
          "model_module_version": "1.5.0",
          "state": {
            "_view_name": "StyleView",
            "_model_name": "DescriptionStyleModel",
            "description_width": "",
            "_view_module": "@jupyter-widgets/base",
            "_model_module_version": "1.5.0",
            "_view_count": null,
            "_view_module_version": "1.2.0",
            "_model_module": "@jupyter-widgets/controls"
          }
        },
        "2d6de886d96944dbaf2f282de71e2191": {
          "model_module": "@jupyter-widgets/base",
          "model_name": "LayoutModel",
          "model_module_version": "1.2.0",
          "state": {
            "_view_name": "LayoutView",
            "grid_template_rows": null,
            "right": null,
            "justify_content": null,
            "_view_module": "@jupyter-widgets/base",
            "overflow": null,
            "_model_module_version": "1.2.0",
            "_view_count": null,
            "flex_flow": null,
            "width": null,
            "min_width": null,
            "border": null,
            "align_items": null,
            "bottom": null,
            "_model_module": "@jupyter-widgets/base",
            "top": null,
            "grid_column": null,
            "overflow_y": null,
            "overflow_x": null,
            "grid_auto_flow": null,
            "grid_area": null,
            "grid_template_columns": null,
            "flex": null,
            "_model_name": "LayoutModel",
            "justify_items": null,
            "grid_row": null,
            "max_height": null,
            "align_content": null,
            "visibility": null,
            "align_self": null,
            "height": null,
            "min_height": null,
            "padding": null,
            "grid_auto_rows": null,
            "grid_gap": null,
            "max_width": null,
            "order": null,
            "_view_module_version": "1.2.0",
            "grid_template_areas": null,
            "object_position": null,
            "object_fit": null,
            "grid_auto_columns": null,
            "margin": null,
            "display": null,
            "left": null
          }
        },
        "ec510ea7388844169e571d11e1bb7445": {
          "model_module": "@jupyter-widgets/controls",
          "model_name": "ProgressStyleModel",
          "model_module_version": "1.5.0",
          "state": {
            "_view_name": "StyleView",
            "_model_name": "ProgressStyleModel",
            "description_width": "",
            "_view_module": "@jupyter-widgets/base",
            "_model_module_version": "1.5.0",
            "_view_count": null,
            "_view_module_version": "1.2.0",
            "bar_color": null,
            "_model_module": "@jupyter-widgets/controls"
          }
        },
        "a6007da940704a50b57b3643398d7a91": {
          "model_module": "@jupyter-widgets/base",
          "model_name": "LayoutModel",
          "model_module_version": "1.2.0",
          "state": {
            "_view_name": "LayoutView",
            "grid_template_rows": null,
            "right": null,
            "justify_content": null,
            "_view_module": "@jupyter-widgets/base",
            "overflow": null,
            "_model_module_version": "1.2.0",
            "_view_count": null,
            "flex_flow": null,
            "width": null,
            "min_width": null,
            "border": null,
            "align_items": null,
            "bottom": null,
            "_model_module": "@jupyter-widgets/base",
            "top": null,
            "grid_column": null,
            "overflow_y": null,
            "overflow_x": null,
            "grid_auto_flow": null,
            "grid_area": null,
            "grid_template_columns": null,
            "flex": null,
            "_model_name": "LayoutModel",
            "justify_items": null,
            "grid_row": null,
            "max_height": null,
            "align_content": null,
            "visibility": null,
            "align_self": null,
            "height": null,
            "min_height": null,
            "padding": null,
            "grid_auto_rows": null,
            "grid_gap": null,
            "max_width": null,
            "order": null,
            "_view_module_version": "1.2.0",
            "grid_template_areas": null,
            "object_position": null,
            "object_fit": null,
            "grid_auto_columns": null,
            "margin": null,
            "display": null,
            "left": null
          }
        },
        "a9261e19671b4a74842898993cf8e3c6": {
          "model_module": "@jupyter-widgets/controls",
          "model_name": "DescriptionStyleModel",
          "model_module_version": "1.5.0",
          "state": {
            "_view_name": "StyleView",
            "_model_name": "DescriptionStyleModel",
            "description_width": "",
            "_view_module": "@jupyter-widgets/base",
            "_model_module_version": "1.5.0",
            "_view_count": null,
            "_view_module_version": "1.2.0",
            "_model_module": "@jupyter-widgets/controls"
          }
        },
        "6c8da97ad9e64fe09c35149bc05fc614": {
          "model_module": "@jupyter-widgets/base",
          "model_name": "LayoutModel",
          "model_module_version": "1.2.0",
          "state": {
            "_view_name": "LayoutView",
            "grid_template_rows": null,
            "right": null,
            "justify_content": null,
            "_view_module": "@jupyter-widgets/base",
            "overflow": null,
            "_model_module_version": "1.2.0",
            "_view_count": null,
            "flex_flow": null,
            "width": null,
            "min_width": null,
            "border": null,
            "align_items": null,
            "bottom": null,
            "_model_module": "@jupyter-widgets/base",
            "top": null,
            "grid_column": null,
            "overflow_y": null,
            "overflow_x": null,
            "grid_auto_flow": null,
            "grid_area": null,
            "grid_template_columns": null,
            "flex": null,
            "_model_name": "LayoutModel",
            "justify_items": null,
            "grid_row": null,
            "max_height": null,
            "align_content": null,
            "visibility": null,
            "align_self": null,
            "height": null,
            "min_height": null,
            "padding": null,
            "grid_auto_rows": null,
            "grid_gap": null,
            "max_width": null,
            "order": null,
            "_view_module_version": "1.2.0",
            "grid_template_areas": null,
            "object_position": null,
            "object_fit": null,
            "grid_auto_columns": null,
            "margin": null,
            "display": null,
            "left": null
          }
        }
      }
    }
  },
  "nbformat": 4,
  "nbformat_minor": 0
}