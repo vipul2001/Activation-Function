{
  "cells": [
    {
      "cell_type": "code",
      "execution_count": 1,
      "metadata": {
        "id": "eyfTtR6Z0WUr"
      },
      "outputs": [],
      "source": [
        "from __future__ import print_function\n",
        "import numpy\n",
        "import os\n",
        "import torch\n",
        "import torch.nn as nn\n",
        "import torch.nn.functional as F\n",
        "import torchvision\n",
        "import torch.optim as optim\n",
        "from torchvision.datasets import ImageFolder\n",
        "from PIL import Image\n",
        "import numpy as np\n",
        "from torchvision import datasets, transforms\n",
        "from torch.autograd import Variable"
      ]
    },
    {
      "cell_type": "code",
      "execution_count": 2,
      "metadata": {
        "id": "SFx5Gnda1a9k"
      },
      "outputs": [],
      "source": [
        "class Net(nn.Module):\n",
        "    \"\"\"ConvNet -> Max_Pool -> RELU -> ConvNet -> Max_Pool -> RELU -> FC -> RELU -> FC -> SOFTMAX\"\"\"\n",
        "    def __init__(self):\n",
        "        super(Net, self).__init__()\n",
        "        self.conv1 = nn.Conv2d(1, 20, 5, 1)\n",
        "        self.bn1=torch.nn.BatchNorm2d(20)\n",
        "        self.w1_1 = torch.nn.Parameter(data=torch.abs(torch.randn (1)), requires_grad=True)\n",
        "        self.w2_1 = torch.nn.Parameter(data=torch.abs(torch.randn (1)), requires_grad=True)\n",
        "        self.w3_1 = torch.nn.Parameter(data=torch.abs(torch.randn (1)), requires_grad=True)\n",
        "        self.conv2 = nn.Conv2d(20, 50, 5, 1)\n",
        "        self.bn2=torch.nn.BatchNorm2d(50)\n",
        "        self.w1_2 = torch.nn.Parameter(data=torch.abs(torch.randn (1)), requires_grad=True)\n",
        "        self.w2_2 = torch.nn.Parameter(data=torch.abs(torch.randn (1)), requires_grad=True)\n",
        "        self.w3_2 = torch.nn.Parameter(data=torch.abs(torch.randn (1)), requires_grad=True)\n",
        "        self.fc1 = nn.Linear(4*4*50, 500)\n",
        "        self.bn3=torch.nn.BatchNorm1d(500)\n",
        "        self.w1_3 = torch.nn.Parameter(data=torch.abs(torch.randn (1)), requires_grad=True)\n",
        "        self.w2_3 = torch.nn.Parameter(data=torch.abs(torch.randn (1)), requires_grad=True)\n",
        "        self.w3_3 = torch.nn.Parameter(data=torch.abs(torch.randn (1)), requires_grad=True)\n",
        "        self.fc2 = nn.Linear(500, 10)\n",
        "\n",
        "    def forward(self, x):\n",
        "        x = ((self.bn1(self.conv1(x))))\n",
        "        self.w1_1.data=self.w1_1.data.clamp(min=0)\n",
        "        self.w2_1.data=self.w2_1.data.clamp(min=0)\n",
        "        self.w3_1.data=self.w3_1.data.clamp(min=0)\n",
        "        self.w1_2.data=self.w1_2.data.clamp(min=0)\n",
        "        self.w2_2.data=self.w2_2.data.clamp(min=0)\n",
        "        self.w3_2.data=self.w3_2.data.clamp(min=0)\n",
        "        self.w1_3.data=self.w1_3.data.clamp(min=0)\n",
        "        self.w2_3.data=self.w2_3.data.clamp(min=0)\n",
        "        self.w3_3.data=self.w3_3.data.clamp(min=0)\n",
        "        x =(self.w1_1*F.relu(x)+self.w2_1*F.tanh(x)+self.w3_1*torch.sin(x))/(self.w1_1+self.w2_1+self.w3_1+1e-5)\n",
        "        x = F.max_pool2d(x, 2, 2)\n",
        "        x = ((self.bn2(self.conv2(x))))\n",
        "        x =(self.w1_2*F.relu(x)+self.w2_2*F.tanh(x)+self.w3_2*torch.sin(x))/(self.w1_2+self.w2_2+self.w3_2+1e-5)\n",
        "        x = F.max_pool2d(x, 2, 2)\n",
        "        x = x.view(-1, 4*4*50)\n",
        "        x =(self.bn3(self.fc1(x)))\n",
        "        x =(self.w1_3*F.relu(x)+self.w2_3*F.tanh(x)+self.w3_3*torch.sin(x))/(self.w1_3+self.w2_3+self.w3_3+1e-5)\n",
        "        x = self.fc2(x)\n",
        "        return F.log_softmax(x, dim=1)\n"
      ]
    },
    {
      "cell_type": "code",
      "execution_count": 3,
      "metadata": {
        "id": "eS6c22cq49l1"
      },
      "outputs": [],
      "source": [
        "n_epochs = 30\n",
        "batch_size_train = 64\n",
        "batch_size_test = 1000\n",
        "learning_rate =1e-4\n",
        "momentum = 0.5\n",
        "log_interval = 200"
      ]
    },
    {
      "cell_type": "code",
      "execution_count": 4,
      "metadata": {
        "id": "zV1EnhYx1w93",
        "colab": {
          "base_uri": "https://localhost:8080/",
          "height": 422,
          "referenced_widgets": [
            "e949f2f942e34414a269a65e14c45d4e",
            "7b1680b87f7047cf93cc87e6f5584061",
            "fa3d8075ff8c47558306b8128727f920",
            "4f9be90bc6b4425fa2afb8fccff40a6f",
            "d53dfc1dbfb04847953dcf2e74c6cdc2",
            "c5aa685ef60a48ed86a39c9e45eb66f5",
            "36ecfdccfb2d4ceeaf4478246027e67c",
            "a8f4205f85a24ae5915adb27235ba1cc",
            "e208778bc2d14139892c344ee75d7a02",
            "fc305a9e174a4fe0bff772824f5e3afc",
            "44bba3651f1444ebb3eb3951b7746836",
            "82b2fa9af97d4709912dbb011e75e0d5",
            "29d3e8a3efaf4e34999a622b62d89ccc",
            "33d09f28afab4293ac4de80f73481223",
            "ba6f76ee93d1484bb8988707c164655c",
            "e758821f851346e5a89a28a7d2ba9317",
            "641897ad4681450b8b87a00c1c058603",
            "3e77ed1982404a46ac198a37fbc72626",
            "dbe834dbfea849db9bf6f817d47103f3",
            "1ee8dad83a424aa8b108f3dc84f32a0d",
            "5863f564943b42c894df6e97dab57ee1",
            "e79609dd33564af5b8eae9cab6542f0e",
            "f1ddf3732356499f8ba61ed6f848424d",
            "78a5855aefc646a8b34f6c241d2e2ea8",
            "678aa3e5620042a08ad9e1b10b7d45ad",
            "257b71c6c5ca4ff0af83264ee41db7ab",
            "c95d8deeab624b228ffecc1b989fe7e5",
            "58d1cd70c0ce4c8ca280adfbb1e0e514",
            "832fb678c264434c869f76d58544ab64",
            "e236ed86f13f47cfbd9f007e56ce5113",
            "95c30cc93a4f4dd49b1c4978ee075d16",
            "5fc0981338be4663ac12d4f9933a5403",
            "7c73ed68a5f74abc8a95fb2059149485",
            "6cf688a8c47945f29f0a637b6a011dac",
            "7a7f67795a4f467ebbb7877f8560bc62",
            "fa88789ac8064b9da6ba639e739df6f1",
            "37588a3213b94d4c87beb542322120f0",
            "184ece222bba43139efd1fb2beba9115",
            "4c69f5ff079f4c219d277c62216711b7",
            "98533fbd2d274a76a2aa100654f44ac6",
            "e7ed4357c43b413bb3b3d0c332e5516b",
            "067a8ac7cf52431689a3265fbfa7006b",
            "e379cec90eff48ce8b6d361606cf0f26",
            "c9956c37893748498fd69bfa1f1b0d92"
          ]
        },
        "outputId": "010c2875-7b85-4fa2-d8b4-26dd2593d818"
      },
      "outputs": [
        {
          "output_type": "stream",
          "name": "stdout",
          "text": [
            "Downloading http://codh.rois.ac.jp/kmnist/dataset/kmnist/train-images-idx3-ubyte.gz\n",
            "Downloading http://codh.rois.ac.jp/kmnist/dataset/kmnist/train-images-idx3-ubyte.gz to /d/KMNIST/raw/train-images-idx3-ubyte.gz\n"
          ]
        },
        {
          "output_type": "display_data",
          "data": {
            "application/vnd.jupyter.widget-view+json": {
              "model_id": "e949f2f942e34414a269a65e14c45d4e",
              "version_minor": 0,
              "version_major": 2
            },
            "text/plain": [
              "  0%|          | 0/18165135 [00:00<?, ?it/s]"
            ]
          },
          "metadata": {}
        },
        {
          "output_type": "stream",
          "name": "stdout",
          "text": [
            "Extracting /d/KMNIST/raw/train-images-idx3-ubyte.gz to /d/KMNIST/raw\n",
            "\n",
            "Downloading http://codh.rois.ac.jp/kmnist/dataset/kmnist/train-labels-idx1-ubyte.gz\n",
            "Downloading http://codh.rois.ac.jp/kmnist/dataset/kmnist/train-labels-idx1-ubyte.gz to /d/KMNIST/raw/train-labels-idx1-ubyte.gz\n"
          ]
        },
        {
          "output_type": "display_data",
          "data": {
            "application/vnd.jupyter.widget-view+json": {
              "model_id": "82b2fa9af97d4709912dbb011e75e0d5",
              "version_minor": 0,
              "version_major": 2
            },
            "text/plain": [
              "  0%|          | 0/29497 [00:00<?, ?it/s]"
            ]
          },
          "metadata": {}
        },
        {
          "output_type": "stream",
          "name": "stdout",
          "text": [
            "Extracting /d/KMNIST/raw/train-labels-idx1-ubyte.gz to /d/KMNIST/raw\n",
            "\n",
            "Downloading http://codh.rois.ac.jp/kmnist/dataset/kmnist/t10k-images-idx3-ubyte.gz\n",
            "Downloading http://codh.rois.ac.jp/kmnist/dataset/kmnist/t10k-images-idx3-ubyte.gz to /d/KMNIST/raw/t10k-images-idx3-ubyte.gz\n"
          ]
        },
        {
          "output_type": "display_data",
          "data": {
            "application/vnd.jupyter.widget-view+json": {
              "model_id": "f1ddf3732356499f8ba61ed6f848424d",
              "version_minor": 0,
              "version_major": 2
            },
            "text/plain": [
              "  0%|          | 0/3041136 [00:00<?, ?it/s]"
            ]
          },
          "metadata": {}
        },
        {
          "output_type": "stream",
          "name": "stdout",
          "text": [
            "Extracting /d/KMNIST/raw/t10k-images-idx3-ubyte.gz to /d/KMNIST/raw\n",
            "\n",
            "Downloading http://codh.rois.ac.jp/kmnist/dataset/kmnist/t10k-labels-idx1-ubyte.gz\n",
            "Downloading http://codh.rois.ac.jp/kmnist/dataset/kmnist/t10k-labels-idx1-ubyte.gz to /d/KMNIST/raw/t10k-labels-idx1-ubyte.gz\n"
          ]
        },
        {
          "output_type": "display_data",
          "data": {
            "application/vnd.jupyter.widget-view+json": {
              "model_id": "6cf688a8c47945f29f0a637b6a011dac",
              "version_minor": 0,
              "version_major": 2
            },
            "text/plain": [
              "  0%|          | 0/5120 [00:00<?, ?it/s]"
            ]
          },
          "metadata": {}
        },
        {
          "output_type": "stream",
          "name": "stdout",
          "text": [
            "Extracting /d/KMNIST/raw/t10k-labels-idx1-ubyte.gz to /d/KMNIST/raw\n",
            "\n"
          ]
        }
      ],
      "source": [
        "# transforms to apply to the data\n",
        "trans = transforms.Compose([transforms.ToTensor(), transforms.Normalize((0.1307,), (0.3081,))])\n",
        "\n",
        "# MNIST dataset\n",
        "train_loader = torch.utils.data.DataLoader(\n",
        "  torchvision.datasets.KMNIST('/d/', train=True, download=True,\n",
        "                             transform=torchvision.transforms.Compose([\n",
        "                               torchvision.transforms.ToTensor(),\n",
        "                               torchvision.transforms.Normalize(\n",
        "                                 (0.1307,), (0.3081,))\n",
        "                             ])),\n",
        "  batch_size=batch_size_train, shuffle=True)\n",
        "\n",
        "test_loader = torch.utils.data.DataLoader(\n",
        "  torchvision.datasets.KMNIST('/d/', train=False, download=True,\n",
        "                             transform=torchvision.transforms.Compose([\n",
        "                               torchvision.transforms.ToTensor(),\n",
        "                               torchvision.transforms.Normalize(\n",
        "                                 (0.1307,), (0.3081,))\n",
        "                             ])),\n",
        "  batch_size=batch_size_test, shuffle=True)"
      ]
    },
    {
      "cell_type": "code",
      "execution_count": 5,
      "metadata": {
        "id": "QR5o54hw4jg8"
      },
      "outputs": [],
      "source": [
        "examples = enumerate(test_loader)\n",
        "batch_idx, (example_data, example_targets) = next(examples)"
      ]
    },
    {
      "cell_type": "code",
      "execution_count": 6,
      "metadata": {
        "colab": {
          "base_uri": "https://localhost:8080/"
        },
        "id": "5bW8EhJO5pOS",
        "outputId": "e229d0b2-4903-42fe-acde-2ec88e530ee6"
      },
      "outputs": [
        {
          "output_type": "execute_result",
          "data": {
            "text/plain": [
              "torch.Size([1000, 1, 28, 28])"
            ]
          },
          "metadata": {},
          "execution_count": 6
        }
      ],
      "source": [
        "example_data.shape"
      ]
    },
    {
      "cell_type": "code",
      "execution_count": 7,
      "metadata": {
        "colab": {
          "base_uri": "https://localhost:8080/",
          "height": 551
        },
        "id": "2W2xc1T35rQk",
        "outputId": "98dd9a1b-42cb-4d8a-bfe9-762ab76b6339"
      },
      "outputs": [
        {
          "output_type": "execute_result",
          "data": {
            "image/png": "[encoded data removed]",
            "text/plain": [
              "<Figure size 432x288 with 6 Axes>"
            ]
          },
          "metadata": {},
          "execution_count": 7
        },
        {
          "output_type": "display_data",
          "data": {
            "image/png": "[encoded data removed]",
            "text/plain": [
              "<Figure size 432x288 with 6 Axes>"
            ]
          },
          "metadata": {}
        }
      ],
      "source": [
        "import matplotlib.pyplot as plt\n",
        "\n",
        "fig = plt.figure()\n",
        "for i in range(6):\n",
        "  plt.subplot(2,3,i+1)\n",
        "  plt.tight_layout()\n",
        "  plt.imshow(example_data[i][0], cmap='gray', interpolation='none')\n",
        "  plt.title(\"Ground Truth: {}\".format(example_targets[i]))\n",
        "  plt.xticks([])\n",
        "  plt.yticks([])\n",
        "fig"
      ]
    },
    {
      "cell_type": "code",
      "execution_count": 8,
      "metadata": {
        "id": "ydXMolcO5wSz"
      },
      "outputs": [],
      "source": [
        "network = Net()\n"
      ]
    },
    {
      "cell_type": "code",
      "execution_count": 9,
      "metadata": {
        "id": "etjRfmXd6CYH"
      },
      "outputs": [],
      "source": [
        "train_losses = []\n",
        "train_counter = []\n",
        "test_losses = []\n",
        "test_counter = [i*len(train_loader.dataset) for i in range(n_epochs + 1)]"
      ]
    },
    {
      "cell_type": "code",
      "execution_count": 10,
      "metadata": {
        "colab": {
          "base_uri": "https://localhost:8080/"
        },
        "id": "1Z10JM-1Ri50",
        "outputId": "3ba52d53-fac9-4f4d-d3f2-020df271804d"
      },
      "outputs": [
        {
          "output_type": "execute_result",
          "data": {
            "text/plain": [
              "Net(\n",
              "  (conv1): Conv2d(1, 20, kernel_size=(5, 5), stride=(1, 1))\n",
              "  (bn1): BatchNorm2d(20, eps=1e-05, momentum=0.1, affine=True, track_running_stats=True)\n",
              "  (conv2): Conv2d(20, 50, kernel_size=(5, 5), stride=(1, 1))\n",
              "  (bn2): BatchNorm2d(50, eps=1e-05, momentum=0.1, affine=True, track_running_stats=True)\n",
              "  (fc1): Linear(in_features=800, out_features=500, bias=True)\n",
              "  (bn3): BatchNorm1d(500, eps=1e-05, momentum=0.1, affine=True, track_running_stats=True)\n",
              "  (fc2): Linear(in_features=500, out_features=10, bias=True)\n",
              ")"
            ]
          },
          "metadata": {},
          "execution_count": 10
        }
      ],
      "source": [
        "network.cuda()"
      ]
    },
    {
      "cell_type": "code",
      "execution_count": 11,
      "metadata": {
        "id": "ilS-0c5o6Hg1"
      },
      "outputs": [],
      "source": [
        "def train(epoch):\n",
        "  network.train()\n",
        "  for batch_idx, (data, target) in enumerate(train_loader):\n",
        "    data=data.cuda()\n",
        "    target=target.cuda()\n",
        "    optimizer.zero_grad()\n",
        "    output = network(data)\n",
        "    loss = F.nll_loss(output, target)\n",
        "    loss.backward()\n",
        "    optimizer.step()\n",
        "    if batch_idx % log_interval == 0:\n",
        "      print('Train Epoch: {} [{}/{} ({:.0f}%)]\\tLoss: {:.6f}'.format(\n",
        "        epoch, batch_idx * len(data), len(train_loader.dataset),\n",
        "        100. * batch_idx / len(train_loader), loss.item()))\n",
        "      train_losses.append(loss.item())\n",
        "      train_counter.append(\n",
        "        (batch_idx*64) + ((epoch-1)*len(train_loader.dataset)))"
      ]
    },
    {
      "cell_type": "code",
      "execution_count": 12,
      "metadata": {
        "id": "LzxxFXZa6PS8"
      },
      "outputs": [],
      "source": [
        "def test():\n",
        "  network.eval()\n",
        "  test_loss = 0\n",
        "  correct = 0\n",
        "  with torch.no_grad():\n",
        "    for data, target in test_loader:\n",
        "      data=data.cuda()\n",
        "      target=target.cuda()\n",
        "      output = network(data)\n",
        "      test_loss += F.nll_loss(output, target, size_average=False).item()\n",
        "      pred = output.data.max(1, keepdim=True)[1]\n",
        "      correct += pred.eq(target.data.view_as(pred)).sum()\n",
        "  test_loss /= len(test_loader.dataset)\n",
        "  test_losses.append(test_loss)\n",
        "  test_counter.append(\n",
        "        (batch_idx*64) + ((epoch-1)*len(test_loader.dataset)))\n",
        "  print('\\nTest set: Avg. loss: {:.4f}, Accuracy: {}/{} ({:.0f}%)\\n'.format(\n",
        "    test_loss, correct, len(test_loader.dataset),\n",
        "    100. * correct / len(test_loader.dataset)))\n",
        "  print(network.w1_1/(network.w1_1+network.w2_1+network.w3_1))\n",
        "  print(network.w2_1/(network.w1_1+network.w2_1+network.w3_1))\n",
        "  print(network.w3_1/(network.w1_1+network.w2_1+network.w3_1))\n",
        "  print(network.w1_2/(network.w1_2+network.w2_2+network.w3_2))\n",
        "  print(network.w2_2/(network.w1_2+network.w2_2+network.w3_2))\n",
        "  print(network.w3_2/(network.w1_2+network.w2_2+network.w3_2))"
      ]
    },
    {
      "cell_type": "code",
      "execution_count": 13,
      "metadata": {
        "colab": {
          "base_uri": "https://localhost:8080/"
        },
        "id": "spFae66c6VHr",
        "outputId": "65b029ae-1b17-4b02-ac67-fcf83b3d74d1",
        "scrolled": true
      },
      "outputs": [
        {
          "output_type": "stream",
          "name": "stderr",
          "text": [
            "/usr/local/lib/python3.7/dist-packages/torch/nn/functional.py:1795: UserWarning: nn.functional.tanh is deprecated. Use torch.tanh instead.\n",
            "  warnings.warn(\"nn.functional.tanh is deprecated. Use torch.tanh instead.\")\n"
          ]
        },
        {
          "output_type": "stream",
          "name": "stdout",
          "text": [
            "Train Epoch: 1 [0/60000 (0%)]\tLoss: 2.269370\n",
            "Train Epoch: 1 [12800/60000 (21%)]\tLoss: 0.247543\n",
            "Train Epoch: 1 [25600/60000 (43%)]\tLoss: 0.101044\n",
            "Train Epoch: 1 [38400/60000 (64%)]\tLoss: 0.121667\n",
            "Train Epoch: 1 [51200/60000 (85%)]\tLoss: 0.034043\n"
          ]
        },
        {
          "output_type": "stream",
          "name": "stderr",
          "text": [
            "/usr/local/lib/python3.7/dist-packages/torch/nn/_reduction.py:42: UserWarning: size_average and reduce args will be deprecated, please use reduction='sum' instead.\n",
            "  warnings.warn(warning.format(ret))\n"
          ]
        },
        {
          "output_type": "stream",
          "name": "stdout",
          "text": [
            "\n",
            "Test set: Avg. loss: 0.2595, Accuracy: 9261/10000 (93%)\n",
            "\n",
            "tensor([0.6022], device='cuda:0', grad_fn=<DivBackward0>)\n",
            "tensor([0.0269], device='cuda:0', grad_fn=<DivBackward0>)\n",
            "tensor([0.3709], device='cuda:0', grad_fn=<DivBackward0>)\n",
            "tensor([0.2866], device='cuda:0', grad_fn=<DivBackward0>)\n",
            "tensor([0.6049], device='cuda:0', grad_fn=<DivBackward0>)\n",
            "tensor([0.1084], device='cuda:0', grad_fn=<DivBackward0>)\n",
            "Train Epoch: 2 [0/60000 (0%)]\tLoss: 0.111063\n",
            "Train Epoch: 2 [12800/60000 (21%)]\tLoss: 0.142546\n",
            "Train Epoch: 2 [25600/60000 (43%)]\tLoss: 0.074750\n",
            "Train Epoch: 2 [38400/60000 (64%)]\tLoss: 0.101197\n",
            "Train Epoch: 2 [51200/60000 (85%)]\tLoss: 0.025243\n",
            "\n",
            "Test set: Avg. loss: 0.2181, Accuracy: 9398/10000 (94%)\n",
            "\n",
            "tensor([0.6022], device='cuda:0', grad_fn=<DivBackward0>)\n",
            "tensor([0.0269], device='cuda:0', grad_fn=<DivBackward0>)\n",
            "tensor([0.3709], device='cuda:0', grad_fn=<DivBackward0>)\n",
            "tensor([0.2866], device='cuda:0', grad_fn=<DivBackward0>)\n",
            "tensor([0.6049], device='cuda:0', grad_fn=<DivBackward0>)\n",
            "tensor([0.1084], device='cuda:0', grad_fn=<DivBackward0>)\n",
            "Train Epoch: 3 [0/60000 (0%)]\tLoss: 0.023973\n",
            "Train Epoch: 3 [12800/60000 (21%)]\tLoss: 0.018291\n",
            "Train Epoch: 3 [25600/60000 (43%)]\tLoss: 0.062170\n",
            "Train Epoch: 3 [38400/60000 (64%)]\tLoss: 0.011125\n",
            "Train Epoch: 3 [51200/60000 (85%)]\tLoss: 0.110915\n",
            "\n",
            "Test set: Avg. loss: 0.1669, Accuracy: 9532/10000 (95%)\n",
            "\n",
            "tensor([0.6022], device='cuda:0', grad_fn=<DivBackward0>)\n",
            "tensor([0.0269], device='cuda:0', grad_fn=<DivBackward0>)\n",
            "tensor([0.3709], device='cuda:0', grad_fn=<DivBackward0>)\n",
            "tensor([0.2866], device='cuda:0', grad_fn=<DivBackward0>)\n",
            "tensor([0.6049], device='cuda:0', grad_fn=<DivBackward0>)\n",
            "tensor([0.1084], device='cuda:0', grad_fn=<DivBackward0>)\n",
            "Train Epoch: 4 [0/60000 (0%)]\tLoss: 0.054802\n",
            "Train Epoch: 4 [12800/60000 (21%)]\tLoss: 0.006355\n",
            "Train Epoch: 4 [25600/60000 (43%)]\tLoss: 0.090299\n",
            "Train Epoch: 4 [38400/60000 (64%)]\tLoss: 0.008996\n",
            "Train Epoch: 4 [51200/60000 (85%)]\tLoss: 0.045571\n",
            "\n",
            "Test set: Avg. loss: 0.2001, Accuracy: 9496/10000 (95%)\n",
            "\n",
            "tensor([0.6022], device='cuda:0', grad_fn=<DivBackward0>)\n",
            "tensor([0.0269], device='cuda:0', grad_fn=<DivBackward0>)\n",
            "tensor([0.3709], device='cuda:0', grad_fn=<DivBackward0>)\n",
            "tensor([0.2866], device='cuda:0', grad_fn=<DivBackward0>)\n",
            "tensor([0.6049], device='cuda:0', grad_fn=<DivBackward0>)\n",
            "tensor([0.1084], device='cuda:0', grad_fn=<DivBackward0>)\n",
            "Train Epoch: 5 [0/60000 (0%)]\tLoss: 0.021381\n",
            "Train Epoch: 5 [12800/60000 (21%)]\tLoss: 0.002384\n",
            "Train Epoch: 5 [25600/60000 (43%)]\tLoss: 0.013598\n",
            "Train Epoch: 5 [38400/60000 (64%)]\tLoss: 0.005447\n",
            "Train Epoch: 5 [51200/60000 (85%)]\tLoss: 0.013587\n",
            "\n",
            "Test set: Avg. loss: 0.2164, Accuracy: 9487/10000 (95%)\n",
            "\n",
            "tensor([0.6022], device='cuda:0', grad_fn=<DivBackward0>)\n",
            "tensor([0.0269], device='cuda:0', grad_fn=<DivBackward0>)\n",
            "tensor([0.3709], device='cuda:0', grad_fn=<DivBackward0>)\n",
            "tensor([0.2866], device='cuda:0', grad_fn=<DivBackward0>)\n",
            "tensor([0.6049], device='cuda:0', grad_fn=<DivBackward0>)\n",
            "tensor([0.1084], device='cuda:0', grad_fn=<DivBackward0>)\n",
            "Train Epoch: 6 [0/60000 (0%)]\tLoss: 0.011869\n",
            "Train Epoch: 6 [12800/60000 (21%)]\tLoss: 0.019244\n",
            "Train Epoch: 6 [25600/60000 (43%)]\tLoss: 0.005706\n",
            "Train Epoch: 6 [38400/60000 (64%)]\tLoss: 0.002257\n",
            "Train Epoch: 6 [51200/60000 (85%)]\tLoss: 0.005636\n",
            "\n",
            "Test set: Avg. loss: 0.1849, Accuracy: 9563/10000 (96%)\n",
            "\n",
            "tensor([0.6022], device='cuda:0', grad_fn=<DivBackward0>)\n",
            "tensor([0.0269], device='cuda:0', grad_fn=<DivBackward0>)\n",
            "tensor([0.3709], device='cuda:0', grad_fn=<DivBackward0>)\n",
            "tensor([0.2866], device='cuda:0', grad_fn=<DivBackward0>)\n",
            "tensor([0.6049], device='cuda:0', grad_fn=<DivBackward0>)\n",
            "tensor([0.1084], device='cuda:0', grad_fn=<DivBackward0>)\n",
            "Train Epoch: 7 [0/60000 (0%)]\tLoss: 0.002536\n",
            "Train Epoch: 7 [12800/60000 (21%)]\tLoss: 0.007725\n",
            "Train Epoch: 7 [25600/60000 (43%)]\tLoss: 0.005477\n",
            "Train Epoch: 7 [38400/60000 (64%)]\tLoss: 0.001865\n",
            "Train Epoch: 7 [51200/60000 (85%)]\tLoss: 0.000708\n",
            "\n",
            "Test set: Avg. loss: 0.2118, Accuracy: 9529/10000 (95%)\n",
            "\n",
            "tensor([0.6022], device='cuda:0', grad_fn=<DivBackward0>)\n",
            "tensor([0.0269], device='cuda:0', grad_fn=<DivBackward0>)\n",
            "tensor([0.3709], device='cuda:0', grad_fn=<DivBackward0>)\n",
            "tensor([0.2866], device='cuda:0', grad_fn=<DivBackward0>)\n",
            "tensor([0.6049], device='cuda:0', grad_fn=<DivBackward0>)\n",
            "tensor([0.1084], device='cuda:0', grad_fn=<DivBackward0>)\n",
            "Train Epoch: 8 [0/60000 (0%)]\tLoss: 0.001559\n",
            "Train Epoch: 8 [12800/60000 (21%)]\tLoss: 0.024132\n",
            "Train Epoch: 8 [25600/60000 (43%)]\tLoss: 0.004461\n",
            "Train Epoch: 8 [38400/60000 (64%)]\tLoss: 0.000364\n",
            "Train Epoch: 8 [51200/60000 (85%)]\tLoss: 0.000822\n",
            "\n",
            "Test set: Avg. loss: 0.2060, Accuracy: 9536/10000 (95%)\n",
            "\n",
            "tensor([0.6022], device='cuda:0', grad_fn=<DivBackward0>)\n",
            "tensor([0.0269], device='cuda:0', grad_fn=<DivBackward0>)\n",
            "tensor([0.3709], device='cuda:0', grad_fn=<DivBackward0>)\n",
            "tensor([0.2866], device='cuda:0', grad_fn=<DivBackward0>)\n",
            "tensor([0.6049], device='cuda:0', grad_fn=<DivBackward0>)\n",
            "tensor([0.1084], device='cuda:0', grad_fn=<DivBackward0>)\n",
            "Train Epoch: 9 [0/60000 (0%)]\tLoss: 0.001153\n",
            "Train Epoch: 9 [12800/60000 (21%)]\tLoss: 0.001116\n",
            "Train Epoch: 9 [25600/60000 (43%)]\tLoss: 0.014496\n",
            "Train Epoch: 9 [38400/60000 (64%)]\tLoss: 0.001393\n",
            "Train Epoch: 9 [51200/60000 (85%)]\tLoss: 0.003090\n",
            "\n",
            "Test set: Avg. loss: 0.2193, Accuracy: 9547/10000 (95%)\n",
            "\n",
            "tensor([0.6022], device='cuda:0', grad_fn=<DivBackward0>)\n",
            "tensor([0.0269], device='cuda:0', grad_fn=<DivBackward0>)\n",
            "tensor([0.3709], device='cuda:0', grad_fn=<DivBackward0>)\n",
            "tensor([0.2866], device='cuda:0', grad_fn=<DivBackward0>)\n",
            "tensor([0.6049], device='cuda:0', grad_fn=<DivBackward0>)\n",
            "tensor([0.1084], device='cuda:0', grad_fn=<DivBackward0>)\n",
            "Train Epoch: 10 [0/60000 (0%)]\tLoss: 0.012362\n",
            "Train Epoch: 10 [12800/60000 (21%)]\tLoss: 0.001466\n",
            "Train Epoch: 10 [25600/60000 (43%)]\tLoss: 0.000199\n",
            "Train Epoch: 10 [38400/60000 (64%)]\tLoss: 0.002487\n",
            "Train Epoch: 10 [51200/60000 (85%)]\tLoss: 0.010330\n",
            "\n",
            "Test set: Avg. loss: 0.2092, Accuracy: 9592/10000 (96%)\n",
            "\n",
            "tensor([0.6022], device='cuda:0', grad_fn=<DivBackward0>)\n",
            "tensor([0.0269], device='cuda:0', grad_fn=<DivBackward0>)\n",
            "tensor([0.3709], device='cuda:0', grad_fn=<DivBackward0>)\n",
            "tensor([0.2866], device='cuda:0', grad_fn=<DivBackward0>)\n",
            "tensor([0.6049], device='cuda:0', grad_fn=<DivBackward0>)\n",
            "tensor([0.1084], device='cuda:0', grad_fn=<DivBackward0>)\n",
            "Train Epoch: 1 [0/60000 (0%)]\tLoss: 0.000476\n",
            "Train Epoch: 1 [12800/60000 (21%)]\tLoss: 0.001555\n",
            "Train Epoch: 1 [25600/60000 (43%)]\tLoss: 0.001159\n",
            "Train Epoch: 1 [38400/60000 (64%)]\tLoss: 0.014033\n",
            "Train Epoch: 1 [51200/60000 (85%)]\tLoss: 0.000548\n",
            "\n",
            "Test set: Avg. loss: 0.2111, Accuracy: 9587/10000 (96%)\n",
            "\n",
            "tensor([0.5445], device='cuda:0', grad_fn=<DivBackward0>)\n",
            "tensor([0.], device='cuda:0', grad_fn=<DivBackward0>)\n",
            "tensor([0.4555], device='cuda:0', grad_fn=<DivBackward0>)\n",
            "tensor([0.4687], device='cuda:0', grad_fn=<DivBackward0>)\n",
            "tensor([0.0128], device='cuda:0', grad_fn=<DivBackward0>)\n",
            "tensor([0.5185], device='cuda:0', grad_fn=<DivBackward0>)\n",
            "Train Epoch: 2 [0/60000 (0%)]\tLoss: 0.000543\n",
            "Train Epoch: 2 [12800/60000 (21%)]\tLoss: 0.000459\n",
            "Train Epoch: 2 [25600/60000 (43%)]\tLoss: 0.003099\n",
            "Train Epoch: 2 [38400/60000 (64%)]\tLoss: 0.002075\n",
            "Train Epoch: 2 [51200/60000 (85%)]\tLoss: 0.000472\n",
            "\n",
            "Test set: Avg. loss: 0.2074, Accuracy: 9610/10000 (96%)\n",
            "\n",
            "tensor([0.5913], device='cuda:0', grad_fn=<DivBackward0>)\n",
            "tensor([0.], device='cuda:0', grad_fn=<DivBackward0>)\n",
            "tensor([0.4087], device='cuda:0', grad_fn=<DivBackward0>)\n",
            "tensor([0.4338], device='cuda:0', grad_fn=<DivBackward0>)\n",
            "tensor([0.0572], device='cuda:0', grad_fn=<DivBackward0>)\n",
            "tensor([0.5089], device='cuda:0', grad_fn=<DivBackward0>)\n",
            "Train Epoch: 3 [0/60000 (0%)]\tLoss: 0.000122\n",
            "Train Epoch: 3 [12800/60000 (21%)]\tLoss: 0.001100\n",
            "Train Epoch: 3 [25600/60000 (43%)]\tLoss: 0.004235\n",
            "Train Epoch: 3 [38400/60000 (64%)]\tLoss: 0.003929\n",
            "Train Epoch: 3 [51200/60000 (85%)]\tLoss: 0.000151\n",
            "\n",
            "Test set: Avg. loss: 0.2124, Accuracy: 9596/10000 (96%)\n",
            "\n",
            "tensor([0.5907], device='cuda:0', grad_fn=<DivBackward0>)\n",
            "tensor([0.0555], device='cuda:0', grad_fn=<DivBackward0>)\n",
            "tensor([0.3538], device='cuda:0', grad_fn=<DivBackward0>)\n",
            "tensor([0.3914], device='cuda:0', grad_fn=<DivBackward0>)\n",
            "tensor([0.1011], device='cuda:0', grad_fn=<DivBackward0>)\n",
            "tensor([0.5075], device='cuda:0', grad_fn=<DivBackward0>)\n",
            "Train Epoch: 4 [0/60000 (0%)]\tLoss: 0.000015\n",
            "Train Epoch: 4 [12800/60000 (21%)]\tLoss: 0.000065\n",
            "Train Epoch: 4 [25600/60000 (43%)]\tLoss: 0.005186\n",
            "Train Epoch: 4 [38400/60000 (64%)]\tLoss: 0.010026\n",
            "Train Epoch: 4 [51200/60000 (85%)]\tLoss: 0.000530\n",
            "\n",
            "Test set: Avg. loss: 0.2076, Accuracy: 9592/10000 (96%)\n",
            "\n",
            "tensor([0.5634], device='cuda:0', grad_fn=<DivBackward0>)\n",
            "tensor([0.0031], device='cuda:0', grad_fn=<DivBackward0>)\n",
            "tensor([0.4335], device='cuda:0', grad_fn=<DivBackward0>)\n",
            "tensor([0.4196], device='cuda:0', grad_fn=<DivBackward0>)\n",
            "tensor([0.0933], device='cuda:0', grad_fn=<DivBackward0>)\n",
            "tensor([0.4871], device='cuda:0', grad_fn=<DivBackward0>)\n",
            "Train Epoch: 5 [0/60000 (0%)]\tLoss: 0.003955\n",
            "Train Epoch: 5 [12800/60000 (21%)]\tLoss: 0.001527\n",
            "Train Epoch: 5 [25600/60000 (43%)]\tLoss: 0.017202\n",
            "Train Epoch: 5 [38400/60000 (64%)]\tLoss: 0.000403\n",
            "Train Epoch: 5 [51200/60000 (85%)]\tLoss: 0.039557\n",
            "\n",
            "Test set: Avg. loss: 0.2176, Accuracy: 9583/10000 (96%)\n",
            "\n",
            "tensor([0.6488], device='cuda:0', grad_fn=<DivBackward0>)\n",
            "tensor([0.0004], device='cuda:0', grad_fn=<DivBackward0>)\n",
            "tensor([0.3508], device='cuda:0', grad_fn=<DivBackward0>)\n",
            "tensor([0.4378], device='cuda:0', grad_fn=<DivBackward0>)\n",
            "tensor([0.0123], device='cuda:0', grad_fn=<DivBackward0>)\n",
            "tensor([0.5499], device='cuda:0', grad_fn=<DivBackward0>)\n",
            "Train Epoch: 6 [0/60000 (0%)]\tLoss: 0.000197\n",
            "Train Epoch: 6 [12800/60000 (21%)]\tLoss: 0.000421\n",
            "Train Epoch: 6 [25600/60000 (43%)]\tLoss: 0.000727\n",
            "Train Epoch: 6 [38400/60000 (64%)]\tLoss: 0.000166\n",
            "Train Epoch: 6 [51200/60000 (85%)]\tLoss: 0.002093\n",
            "\n",
            "Test set: Avg. loss: 0.2077, Accuracy: 9601/10000 (96%)\n",
            "\n",
            "tensor([0.5644], device='cuda:0', grad_fn=<DivBackward0>)\n",
            "tensor([0.0140], device='cuda:0', grad_fn=<DivBackward0>)\n",
            "tensor([0.4215], device='cuda:0', grad_fn=<DivBackward0>)\n",
            "tensor([0.4806], device='cuda:0', grad_fn=<DivBackward0>)\n",
            "tensor([0.0530], device='cuda:0', grad_fn=<DivBackward0>)\n",
            "tensor([0.4664], device='cuda:0', grad_fn=<DivBackward0>)\n",
            "Train Epoch: 7 [0/60000 (0%)]\tLoss: 0.002900\n",
            "Train Epoch: 7 [12800/60000 (21%)]\tLoss: 0.000219\n",
            "Train Epoch: 7 [25600/60000 (43%)]\tLoss: 0.000375\n",
            "Train Epoch: 7 [38400/60000 (64%)]\tLoss: 0.000634\n",
            "Train Epoch: 7 [51200/60000 (85%)]\tLoss: 0.000071\n",
            "\n",
            "Test set: Avg. loss: 0.2094, Accuracy: 9603/10000 (96%)\n",
            "\n",
            "tensor([0.6263], device='cuda:0', grad_fn=<DivBackward0>)\n",
            "tensor([0.], device='cuda:0', grad_fn=<DivBackward0>)\n",
            "tensor([0.3737], device='cuda:0', grad_fn=<DivBackward0>)\n",
            "tensor([0.4363], device='cuda:0', grad_fn=<DivBackward0>)\n",
            "tensor([0.0087], device='cuda:0', grad_fn=<DivBackward0>)\n",
            "tensor([0.5550], device='cuda:0', grad_fn=<DivBackward0>)\n",
            "Train Epoch: 8 [0/60000 (0%)]\tLoss: 0.007555\n",
            "Train Epoch: 8 [12800/60000 (21%)]\tLoss: 0.001314\n",
            "Train Epoch: 8 [25600/60000 (43%)]\tLoss: 0.000147\n",
            "Train Epoch: 8 [38400/60000 (64%)]\tLoss: 0.026981\n",
            "Train Epoch: 8 [51200/60000 (85%)]\tLoss: 0.001776\n",
            "\n",
            "Test set: Avg. loss: 0.2107, Accuracy: 9591/10000 (96%)\n",
            "\n",
            "tensor([0.6034], device='cuda:0', grad_fn=<DivBackward0>)\n",
            "tensor([0.0129], device='cuda:0', grad_fn=<DivBackward0>)\n",
            "tensor([0.3837], device='cuda:0', grad_fn=<DivBackward0>)\n",
            "tensor([0.4412], device='cuda:0', grad_fn=<DivBackward0>)\n",
            "tensor([0.0361], device='cuda:0', grad_fn=<DivBackward0>)\n",
            "tensor([0.5227], device='cuda:0', grad_fn=<DivBackward0>)\n",
            "Train Epoch: 9 [0/60000 (0%)]\tLoss: 0.001723\n",
            "Train Epoch: 9 [12800/60000 (21%)]\tLoss: 0.000044\n",
            "Train Epoch: 9 [25600/60000 (43%)]\tLoss: 0.003886\n",
            "Train Epoch: 9 [38400/60000 (64%)]\tLoss: 0.000155\n",
            "Train Epoch: 9 [51200/60000 (85%)]\tLoss: 0.003878\n",
            "\n",
            "Test set: Avg. loss: 0.2023, Accuracy: 9600/10000 (96%)\n",
            "\n",
            "tensor([0.5420], device='cuda:0', grad_fn=<DivBackward0>)\n",
            "tensor([0.], device='cuda:0', grad_fn=<DivBackward0>)\n",
            "tensor([0.4580], device='cuda:0', grad_fn=<DivBackward0>)\n",
            "tensor([0.4345], device='cuda:0', grad_fn=<DivBackward0>)\n",
            "tensor([0.0235], device='cuda:0', grad_fn=<DivBackward0>)\n",
            "tensor([0.5420], device='cuda:0', grad_fn=<DivBackward0>)\n",
            "Train Epoch: 10 [0/60000 (0%)]\tLoss: 0.000125\n",
            "Train Epoch: 10 [12800/60000 (21%)]\tLoss: 0.050039\n",
            "Train Epoch: 10 [25600/60000 (43%)]\tLoss: 0.014627\n",
            "Train Epoch: 10 [38400/60000 (64%)]\tLoss: 0.017401\n",
            "Train Epoch: 10 [51200/60000 (85%)]\tLoss: 0.000232\n",
            "\n",
            "Test set: Avg. loss: 0.2076, Accuracy: 9602/10000 (96%)\n",
            "\n",
            "tensor([0.5708], device='cuda:0', grad_fn=<DivBackward0>)\n",
            "tensor([0.0001], device='cuda:0', grad_fn=<DivBackward0>)\n",
            "tensor([0.4290], device='cuda:0', grad_fn=<DivBackward0>)\n",
            "tensor([0.4476], device='cuda:0', grad_fn=<DivBackward0>)\n",
            "tensor([0.0006], device='cuda:0', grad_fn=<DivBackward0>)\n",
            "tensor([0.5519], device='cuda:0', grad_fn=<DivBackward0>)\n",
            "Train Epoch: 11 [0/60000 (0%)]\tLoss: 0.000889\n",
            "Train Epoch: 11 [12800/60000 (21%)]\tLoss: 0.026868\n",
            "Train Epoch: 11 [25600/60000 (43%)]\tLoss: 0.001498\n",
            "Train Epoch: 11 [38400/60000 (64%)]\tLoss: 0.009344\n",
            "Train Epoch: 11 [51200/60000 (85%)]\tLoss: 0.001166\n",
            "\n",
            "Test set: Avg. loss: 0.2078, Accuracy: 9602/10000 (96%)\n",
            "\n",
            "tensor([0.5654], device='cuda:0', grad_fn=<DivBackward0>)\n",
            "tensor([0.0116], device='cuda:0', grad_fn=<DivBackward0>)\n",
            "tensor([0.4230], device='cuda:0', grad_fn=<DivBackward0>)\n",
            "tensor([0.4317], device='cuda:0', grad_fn=<DivBackward0>)\n",
            "tensor([0.0649], device='cuda:0', grad_fn=<DivBackward0>)\n",
            "tensor([0.5034], device='cuda:0', grad_fn=<DivBackward0>)\n",
            "Train Epoch: 12 [0/60000 (0%)]\tLoss: 0.003696\n",
            "Train Epoch: 12 [12800/60000 (21%)]\tLoss: 0.001206\n",
            "Train Epoch: 12 [25600/60000 (43%)]\tLoss: 0.008252\n",
            "Train Epoch: 12 [38400/60000 (64%)]\tLoss: 0.002131\n",
            "Train Epoch: 12 [51200/60000 (85%)]\tLoss: 0.002681\n",
            "\n",
            "Test set: Avg. loss: 0.2060, Accuracy: 9601/10000 (96%)\n",
            "\n",
            "tensor([0.5902], device='cuda:0', grad_fn=<DivBackward0>)\n",
            "tensor([0.0102], device='cuda:0', grad_fn=<DivBackward0>)\n",
            "tensor([0.3997], device='cuda:0', grad_fn=<DivBackward0>)\n",
            "tensor([0.3790], device='cuda:0', grad_fn=<DivBackward0>)\n",
            "tensor([0.1157], device='cuda:0', grad_fn=<DivBackward0>)\n",
            "tensor([0.5053], device='cuda:0', grad_fn=<DivBackward0>)\n",
            "Train Epoch: 13 [0/60000 (0%)]\tLoss: 0.000266\n",
            "Train Epoch: 13 [12800/60000 (21%)]\tLoss: 0.003591\n",
            "Train Epoch: 13 [25600/60000 (43%)]\tLoss: 0.012072\n",
            "Train Epoch: 13 [38400/60000 (64%)]\tLoss: 0.001153\n",
            "Train Epoch: 13 [51200/60000 (85%)]\tLoss: 0.003679\n",
            "\n",
            "Test set: Avg. loss: 0.2087, Accuracy: 9595/10000 (96%)\n",
            "\n",
            "tensor([0.6078], device='cuda:0', grad_fn=<DivBackward0>)\n",
            "tensor([3.2622e-05], device='cuda:0', grad_fn=<DivBackward0>)\n",
            "tensor([0.3922], device='cuda:0', grad_fn=<DivBackward0>)\n",
            "tensor([0.4235], device='cuda:0', grad_fn=<DivBackward0>)\n",
            "tensor([0.1258], device='cuda:0', grad_fn=<DivBackward0>)\n",
            "tensor([0.4507], device='cuda:0', grad_fn=<DivBackward0>)\n",
            "Train Epoch: 14 [0/60000 (0%)]\tLoss: 0.000450\n",
            "Train Epoch: 14 [12800/60000 (21%)]\tLoss: 0.001054\n",
            "Train Epoch: 14 [25600/60000 (43%)]\tLoss: 0.000786\n",
            "Train Epoch: 14 [38400/60000 (64%)]\tLoss: 0.000375\n",
            "Train Epoch: 14 [51200/60000 (85%)]\tLoss: 0.000535\n",
            "\n",
            "Test set: Avg. loss: 0.2082, Accuracy: 9589/10000 (96%)\n",
            "\n",
            "tensor([0.5588], device='cuda:0', grad_fn=<DivBackward0>)\n",
            "tensor([0.0328], device='cuda:0', grad_fn=<DivBackward0>)\n",
            "tensor([0.4084], device='cuda:0', grad_fn=<DivBackward0>)\n",
            "tensor([0.4477], device='cuda:0', grad_fn=<DivBackward0>)\n",
            "tensor([0.0882], device='cuda:0', grad_fn=<DivBackward0>)\n",
            "tensor([0.4641], device='cuda:0', grad_fn=<DivBackward0>)\n",
            "Train Epoch: 15 [0/60000 (0%)]\tLoss: 0.001348\n",
            "Train Epoch: 15 [12800/60000 (21%)]\tLoss: 0.001911\n",
            "Train Epoch: 15 [25600/60000 (43%)]\tLoss: 0.002966\n",
            "Train Epoch: 15 [38400/60000 (64%)]\tLoss: 0.001520\n",
            "Train Epoch: 15 [51200/60000 (85%)]\tLoss: 0.000364\n",
            "\n",
            "Test set: Avg. loss: 0.2100, Accuracy: 9595/10000 (96%)\n",
            "\n",
            "tensor([0.5424], device='cuda:0', grad_fn=<DivBackward0>)\n",
            "tensor([0.0383], device='cuda:0', grad_fn=<DivBackward0>)\n",
            "tensor([0.4193], device='cuda:0', grad_fn=<DivBackward0>)\n",
            "tensor([0.4883], device='cuda:0', grad_fn=<DivBackward0>)\n",
            "tensor([7.8606e-05], device='cuda:0', grad_fn=<DivBackward0>)\n",
            "tensor([0.5116], device='cuda:0', grad_fn=<DivBackward0>)\n",
            "Train Epoch: 16 [0/60000 (0%)]\tLoss: 0.012522\n",
            "Train Epoch: 16 [12800/60000 (21%)]\tLoss: 0.002271\n",
            "Train Epoch: 16 [25600/60000 (43%)]\tLoss: 0.002205\n",
            "Train Epoch: 16 [38400/60000 (64%)]\tLoss: 0.002023\n",
            "Train Epoch: 16 [51200/60000 (85%)]\tLoss: 0.000509\n",
            "\n",
            "Test set: Avg. loss: 0.2099, Accuracy: 9594/10000 (96%)\n",
            "\n",
            "tensor([0.5748], device='cuda:0', grad_fn=<DivBackward0>)\n",
            "tensor([0.], device='cuda:0', grad_fn=<DivBackward0>)\n",
            "tensor([0.4252], device='cuda:0', grad_fn=<DivBackward0>)\n",
            "tensor([0.4187], device='cuda:0', grad_fn=<DivBackward0>)\n",
            "tensor([0.0640], device='cuda:0', grad_fn=<DivBackward0>)\n",
            "tensor([0.5173], device='cuda:0', grad_fn=<DivBackward0>)\n",
            "Train Epoch: 17 [0/60000 (0%)]\tLoss: 0.002571\n",
            "Train Epoch: 17 [12800/60000 (21%)]\tLoss: 0.000295\n",
            "Train Epoch: 17 [25600/60000 (43%)]\tLoss: 0.000247\n",
            "Train Epoch: 17 [38400/60000 (64%)]\tLoss: 0.000460\n",
            "Train Epoch: 17 [51200/60000 (85%)]\tLoss: 0.003470\n",
            "\n",
            "Test set: Avg. loss: 0.2089, Accuracy: 9596/10000 (96%)\n",
            "\n",
            "tensor([0.5681], device='cuda:0', grad_fn=<DivBackward0>)\n",
            "tensor([0.0037], device='cuda:0', grad_fn=<DivBackward0>)\n",
            "tensor([0.4282], device='cuda:0', grad_fn=<DivBackward0>)\n",
            "tensor([0.4365], device='cuda:0', grad_fn=<DivBackward0>)\n",
            "tensor([0.0536], device='cuda:0', grad_fn=<DivBackward0>)\n",
            "tensor([0.5099], device='cuda:0', grad_fn=<DivBackward0>)\n",
            "Train Epoch: 18 [0/60000 (0%)]\tLoss: 0.000343\n",
            "Train Epoch: 18 [12800/60000 (21%)]\tLoss: 0.000137\n",
            "Train Epoch: 18 [25600/60000 (43%)]\tLoss: 0.004215\n",
            "Train Epoch: 18 [38400/60000 (64%)]\tLoss: 0.003604\n",
            "Train Epoch: 18 [51200/60000 (85%)]\tLoss: 0.001185\n",
            "\n",
            "Test set: Avg. loss: 0.2092, Accuracy: 9593/10000 (96%)\n",
            "\n",
            "tensor([0.5930], device='cuda:0', grad_fn=<DivBackward0>)\n",
            "tensor([0.0104], device='cuda:0', grad_fn=<DivBackward0>)\n",
            "tensor([0.3966], device='cuda:0', grad_fn=<DivBackward0>)\n",
            "tensor([0.3855], device='cuda:0', grad_fn=<DivBackward0>)\n",
            "tensor([0.1028], device='cuda:0', grad_fn=<DivBackward0>)\n",
            "tensor([0.5117], device='cuda:0', grad_fn=<DivBackward0>)\n",
            "Train Epoch: 19 [0/60000 (0%)]\tLoss: 0.008620\n",
            "Train Epoch: 19 [12800/60000 (21%)]\tLoss: 0.000137\n",
            "Train Epoch: 19 [25600/60000 (43%)]\tLoss: 0.003502\n",
            "Train Epoch: 19 [38400/60000 (64%)]\tLoss: 0.000504\n",
            "Train Epoch: 19 [51200/60000 (85%)]\tLoss: 0.003649\n",
            "\n",
            "Test set: Avg. loss: 0.2122, Accuracy: 9591/10000 (96%)\n",
            "\n",
            "tensor([0.5977], device='cuda:0', grad_fn=<DivBackward0>)\n",
            "tensor([0.0004], device='cuda:0', grad_fn=<DivBackward0>)\n",
            "tensor([0.4018], device='cuda:0', grad_fn=<DivBackward0>)\n",
            "tensor([0.3996], device='cuda:0', grad_fn=<DivBackward0>)\n",
            "tensor([0.0553], device='cuda:0', grad_fn=<DivBackward0>)\n",
            "tensor([0.5451], device='cuda:0', grad_fn=<DivBackward0>)\n",
            "Train Epoch: 20 [0/60000 (0%)]\tLoss: 0.004080\n",
            "Train Epoch: 20 [12800/60000 (21%)]\tLoss: 0.003499\n",
            "Train Epoch: 20 [25600/60000 (43%)]\tLoss: 0.018684\n",
            "Train Epoch: 20 [38400/60000 (64%)]\tLoss: 0.000367\n",
            "Train Epoch: 20 [51200/60000 (85%)]\tLoss: 0.002585\n",
            "\n",
            "Test set: Avg. loss: 0.2115, Accuracy: 9595/10000 (96%)\n",
            "\n",
            "tensor([0.5590], device='cuda:0', grad_fn=<DivBackward0>)\n",
            "tensor([0.0101], device='cuda:0', grad_fn=<DivBackward0>)\n",
            "tensor([0.4309], device='cuda:0', grad_fn=<DivBackward0>)\n",
            "tensor([0.3754], device='cuda:0', grad_fn=<DivBackward0>)\n",
            "tensor([0.1167], device='cuda:0', grad_fn=<DivBackward0>)\n",
            "tensor([0.5079], device='cuda:0', grad_fn=<DivBackward0>)\n",
            "Train Epoch: 1 [0/60000 (0%)]\tLoss: 0.000127\n",
            "Train Epoch: 1 [12800/60000 (21%)]\tLoss: 0.001753\n",
            "Train Epoch: 1 [25600/60000 (43%)]\tLoss: 0.004708\n",
            "Train Epoch: 1 [38400/60000 (64%)]\tLoss: 0.022526\n",
            "Train Epoch: 1 [51200/60000 (85%)]\tLoss: 0.002260\n",
            "\n",
            "Test set: Avg. loss: 0.2293, Accuracy: 9548/10000 (95%)\n",
            "\n",
            "tensor([0.5590], device='cuda:0', grad_fn=<DivBackward0>)\n",
            "tensor([0.0101], device='cuda:0', grad_fn=<DivBackward0>)\n",
            "tensor([0.4309], device='cuda:0', grad_fn=<DivBackward0>)\n",
            "tensor([0.3754], device='cuda:0', grad_fn=<DivBackward0>)\n",
            "tensor([0.1167], device='cuda:0', grad_fn=<DivBackward0>)\n",
            "tensor([0.5079], device='cuda:0', grad_fn=<DivBackward0>)\n",
            "Train Epoch: 2 [0/60000 (0%)]\tLoss: 0.000133\n",
            "Train Epoch: 2 [12800/60000 (21%)]\tLoss: 0.045134\n",
            "Train Epoch: 2 [25600/60000 (43%)]\tLoss: 0.000425\n",
            "Train Epoch: 2 [38400/60000 (64%)]\tLoss: 0.000048\n",
            "Train Epoch: 2 [51200/60000 (85%)]\tLoss: 0.003447\n",
            "\n",
            "Test set: Avg. loss: 0.1913, Accuracy: 9611/10000 (96%)\n",
            "\n",
            "tensor([0.5590], device='cuda:0', grad_fn=<DivBackward0>)\n",
            "tensor([0.0101], device='cuda:0', grad_fn=<DivBackward0>)\n",
            "tensor([0.4309], device='cuda:0', grad_fn=<DivBackward0>)\n",
            "tensor([0.3754], device='cuda:0', grad_fn=<DivBackward0>)\n",
            "tensor([0.1167], device='cuda:0', grad_fn=<DivBackward0>)\n",
            "tensor([0.5079], device='cuda:0', grad_fn=<DivBackward0>)\n",
            "Train Epoch: 3 [0/60000 (0%)]\tLoss: 0.004795\n",
            "Train Epoch: 3 [12800/60000 (21%)]\tLoss: 0.000159\n",
            "Train Epoch: 3 [25600/60000 (43%)]\tLoss: 0.000300\n",
            "Train Epoch: 3 [38400/60000 (64%)]\tLoss: 0.000499\n",
            "Train Epoch: 3 [51200/60000 (85%)]\tLoss: 0.001462\n",
            "\n",
            "Test set: Avg. loss: 0.2179, Accuracy: 9578/10000 (96%)\n",
            "\n",
            "tensor([0.5590], device='cuda:0', grad_fn=<DivBackward0>)\n",
            "tensor([0.0101], device='cuda:0', grad_fn=<DivBackward0>)\n",
            "tensor([0.4309], device='cuda:0', grad_fn=<DivBackward0>)\n",
            "tensor([0.3754], device='cuda:0', grad_fn=<DivBackward0>)\n",
            "tensor([0.1167], device='cuda:0', grad_fn=<DivBackward0>)\n",
            "tensor([0.5079], device='cuda:0', grad_fn=<DivBackward0>)\n",
            "Train Epoch: 4 [0/60000 (0%)]\tLoss: 0.000363\n",
            "Train Epoch: 4 [12800/60000 (21%)]\tLoss: 0.004467\n",
            "Train Epoch: 4 [25600/60000 (43%)]\tLoss: 0.000285\n",
            "Train Epoch: 4 [38400/60000 (64%)]\tLoss: 0.000958\n",
            "Train Epoch: 4 [51200/60000 (85%)]\tLoss: 0.000017\n",
            "\n",
            "Test set: Avg. loss: 0.2038, Accuracy: 9628/10000 (96%)\n",
            "\n",
            "tensor([0.5590], device='cuda:0', grad_fn=<DivBackward0>)\n",
            "tensor([0.0101], device='cuda:0', grad_fn=<DivBackward0>)\n",
            "tensor([0.4309], device='cuda:0', grad_fn=<DivBackward0>)\n",
            "tensor([0.3754], device='cuda:0', grad_fn=<DivBackward0>)\n",
            "tensor([0.1167], device='cuda:0', grad_fn=<DivBackward0>)\n",
            "tensor([0.5079], device='cuda:0', grad_fn=<DivBackward0>)\n",
            "Train Epoch: 5 [0/60000 (0%)]\tLoss: 0.040119\n",
            "Train Epoch: 5 [12800/60000 (21%)]\tLoss: 0.000143\n",
            "Train Epoch: 5 [25600/60000 (43%)]\tLoss: 0.000070\n",
            "Train Epoch: 5 [38400/60000 (64%)]\tLoss: 0.000327\n",
            "Train Epoch: 5 [51200/60000 (85%)]\tLoss: 0.002041\n",
            "\n",
            "Test set: Avg. loss: 0.2197, Accuracy: 9564/10000 (96%)\n",
            "\n",
            "tensor([0.5590], device='cuda:0', grad_fn=<DivBackward0>)\n",
            "tensor([0.0101], device='cuda:0', grad_fn=<DivBackward0>)\n",
            "tensor([0.4309], device='cuda:0', grad_fn=<DivBackward0>)\n",
            "tensor([0.3754], device='cuda:0', grad_fn=<DivBackward0>)\n",
            "tensor([0.1167], device='cuda:0', grad_fn=<DivBackward0>)\n",
            "tensor([0.5079], device='cuda:0', grad_fn=<DivBackward0>)\n",
            "Train Epoch: 6 [0/60000 (0%)]\tLoss: 0.001396\n",
            "Train Epoch: 6 [12800/60000 (21%)]\tLoss: 0.002543\n",
            "Train Epoch: 6 [25600/60000 (43%)]\tLoss: 0.000269\n",
            "Train Epoch: 6 [38400/60000 (64%)]\tLoss: 0.001780\n",
            "Train Epoch: 6 [51200/60000 (85%)]\tLoss: 0.001504\n",
            "\n",
            "Test set: Avg. loss: 0.2401, Accuracy: 9581/10000 (96%)\n",
            "\n",
            "tensor([0.5590], device='cuda:0', grad_fn=<DivBackward0>)\n",
            "tensor([0.0101], device='cuda:0', grad_fn=<DivBackward0>)\n",
            "tensor([0.4309], device='cuda:0', grad_fn=<DivBackward0>)\n",
            "tensor([0.3754], device='cuda:0', grad_fn=<DivBackward0>)\n",
            "tensor([0.1167], device='cuda:0', grad_fn=<DivBackward0>)\n",
            "tensor([0.5079], device='cuda:0', grad_fn=<DivBackward0>)\n",
            "Train Epoch: 7 [0/60000 (0%)]\tLoss: 0.000161\n",
            "Train Epoch: 7 [12800/60000 (21%)]\tLoss: 0.000014\n",
            "Train Epoch: 7 [25600/60000 (43%)]\tLoss: 0.000147\n",
            "Train Epoch: 7 [38400/60000 (64%)]\tLoss: 0.000553\n",
            "Train Epoch: 7 [51200/60000 (85%)]\tLoss: 0.000467\n",
            "\n",
            "Test set: Avg. loss: 0.2245, Accuracy: 9571/10000 (96%)\n",
            "\n",
            "tensor([0.5590], device='cuda:0', grad_fn=<DivBackward0>)\n",
            "tensor([0.0101], device='cuda:0', grad_fn=<DivBackward0>)\n",
            "tensor([0.4309], device='cuda:0', grad_fn=<DivBackward0>)\n",
            "tensor([0.3754], device='cuda:0', grad_fn=<DivBackward0>)\n",
            "tensor([0.1167], device='cuda:0', grad_fn=<DivBackward0>)\n",
            "tensor([0.5079], device='cuda:0', grad_fn=<DivBackward0>)\n",
            "Train Epoch: 8 [0/60000 (0%)]\tLoss: 0.009024\n",
            "Train Epoch: 8 [12800/60000 (21%)]\tLoss: 0.000500\n",
            "Train Epoch: 8 [25600/60000 (43%)]\tLoss: 0.000369\n",
            "Train Epoch: 8 [38400/60000 (64%)]\tLoss: 0.000185\n",
            "Train Epoch: 8 [51200/60000 (85%)]\tLoss: 0.000077\n",
            "\n",
            "Test set: Avg. loss: 0.2187, Accuracy: 9582/10000 (96%)\n",
            "\n",
            "tensor([0.5590], device='cuda:0', grad_fn=<DivBackward0>)\n",
            "tensor([0.0101], device='cuda:0', grad_fn=<DivBackward0>)\n",
            "tensor([0.4309], device='cuda:0', grad_fn=<DivBackward0>)\n",
            "tensor([0.3754], device='cuda:0', grad_fn=<DivBackward0>)\n",
            "tensor([0.1167], device='cuda:0', grad_fn=<DivBackward0>)\n",
            "tensor([0.5079], device='cuda:0', grad_fn=<DivBackward0>)\n",
            "Train Epoch: 9 [0/60000 (0%)]\tLoss: 0.046180\n",
            "Train Epoch: 9 [12800/60000 (21%)]\tLoss: 0.102634\n",
            "Train Epoch: 9 [25600/60000 (43%)]\tLoss: 0.002134\n",
            "Train Epoch: 9 [38400/60000 (64%)]\tLoss: 0.000293\n",
            "Train Epoch: 9 [51200/60000 (85%)]\tLoss: 0.000582\n",
            "\n",
            "Test set: Avg. loss: 0.2508, Accuracy: 9564/10000 (96%)\n",
            "\n",
            "tensor([0.5590], device='cuda:0', grad_fn=<DivBackward0>)\n",
            "tensor([0.0101], device='cuda:0', grad_fn=<DivBackward0>)\n",
            "tensor([0.4309], device='cuda:0', grad_fn=<DivBackward0>)\n",
            "tensor([0.3754], device='cuda:0', grad_fn=<DivBackward0>)\n",
            "tensor([0.1167], device='cuda:0', grad_fn=<DivBackward0>)\n",
            "tensor([0.5079], device='cuda:0', grad_fn=<DivBackward0>)\n",
            "Train Epoch: 10 [0/60000 (0%)]\tLoss: 0.000331\n",
            "Train Epoch: 10 [12800/60000 (21%)]\tLoss: 0.000051\n",
            "Train Epoch: 10 [25600/60000 (43%)]\tLoss: 0.000045\n",
            "Train Epoch: 10 [38400/60000 (64%)]\tLoss: 0.000192\n",
            "Train Epoch: 10 [51200/60000 (85%)]\tLoss: 0.000056\n",
            "\n",
            "Test set: Avg. loss: 0.2063, Accuracy: 9624/10000 (96%)\n",
            "\n",
            "tensor([0.5590], device='cuda:0', grad_fn=<DivBackward0>)\n",
            "tensor([0.0101], device='cuda:0', grad_fn=<DivBackward0>)\n",
            "tensor([0.4309], device='cuda:0', grad_fn=<DivBackward0>)\n",
            "tensor([0.3754], device='cuda:0', grad_fn=<DivBackward0>)\n",
            "tensor([0.1167], device='cuda:0', grad_fn=<DivBackward0>)\n",
            "tensor([0.5079], device='cuda:0', grad_fn=<DivBackward0>)\n"
          ]
        }
      ],
      "source": [
        "optimizer = torch.optim.Adam(\n",
        "    [\n",
        "        {\"params\": network.conv1.parameters(), \"lr\": 1e-3},\n",
        "        {\"params\": network.conv2.parameters(), \"lr\": 1e-3},\n",
        "        {\"params\": network.bn1.parameters(), \"lr\": 1e-3},\n",
        "        {\"params\": network.bn2.parameters(), \"lr\": 1e-3},\n",
        "        {\"params\": network.bn3.parameters(), \"lr\": 1e-3},\n",
        "        {\"params\": network.fc1.parameters(), \"lr\": 1e-3},\n",
        "        {\"params\": network.fc2.parameters(), \"lr\": 1e-3},\n",
        "        {\"params\": network.w1_1},\n",
        "        {\"params\": network.w2_1},\n",
        "        {\"params\": network.w3_1},\n",
        "        {\"params\": network.w1_2},\n",
        "        {\"params\": network.w2_2},\n",
        "        {\"params\": network.w3_2},\n",
        "        {\"params\": network.w1_3},\n",
        "        {\"params\": network.w2_3},\n",
        "        {\"params\": network.w3_3},\n",
        "        \n",
        "    ],\n",
        "    lr=0,\n",
        ")\n",
        "for epoch in range(1, 10 + 1):\n",
        "  train(epoch)\n",
        "  test()\n",
        "optimizer = torch.optim.Adam(\n",
        "    [\n",
        "        {\"params\": network.conv1.parameters(), \"lr\": 0},\n",
        "        {\"params\": network.conv2.parameters(), \"lr\": 0},\n",
        "        {\"params\": network.bn1.parameters(), \"lr\":0},\n",
        "        {\"params\": network.bn2.parameters(), \"lr\": 0},\n",
        "        {\"params\": network.bn3.parameters(), \"lr\": 0},\n",
        "        {\"params\": network.fc1.parameters(), \"lr\": 0},\n",
        "        {\"params\": network.fc2.parameters(), \"lr\": 0},\n",
        "        {\"params\": network.w1_1},\n",
        "        {\"params\": network.w2_1},\n",
        "        {\"params\": network.w3_1},\n",
        "        {\"params\": network.w1_2},\n",
        "        {\"params\": network.w2_2},\n",
        "        {\"params\": network.w3_2},\n",
        "        {\"params\": network.w1_3},\n",
        "        {\"params\": network.w2_3},\n",
        "        {\"params\": network.w3_3},\n",
        "        \n",
        "    ],\n",
        "    lr=1e-2,\n",
        ")\n",
        "for epoch in range(1, 20 + 1):\n",
        "  train(epoch)\n",
        "  test()\n",
        "optimizer = torch.optim.Adam(\n",
        "    [\n",
        "        {\"params\": network.conv1.parameters(), \"lr\": 1e-3},\n",
        "        {\"params\": network.conv2.parameters(), \"lr\": 1e-3},\n",
        "        {\"params\": network.bn1.parameters(), \"lr\": 1e-3},\n",
        "        {\"params\": network.bn2.parameters(), \"lr\": 1e-3},\n",
        "        {\"params\": network.bn3.parameters(), \"lr\": 1e-3},\n",
        "        {\"params\": network.fc1.parameters(), \"lr\": 1e-3},\n",
        "        {\"params\": network.fc2.parameters(), \"lr\": 1e-3},\n",
        "        {\"params\": network.w1_1, \"lr\": 0},\n",
        "        {\"params\": network.w2_1, \"lr\": 0},\n",
        "        {\"params\": network.w3_1, \"lr\": 0},\n",
        "        {\"params\": network.w1_2, \"lr\": 0},\n",
        "        {\"params\": network.w2_2, \"lr\": 0},\n",
        "        {\"params\": network.w3_2, \"lr\": 0},\n",
        "        {\"params\": network.w1_3, \"lr\": 0},\n",
        "        {\"params\": network.w2_3, \"lr\": 0},\n",
        "        {\"params\": network.w3_3, \"lr\": 0},\n",
        "        \n",
        "    ],\n",
        "    lr=1e-4,\n",
        ")\n",
        "for epoch in range(1, 10 + 1):\n",
        "  train(epoch)\n",
        "  test()"
      ]
    },
    {
      "cell_type": "code",
      "execution_count": 14,
      "metadata": {
        "id": "xpzvtq4lRi55"
      },
      "outputs": [],
      "source": [
        "torch.save(network, 'MNIST.pth')"
      ]
    },
    {
      "cell_type": "code",
      "execution_count": 15,
      "metadata": {
        "colab": {
          "base_uri": "https://localhost:8080/"
        },
        "id": "1GgLncZcRi56",
        "outputId": "21f6f347-a3f3-4e90-9f3d-60f69a19a699"
      },
      "outputs": [
        {
          "output_type": "execute_result",
          "data": {
            "text/plain": [
              "Net(\n",
              "  (conv1): Conv2d(1, 20, kernel_size=(5, 5), stride=(1, 1))\n",
              "  (bn1): BatchNorm2d(20, eps=1e-05, momentum=0.1, affine=True, track_running_stats=True)\n",
              "  (conv2): Conv2d(20, 50, kernel_size=(5, 5), stride=(1, 1))\n",
              "  (bn2): BatchNorm2d(50, eps=1e-05, momentum=0.1, affine=True, track_running_stats=True)\n",
              "  (fc1): Linear(in_features=800, out_features=500, bias=True)\n",
              "  (bn3): BatchNorm1d(500, eps=1e-05, momentum=0.1, affine=True, track_running_stats=True)\n",
              "  (fc2): Linear(in_features=500, out_features=10, bias=True)\n",
              ")"
            ]
          },
          "metadata": {},
          "execution_count": 15
        }
      ],
      "source": [
        "\n",
        "\n",
        "network = torch.load('MNIST.pth')\n",
        "network.eval()"
      ]
    },
    {
      "cell_type": "code",
      "execution_count": 16,
      "metadata": {
        "colab": {
          "base_uri": "https://localhost:8080/",
          "height": 874
        },
        "id": "VwW6b-ygRi57",
        "outputId": "4ccb15aa-7a88-40e8-f958-181d302ae28d"
      },
      "outputs": [
        {
          "output_type": "stream",
          "name": "stderr",
          "text": [
            "/usr/local/lib/python3.7/dist-packages/torch/nn/functional.py:1795: UserWarning: nn.functional.tanh is deprecated. Use torch.tanh instead.\n",
            "  warnings.warn(\"nn.functional.tanh is deprecated. Use torch.tanh instead.\")\n"
          ]
        },
        {
          "output_type": "display_data",
          "data": {
            "image/png": "[encoded data removed]",
            "text/plain": [
              "<Figure size 432x288 with 1 Axes>"
            ]
          },
          "metadata": {}
        },
        {
          "output_type": "stream",
          "name": "stderr",
          "text": [
            "/usr/local/lib/python3.7/dist-packages/torch/nn/functional.py:1795: UserWarning: nn.functional.tanh is deprecated. Use torch.tanh instead.\n",
            "  warnings.warn(\"nn.functional.tanh is deprecated. Use torch.tanh instead.\")\n"
          ]
        },
        {
          "output_type": "display_data",
          "data": {
            "image/png": "[encoded data removed]",
            "text/plain": [
              "<Figure size 432x288 with 1 Axes>"
            ]
          },
          "metadata": {}
        },
        {
          "output_type": "stream",
          "name": "stderr",
          "text": [
            "/usr/local/lib/python3.7/dist-packages/torch/nn/functional.py:1795: UserWarning: nn.functional.tanh is deprecated. Use torch.tanh instead.\n",
            "  warnings.warn(\"nn.functional.tanh is deprecated. Use torch.tanh instead.\")\n"
          ]
        },
        {
          "output_type": "display_data",
          "data": {
            "image/png": "[encoded data removed]",
            "text/plain": [
              "<Figure size 432x288 with 1 Axes>"
            ]
          },
          "metadata": {}
        }
      ],
      "source": [
        "network.cpu()\n",
        "import seaborn as sns\n",
        "sns.set()\n",
        "x = torch.Tensor(np.linspace(-3, 3))\n",
        "plt.plot(x.cpu().detach().numpy(),(network.w1_1*F.relu(x)+network.w2_1*F.tanh(x)+network.w3_1*torch.sin(x)).detach().numpy()/(network.w1_1+network.w2_1+network.w3_1+1e-5).cpu().detach().numpy())\n",
        "#plt.yscale('log')\n",
        "plt.show()\n",
        "plt.plot(x.cpu().detach().numpy(),(network.w1_2*F.relu(x)+network.w2_2*F.tanh(x)+network.w3_2*torch.sin(x)).detach().numpy()/(network.w1_2+network.w2_2+network.w3_2+1e-5).cpu().detach().numpy())\n",
        "plt.show()\n",
        "plt.plot(x.cpu().detach().numpy(),(network.w1_3*F.relu(x)+network.w2_3*F.tanh(x)+network.w3_3*torch.sin(x)).detach().numpy()/(network.w1_3+network.w2_3+network.w3_3+1e-5).cpu().detach().numpy())\n",
        "plt.show()\n",
        "\n"
      ]
    },
    {
      "cell_type": "code",
      "execution_count": 17,
      "metadata": {
        "colab": {
          "base_uri": "https://localhost:8080/",
          "height": 553
        },
        "id": "pjmztxHY6XpE",
        "outputId": "0137d7c1-a435-40de-b87c-6030a280b669"
      },
      "outputs": [
        {
          "output_type": "execute_result",
          "data": {
            "image/png": "[encoded data removed]",
            "text/plain": [
              "<Figure size 432x288 with 1 Axes>"
            ]
          },
          "metadata": {},
          "execution_count": 17
        },
        {
          "output_type": "display_data",
          "data": {
            "image/png": "[encoded data removed]",
            "text/plain": [
              "<Figure size 432x288 with 1 Axes>"
            ]
          },
          "metadata": {}
        }
      ],
      "source": [
        "fig = plt.figure()\n",
        "plt.plot(train_counter, train_losses, color='blue')\n",
        "\n",
        "train_losses1=train_losses\n",
        "plt.legend(['Train Loss', 'Test Loss'], loc='upper right')\n",
        "plt.xlabel('Number of Training Examples Seen')\n",
        "plt.ylabel('Negative Log Likelihood Loss')\n",
        "fig"
      ]
    },
    {
      "cell_type": "code",
      "execution_count": 18,
      "metadata": {
        "colab": {
          "base_uri": "https://localhost:8080/",
          "height": 553
        },
        "id": "lHAdEj5hRi58",
        "outputId": "26e1309d-c71a-4d81-d6d6-8eb77f551046"
      },
      "outputs": [
        {
          "output_type": "execute_result",
          "data": {
            "image/png": "[encoded data removed]",
            "text/plain": [
              "<Figure size 432x288 with 1 Axes>"
            ]
          },
          "metadata": {},
          "execution_count": 18
        },
        {
          "output_type": "display_data",
          "data": {
            "image/png": "[encoded data removed]",
            "text/plain": [
              "<Figure size 432x288 with 1 Axes>"
            ]
          },
          "metadata": {}
        }
      ],
      "source": [
        "fig = plt.figure()\n",
        "plt.plot(train_losses, color='blue')\n",
        "plt.plot( test_losses, color='red')\n",
        "train_losses1=train_losses\n",
        "plt.legend(['Train Loss', 'Test Loss'], loc='upper right')\n",
        "plt.xlabel('Number of Training Examples Seen')\n",
        "plt.ylabel('Negative Log Likelihood Loss')\n",
        "fig"
      ]
    },
    {
      "cell_type": "code",
      "execution_count": 19,
      "metadata": {
        "colab": {
          "base_uri": "https://localhost:8080/"
        },
        "id": "GS59whbp8DaA",
        "outputId": "287d0413-3cd9-493e-82ac-8bf98d740030"
      },
      "outputs": [
        {
          "output_type": "stream",
          "name": "stderr",
          "text": [
            "/usr/local/lib/python3.7/dist-packages/torch/nn/functional.py:1795: UserWarning: nn.functional.tanh is deprecated. Use torch.tanh instead.\n",
            "  warnings.warn(\"nn.functional.tanh is deprecated. Use torch.tanh instead.\")\n"
          ]
        }
      ],
      "source": [
        "with torch.no_grad():\n",
        "  output = network(example_data)"
      ]
    },
    {
      "cell_type": "code",
      "execution_count": 20,
      "metadata": {
        "colab": {
          "base_uri": "https://localhost:8080/",
          "height": 529
        },
        "id": "NkitMzx696D0",
        "outputId": "abea5b1f-4c9a-4de2-ff57-0c14d8f3dc1d"
      },
      "outputs": [
        {
          "output_type": "execute_result",
          "data": {
            "image/png": "[encoded data removed]",
            "text/plain": [
              "<Figure size 432x288 with 6 Axes>"
            ]
          },
          "metadata": {},
          "execution_count": 20
        },
        {
          "output_type": "display_data",
          "data": {
            "image/png": "[encoded data removed]",
            "text/plain": [
              "<Figure size 432x288 with 6 Axes>"
            ]
          },
          "metadata": {}
        }
      ],
      "source": [
        "fig = plt.figure()\n",
        "for i in range(6):\n",
        "  plt.subplot(2,3,i+1)\n",
        "  plt.tight_layout()\n",
        "  plt.imshow(example_data[i][0], cmap='gray', interpolation='none')\n",
        "  plt.title(\"Prediction: {}\".format(\n",
        "    output.data.max(1, keepdim=True)[1][i].item()))\n",
        "  plt.xticks([])\n",
        "  plt.yticks([])\n",
        "fig"
      ]
    },
    {
      "cell_type": "code",
      "source": [
        "network"
      ],
      "metadata": {
        "colab": {
          "base_uri": "https://localhost:8080/"
        },
        "id": "Mv1Ge2pVRoy4",
        "outputId": "d51d64cf-3702-4a8c-d7b6-c33080d2913d"
      },
      "execution_count": 21,
      "outputs": [
        {
          "output_type": "execute_result",
          "data": {
            "text/plain": [
              "Net(\n",
              "  (conv1): Conv2d(1, 20, kernel_size=(5, 5), stride=(1, 1))\n",
              "  (bn1): BatchNorm2d(20, eps=1e-05, momentum=0.1, affine=True, track_running_stats=True)\n",
              "  (conv2): Conv2d(20, 50, kernel_size=(5, 5), stride=(1, 1))\n",
              "  (bn2): BatchNorm2d(50, eps=1e-05, momentum=0.1, affine=True, track_running_stats=True)\n",
              "  (fc1): Linear(in_features=800, out_features=500, bias=True)\n",
              "  (bn3): BatchNorm1d(500, eps=1e-05, momentum=0.1, affine=True, track_running_stats=True)\n",
              "  (fc2): Linear(in_features=500, out_features=10, bias=True)\n",
              ")"
            ]
          },
          "metadata": {},
          "execution_count": 21
        }
      ]
    },
    {
      "cell_type": "code",
      "source": [
        "x = torch.Tensor(np.linspace(-3, 3))\n",
        "plt.plot(x.cpu().detach().numpy(),(network.w1_1*F.relu(x)+network.w2_1*F.tanh(x)+network.w3_1*torch.sin(x)).detach().numpy()/(network.w1_1+network.w2_1+network.w3_1+1e-5).cpu().detach().numpy(),label='Layer 1')\n",
        "plt.plot(x.cpu().detach().numpy(),(network.w1_2*F.relu(x)+network.w2_2*F.tanh(x)+network.w3_2*torch.sin(x)).detach().numpy()/(network.w1_2+network.w2_2+network.w3_2+1e-5).cpu().detach().numpy(),label='Layer 2')\n",
        "plt.plot(x.cpu().detach().numpy(),(network.w1_3*F.relu(x)+network.w2_3*F.tanh(x)+network.w3_3*torch.sin(x)).detach().numpy()/(network.w1_3+network.w2_3+network.w3_3+1e-5).cpu().detach().numpy(),label='Layer 3')\n",
        "plt.legend(ncol=1, loc='upper left');\n",
        "plt.show()\n"
      ],
      "metadata": {
        "colab": {
          "base_uri": "https://localhost:8080/",
          "height": 372
        },
        "id": "99U4R8OHV6Tc",
        "outputId": "710eaf66-acde-4055-d42a-6abd62beee75"
      },
      "execution_count": 22,
      "outputs": [
        {
          "output_type": "stream",
          "name": "stderr",
          "text": [
            "/usr/local/lib/python3.7/dist-packages/torch/nn/functional.py:1795: UserWarning: nn.functional.tanh is deprecated. Use torch.tanh instead.\n",
            "  warnings.warn(\"nn.functional.tanh is deprecated. Use torch.tanh instead.\")\n",
            "/usr/local/lib/python3.7/dist-packages/torch/nn/functional.py:1795: UserWarning: nn.functional.tanh is deprecated. Use torch.tanh instead.\n",
            "  warnings.warn(\"nn.functional.tanh is deprecated. Use torch.tanh instead.\")\n",
            "/usr/local/lib/python3.7/dist-packages/torch/nn/functional.py:1795: UserWarning: nn.functional.tanh is deprecated. Use torch.tanh instead.\n",
            "  warnings.warn(\"nn.functional.tanh is deprecated. Use torch.tanh instead.\")\n"
          ]
        },
        {
          "output_type": "display_data",
          "data": {
            "image/png": "[encoded data removed]",
            "text/plain": [
              "<Figure size 432x288 with 1 Axes>"
            ]
          },
          "metadata": {}
        }
      ]
    },
    {
      "cell_type": "code",
      "source": [
        ""
      ],
      "metadata": {
        "id": "Gm37tFYYV8Om"
      },
      "execution_count": 22,
      "outputs": []
    },
    {
      "cell_type": "code",
      "source": [
        "  print(network.w1_1/(network.w1_1+network.w2_1+network.w3_1))\n",
        "  print(network.w2_1/(network.w1_1+network.w2_1+network.w3_1))\n",
        "  print(network.w3_1/(network.w1_1+network.w2_1+network.w3_1))\n",
        "  print(network.w1_2/(network.w1_2+network.w2_2+network.w3_2))\n",
        "  print(network.w2_2/(network.w1_2+network.w2_2+network.w3_2))\n",
        "  print(network.w3_2/(network.w1_2+network.w2_2+network.w3_2))\n",
        "  print(network.w1_3/(network.w1_3+network.w2_3+network.w3_3))\n",
        "  print(network.w2_3/(network.w1_3+network.w2_3+network.w3_3))\n",
        "  print(network.w3_3/(network.w1_3+network.w2_3+network.w3_3))"
      ],
      "metadata": {
        "colab": {
          "base_uri": "https://localhost:8080/"
        },
        "id": "yYEhJLUyWHLe",
        "outputId": "bb98e9d5-5708-44c5-b115-6f65a9f29251"
      },
      "execution_count": 23,
      "outputs": [
        {
          "output_type": "stream",
          "name": "stdout",
          "text": [
            "tensor([0.5590], grad_fn=<DivBackward0>)\n",
            "tensor([0.0101], grad_fn=<DivBackward0>)\n",
            "tensor([0.4309], grad_fn=<DivBackward0>)\n",
            "tensor([0.3754], grad_fn=<DivBackward0>)\n",
            "tensor([0.1167], grad_fn=<DivBackward0>)\n",
            "tensor([0.5079], grad_fn=<DivBackward0>)\n",
            "tensor([0.0679], grad_fn=<DivBackward0>)\n",
            "tensor([0.0156], grad_fn=<DivBackward0>)\n",
            "tensor([0.9165], grad_fn=<DivBackward0>)\n"
          ]
        }
      ]
    },
    {
      "cell_type": "code",
      "source": [
        "x = torch.Tensor(np.linspace(-10, 10))\n",
        "plt.plot(x.cpu().detach().numpy(),(network.w1_1*F.relu(x)+network.w2_1*F.tanh(x)+network.w3_1*torch.sin(x)).detach().numpy()/(network.w1_1+network.w2_1+network.w3_1+1e-5).cpu().detach().numpy(),label='Layer 1')\n",
        "plt.plot(x.cpu().detach().numpy(),(network.w1_2*F.relu(x)+network.w2_2*F.tanh(x)+network.w3_2*torch.sin(x)).detach().numpy()/(network.w1_2+network.w2_2+network.w3_2+1e-5).cpu().detach().numpy(),label='Layer 2')\n",
        "plt.plot(x.cpu().detach().numpy(),(network.w1_3*F.relu(x)+network.w2_3*F.tanh(x)+network.w3_3*torch.sin(x)).detach().numpy()/(network.w1_3+network.w2_3+network.w3_3+1e-5).cpu().detach().numpy(),label='Layer 3')\n",
        "plt.legend(ncol=1, loc='upper left');\n",
        "plt.show()"
      ],
      "metadata": {
        "id": "Ns-wvL-1Wy-x",
        "colab": {
          "base_uri": "https://localhost:8080/",
          "height": 372
        },
        "outputId": "e9e02970-e236-464d-af75-44fc6f60ad47"
      },
      "execution_count": 24,
      "outputs": [
        {
          "output_type": "stream",
          "name": "stderr",
          "text": [
            "/usr/local/lib/python3.7/dist-packages/torch/nn/functional.py:1795: UserWarning: nn.functional.tanh is deprecated. Use torch.tanh instead.\n",
            "  warnings.warn(\"nn.functional.tanh is deprecated. Use torch.tanh instead.\")\n",
            "/usr/local/lib/python3.7/dist-packages/torch/nn/functional.py:1795: UserWarning: nn.functional.tanh is deprecated. Use torch.tanh instead.\n",
            "  warnings.warn(\"nn.functional.tanh is deprecated. Use torch.tanh instead.\")\n",
            "/usr/local/lib/python3.7/dist-packages/torch/nn/functional.py:1795: UserWarning: nn.functional.tanh is deprecated. Use torch.tanh instead.\n",
            "  warnings.warn(\"nn.functional.tanh is deprecated. Use torch.tanh instead.\")\n"
          ]
        },
        {
          "output_type": "display_data",
          "data": {
            "image/png": "[encoded data removed]",
            "text/plain": [
              "<Figure size 432x288 with 1 Axes>"
            ]
          },
          "metadata": {}
        }
      ]
    },
    {
      "cell_type": "code",
      "source": [
        "x = torch.Tensor(np.linspace(-100, 100))\n",
        "plt.plot(x.cpu().detach().numpy(),(network.w1_1*F.relu(x)+network.w2_1*F.tanh(x)+network.w3_1*torch.sin(x)).detach().numpy()/(network.w1_1+network.w2_1+network.w3_1+1e-5).cpu().detach().numpy(),label='Layer 1')\n",
        "plt.plot(x.cpu().detach().numpy(),(network.w1_2*F.relu(x)+network.w2_2*F.tanh(x)+network.w3_2*torch.sin(x)).detach().numpy()/(network.w1_2+network.w2_2+network.w3_2+1e-5).cpu().detach().numpy(),label='Layer 2')\n",
        "plt.plot(x.cpu().detach().numpy(),(network.w1_3*F.relu(x)+network.w2_3*F.tanh(x)+network.w3_3*torch.sin(x)).detach().numpy()/(network.w1_3+network.w2_3+network.w3_3+1e-5).cpu().detach().numpy(),label='Layer 3')\n",
        "plt.legend(ncol=1, loc='upper left');\n",
        "plt.show()"
      ],
      "metadata": {
        "colab": {
          "base_uri": "https://localhost:8080/",
          "height": 372
        },
        "id": "zHD9wZWVgmf9",
        "outputId": "2f741183-14f3-4233-e2f9-a2a1483fd666"
      },
      "execution_count": 25,
      "outputs": [
        {
          "output_type": "stream",
          "name": "stderr",
          "text": [
            "/usr/local/lib/python3.7/dist-packages/torch/nn/functional.py:1795: UserWarning: nn.functional.tanh is deprecated. Use torch.tanh instead.\n",
            "  warnings.warn(\"nn.functional.tanh is deprecated. Use torch.tanh instead.\")\n",
            "/usr/local/lib/python3.7/dist-packages/torch/nn/functional.py:1795: UserWarning: nn.functional.tanh is deprecated. Use torch.tanh instead.\n",
            "  warnings.warn(\"nn.functional.tanh is deprecated. Use torch.tanh instead.\")\n",
            "/usr/local/lib/python3.7/dist-packages/torch/nn/functional.py:1795: UserWarning: nn.functional.tanh is deprecated. Use torch.tanh instead.\n",
            "  warnings.warn(\"nn.functional.tanh is deprecated. Use torch.tanh instead.\")\n"
          ]
        },
        {
          "output_type": "display_data",
          "data": {
            "image/png": "[encoded data removed]",
            "text/plain": [
              "<Figure size 432x288 with 1 Axes>"
            ]
          },
          "metadata": {}
        }
      ]
    },
    {
      "cell_type": "code",
      "source": [
        "x = torch.Tensor(np.linspace(-1, 1))\n",
        "plt.plot(x.cpu().detach().numpy(),(network.w1_1*F.relu(x)+network.w2_1*F.tanh(x)+network.w3_1*torch.sin(x)).detach().numpy()/(network.w1_1+network.w2_1+network.w3_1+1e-5).cpu().detach().numpy(),label='Layer 1')\n",
        "plt.plot(x.cpu().detach().numpy(),(network.w1_2*F.relu(x)+network.w2_2*F.tanh(x)+network.w3_2*torch.sin(x)).detach().numpy()/(network.w1_2+network.w2_2+network.w3_2+1e-5).cpu().detach().numpy(),label='Layer 2')\n",
        "plt.plot(x.cpu().detach().numpy(),(network.w1_3*F.relu(x)+network.w2_3*F.tanh(x)+network.w3_3*torch.sin(x)).detach().numpy()/(network.w1_3+network.w2_3+network.w3_3+1e-5).cpu().detach().numpy(),label='Layer 3')\n",
        "plt.legend(ncol=1, loc='upper left');\n",
        "plt.show()"
      ],
      "metadata": {
        "colab": {
          "base_uri": "https://localhost:8080/",
          "height": 374
        },
        "id": "rWF_uikdhTH6",
        "outputId": "95589261-ecd1-480b-e624-eaf140f4105a"
      },
      "execution_count": 26,
      "outputs": [
        {
          "output_type": "stream",
          "name": "stderr",
          "text": [
            "/usr/local/lib/python3.7/dist-packages/torch/nn/functional.py:1795: UserWarning: nn.functional.tanh is deprecated. Use torch.tanh instead.\n",
            "  warnings.warn(\"nn.functional.tanh is deprecated. Use torch.tanh instead.\")\n",
            "/usr/local/lib/python3.7/dist-packages/torch/nn/functional.py:1795: UserWarning: nn.functional.tanh is deprecated. Use torch.tanh instead.\n",
            "  warnings.warn(\"nn.functional.tanh is deprecated. Use torch.tanh instead.\")\n",
            "/usr/local/lib/python3.7/dist-packages/torch/nn/functional.py:1795: UserWarning: nn.functional.tanh is deprecated. Use torch.tanh instead.\n",
            "  warnings.warn(\"nn.functional.tanh is deprecated. Use torch.tanh instead.\")\n"
          ]
        },
        {
          "output_type": "display_data",
          "data": {
            "image/png": "[encoded data removed]",
            "text/plain": [
              "<Figure size 432x288 with 1 Axes>"
            ]
          },
          "metadata": {}
        }
      ]
    },
    {
      "cell_type": "code",
      "source": [
        ""
      ],
      "metadata": {
        "id": "Hw9KIDKkhW_H"
      },
      "execution_count": 26,
      "outputs": []
    }
  ],
  "metadata": {
    "accelerator": "GPU",
    "colab": {
      "name": "KMNIST Activation Function Customization.ipynb",
      "provenance": [],
      "collapsed_sections": []
    },
    "kernelspec": {
      "display_name": "Python 3",
      "language": "python",
      "name": "python3"
    },
    "language_info": {
      "codemirror_mode": {
        "name": "ipython",
        "version": 3
      },
      "file_extension": ".py",
      "mimetype": "text/x-python",
      "name": "python",
      "nbconvert_exporter": "python",
      "pygments_lexer": "ipython3",
      "version": "3.7.4"
    },
    "widgets": {
      "application/vnd.jupyter.widget-state+json": {
        "e949f2f942e34414a269a65e14c45d4e": {
          "model_module": "@jupyter-widgets/controls",
          "model_name": "HBoxModel",
          "model_module_version": "1.5.0",
          "state": {
            "_view_name": "HBoxView",
            "_dom_classes": [],
            "_model_name": "HBoxModel",
            "_view_module": "@jupyter-widgets/controls",
            "_model_module_version": "1.5.0",
            "_view_count": null,
            "_view_module_version": "1.5.0",
            "box_style": "",
            "layout": "IPY_MODEL_7b1680b87f7047cf93cc87e6f5584061",
            "_model_module": "@jupyter-widgets/controls",
            "children": [
              "IPY_MODEL_fa3d8075ff8c47558306b8128727f920",
              "IPY_MODEL_4f9be90bc6b4425fa2afb8fccff40a6f",
              "IPY_MODEL_d53dfc1dbfb04847953dcf2e74c6cdc2"
            ]
          }
        },
        "7b1680b87f7047cf93cc87e6f5584061": {
          "model_module": "@jupyter-widgets/base",
          "model_name": "LayoutModel",
          "model_module_version": "1.2.0",
          "state": {
            "_view_name": "LayoutView",
            "grid_template_rows": null,
            "right": null,
            "justify_content": null,
            "_view_module": "@jupyter-widgets/base",
            "overflow": null,
            "_model_module_version": "1.2.0",
            "_view_count": null,
            "flex_flow": null,
            "width": null,
            "min_width": null,
            "border": null,
            "align_items": null,
            "bottom": null,
            "_model_module": "@jupyter-widgets/base",
            "top": null,
            "grid_column": null,
            "overflow_y": null,
            "overflow_x": null,
            "grid_auto_flow": null,
            "grid_area": null,
            "grid_template_columns": null,
            "flex": null,
            "_model_name": "LayoutModel",
            "justify_items": null,
            "grid_row": null,
            "max_height": null,
            "align_content": null,
            "visibility": null,
            "align_self": null,
            "height": null,
            "min_height": null,
            "padding": null,
            "grid_auto_rows": null,
            "grid_gap": null,
            "max_width": null,
            "order": null,
            "_view_module_version": "1.2.0",
            "grid_template_areas": null,
            "object_position": null,
            "object_fit": null,
            "grid_auto_columns": null,
            "margin": null,
            "display": null,
            "left": null
          }
        },
        "fa3d8075ff8c47558306b8128727f920": {
          "model_module": "@jupyter-widgets/controls",
          "model_name": "HTMLModel",
          "model_module_version": "1.5.0",
          "state": {
            "_view_name": "HTMLView",
            "style": "IPY_MODEL_c5aa685ef60a48ed86a39c9e45eb66f5",
            "_dom_classes": [],
            "description": "",
            "_model_name": "HTMLModel",
            "placeholder": "​",
            "_view_module": "@jupyter-widgets/controls",
            "_model_module_version": "1.5.0",
            "value": "",
            "_view_count": null,
            "_view_module_version": "1.5.0",
            "description_tooltip": null,
            "_model_module": "@jupyter-widgets/controls",
            "layout": "IPY_MODEL_36ecfdccfb2d4ceeaf4478246027e67c"
          }
        },
        "4f9be90bc6b4425fa2afb8fccff40a6f": {
          "model_module": "@jupyter-widgets/controls",
          "model_name": "FloatProgressModel",
          "model_module_version": "1.5.0",
          "state": {
            "_view_name": "ProgressView",
            "style": "IPY_MODEL_a8f4205f85a24ae5915adb27235ba1cc",
            "_dom_classes": [],
            "description": "",
            "_model_name": "FloatProgressModel",
            "bar_style": "success",
            "max": 18165135,
            "_view_module": "@jupyter-widgets/controls",
            "_model_module_version": "1.5.0",
            "value": 18165135,
            "_view_count": null,
            "_view_module_version": "1.5.0",
            "orientation": "horizontal",
            "min": 0,
            "description_tooltip": null,
            "_model_module": "@jupyter-widgets/controls",
            "layout": "IPY_MODEL_e208778bc2d14139892c344ee75d7a02"
          }
        },
        "d53dfc1dbfb04847953dcf2e74c6cdc2": {
          "model_module": "@jupyter-widgets/controls",
          "model_name": "HTMLModel",
          "model_module_version": "1.5.0",
          "state": {
            "_view_name": "HTMLView",
            "style": "IPY_MODEL_fc305a9e174a4fe0bff772824f5e3afc",
            "_dom_classes": [],
            "description": "",
            "_model_name": "HTMLModel",
            "placeholder": "​",
            "_view_module": "@jupyter-widgets/controls",
            "_model_module_version": "1.5.0",
            "value": " 18165760/? [00:01&lt;00:00, 13342601.28it/s]",
            "_view_count": null,
            "_view_module_version": "1.5.0",
            "description_tooltip": null,
            "_model_module": "@jupyter-widgets/controls",
            "layout": "IPY_MODEL_44bba3651f1444ebb3eb3951b7746836"
          }
        },
        "c5aa685ef60a48ed86a39c9e45eb66f5": {
          "model_module": "@jupyter-widgets/controls",
          "model_name": "DescriptionStyleModel",
          "model_module_version": "1.5.0",
          "state": {
            "_view_name": "StyleView",
            "_model_name": "DescriptionStyleModel",
            "description_width": "",
            "_view_module": "@jupyter-widgets/base",
            "_model_module_version": "1.5.0",
            "_view_count": null,
            "_view_module_version": "1.2.0",
            "_model_module": "@jupyter-widgets/controls"
          }
        },
        "36ecfdccfb2d4ceeaf4478246027e67c": {
          "model_module": "@jupyter-widgets/base",
          "model_name": "LayoutModel",
          "model_module_version": "1.2.0",
          "state": {
            "_view_name": "LayoutView",
            "grid_template_rows": null,
            "right": null,
            "justify_content": null,
            "_view_module": "@jupyter-widgets/base",
            "overflow": null,
            "_model_module_version": "1.2.0",
            "_view_count": null,
            "flex_flow": null,
            "width": null,
            "min_width": null,
            "border": null,
            "align_items": null,
            "bottom": null,
            "_model_module": "@jupyter-widgets/base",
            "top": null,
            "grid_column": null,
            "overflow_y": null,
            "overflow_x": null,
            "grid_auto_flow": null,
            "grid_area": null,
            "grid_template_columns": null,
            "flex": null,
            "_model_name": "LayoutModel",
            "justify_items": null,
            "grid_row": null,
            "max_height": null,
            "align_content": null,
            "visibility": null,
            "align_self": null,
            "height": null,
            "min_height": null,
            "padding": null,
            "grid_auto_rows": null,
            "grid_gap": null,
            "max_width": null,
            "order": null,
            "_view_module_version": "1.2.0",
            "grid_template_areas": null,
            "object_position": null,
            "object_fit": null,
            "grid_auto_columns": null,
            "margin": null,
            "display": null,
            "left": null
          }
        },
        "a8f4205f85a24ae5915adb27235ba1cc": {
          "model_module": "@jupyter-widgets/controls",
          "model_name": "ProgressStyleModel",
          "model_module_version": "1.5.0",
          "state": {
            "_view_name": "StyleView",
            "_model_name": "ProgressStyleModel",
            "description_width": "",
            "_view_module": "@jupyter-widgets/base",
            "_model_module_version": "1.5.0",
            "_view_count": null,
            "_view_module_version": "1.2.0",
            "bar_color": null,
            "_model_module": "@jupyter-widgets/controls"
          }
        },
        "e208778bc2d14139892c344ee75d7a02": {
          "model_module": "@jupyter-widgets/base",
          "model_name": "LayoutModel",
          "model_module_version": "1.2.0",
          "state": {
            "_view_name": "LayoutView",
            "grid_template_rows": null,
            "right": null,
            "justify_content": null,
            "_view_module": "@jupyter-widgets/base",
            "overflow": null,
            "_model_module_version": "1.2.0",
            "_view_count": null,
            "flex_flow": null,
            "width": null,
            "min_width": null,
            "border": null,
            "align_items": null,
            "bottom": null,
            "_model_module": "@jupyter-widgets/base",
            "top": null,
            "grid_column": null,
            "overflow_y": null,
            "overflow_x": null,
            "grid_auto_flow": null,
            "grid_area": null,
            "grid_template_columns": null,
            "flex": null,
            "_model_name": "LayoutModel",
            "justify_items": null,
            "grid_row": null,
            "max_height": null,
            "align_content": null,
            "visibility": null,
            "align_self": null,
            "height": null,
            "min_height": null,
            "padding": null,
            "grid_auto_rows": null,
            "grid_gap": null,
            "max_width": null,
            "order": null,
            "_view_module_version": "1.2.0",
            "grid_template_areas": null,
            "object_position": null,
            "object_fit": null,
            "grid_auto_columns": null,
            "margin": null,
            "display": null,
            "left": null
          }
        },
        "fc305a9e174a4fe0bff772824f5e3afc": {
          "model_module": "@jupyter-widgets/controls",
          "model_name": "DescriptionStyleModel",
          "model_module_version": "1.5.0",
          "state": {
            "_view_name": "StyleView",
            "_model_name": "DescriptionStyleModel",
            "description_width": "",
            "_view_module": "@jupyter-widgets/base",
            "_model_module_version": "1.5.0",
            "_view_count": null,
            "_view_module_version": "1.2.0",
            "_model_module": "@jupyter-widgets/controls"
          }
        },
        "44bba3651f1444ebb3eb3951b7746836": {
          "model_module": "@jupyter-widgets/base",
          "model_name": "LayoutModel",
          "model_module_version": "1.2.0",
          "state": {
            "_view_name": "LayoutView",
            "grid_template_rows": null,
            "right": null,
            "justify_content": null,
            "_view_module": "@jupyter-widgets/base",
            "overflow": null,
            "_model_module_version": "1.2.0",
            "_view_count": null,
            "flex_flow": null,
            "width": null,
            "min_width": null,
            "border": null,
            "align_items": null,
            "bottom": null,
            "_model_module": "@jupyter-widgets/base",
            "top": null,
            "grid_column": null,
            "overflow_y": null,
            "overflow_x": null,
            "grid_auto_flow": null,
            "grid_area": null,
            "grid_template_columns": null,
            "flex": null,
            "_model_name": "LayoutModel",
            "justify_items": null,
            "grid_row": null,
            "max_height": null,
            "align_content": null,
            "visibility": null,
            "align_self": null,
            "height": null,
            "min_height": null,
            "padding": null,
            "grid_auto_rows": null,
            "grid_gap": null,
            "max_width": null,
            "order": null,
            "_view_module_version": "1.2.0",
            "grid_template_areas": null,
            "object_position": null,
            "object_fit": null,
            "grid_auto_columns": null,
            "margin": null,
            "display": null,
            "left": null
          }
        },
        "82b2fa9af97d4709912dbb011e75e0d5": {
          "model_module": "@jupyter-widgets/controls",
          "model_name": "HBoxModel",
          "model_module_version": "1.5.0",
          "state": {
            "_view_name": "HBoxView",
            "_dom_classes": [],
            "_model_name": "HBoxModel",
            "_view_module": "@jupyter-widgets/controls",
            "_model_module_version": "1.5.0",
            "_view_count": null,
            "_view_module_version": "1.5.0",
            "box_style": "",
            "layout": "IPY_MODEL_29d3e8a3efaf4e34999a622b62d89ccc",
            "_model_module": "@jupyter-widgets/controls",
            "children": [
              "IPY_MODEL_33d09f28afab4293ac4de80f73481223",
              "IPY_MODEL_ba6f76ee93d1484bb8988707c164655c",
              "IPY_MODEL_e758821f851346e5a89a28a7d2ba9317"
            ]
          }
        },
        "29d3e8a3efaf4e34999a622b62d89ccc": {
          "model_module": "@jupyter-widgets/base",
          "model_name": "LayoutModel",
          "model_module_version": "1.2.0",
          "state": {
            "_view_name": "LayoutView",
            "grid_template_rows": null,
            "right": null,
            "justify_content": null,
            "_view_module": "@jupyter-widgets/base",
            "overflow": null,
            "_model_module_version": "1.2.0",
            "_view_count": null,
            "flex_flow": null,
            "width": null,
            "min_width": null,
            "border": null,
            "align_items": null,
            "bottom": null,
            "_model_module": "@jupyter-widgets/base",
            "top": null,
            "grid_column": null,
            "overflow_y": null,
            "overflow_x": null,
            "grid_auto_flow": null,
            "grid_area": null,
            "grid_template_columns": null,
            "flex": null,
            "_model_name": "LayoutModel",
            "justify_items": null,
            "grid_row": null,
            "max_height": null,
            "align_content": null,
            "visibility": null,
            "align_self": null,
            "height": null,
            "min_height": null,
            "padding": null,
            "grid_auto_rows": null,
            "grid_gap": null,
            "max_width": null,
            "order": null,
            "_view_module_version": "1.2.0",
            "grid_template_areas": null,
            "object_position": null,
            "object_fit": null,
            "grid_auto_columns": null,
            "margin": null,
            "display": null,
            "left": null
          }
        },
        "33d09f28afab4293ac4de80f73481223": {
          "model_module": "@jupyter-widgets/controls",
          "model_name": "HTMLModel",
          "model_module_version": "1.5.0",
          "state": {
            "_view_name": "HTMLView",
            "style": "IPY_MODEL_641897ad4681450b8b87a00c1c058603",
            "_dom_classes": [],
            "description": "",
            "_model_name": "HTMLModel",
            "placeholder": "​",
            "_view_module": "@jupyter-widgets/controls",
            "_model_module_version": "1.5.0",
            "value": "",
            "_view_count": null,
            "_view_module_version": "1.5.0",
            "description_tooltip": null,
            "_model_module": "@jupyter-widgets/controls",
            "layout": "IPY_MODEL_3e77ed1982404a46ac198a37fbc72626"
          }
        },
        "ba6f76ee93d1484bb8988707c164655c": {
          "model_module": "@jupyter-widgets/controls",
          "model_name": "FloatProgressModel",
          "model_module_version": "1.5.0",
          "state": {
            "_view_name": "ProgressView",
            "style": "IPY_MODEL_dbe834dbfea849db9bf6f817d47103f3",
            "_dom_classes": [],
            "description": "",
            "_model_name": "FloatProgressModel",
            "bar_style": "success",
            "max": 29497,
            "_view_module": "@jupyter-widgets/controls",
            "_model_module_version": "1.5.0",
            "value": 29497,
            "_view_count": null,
            "_view_module_version": "1.5.0",
            "orientation": "horizontal",
            "min": 0,
            "description_tooltip": null,
            "_model_module": "@jupyter-widgets/controls",
            "layout": "IPY_MODEL_1ee8dad83a424aa8b108f3dc84f32a0d"
          }
        },
        "e758821f851346e5a89a28a7d2ba9317": {
          "model_module": "@jupyter-widgets/controls",
          "model_name": "HTMLModel",
          "model_module_version": "1.5.0",
          "state": {
            "_view_name": "HTMLView",
            "style": "IPY_MODEL_5863f564943b42c894df6e97dab57ee1",
            "_dom_classes": [],
            "description": "",
            "_model_name": "HTMLModel",
            "placeholder": "​",
            "_view_module": "@jupyter-widgets/controls",
            "_model_module_version": "1.5.0",
            "value": " 29696/? [00:00&lt;00:00, 334369.70it/s]",
            "_view_count": null,
            "_view_module_version": "1.5.0",
            "description_tooltip": null,
            "_model_module": "@jupyter-widgets/controls",
            "layout": "IPY_MODEL_e79609dd33564af5b8eae9cab6542f0e"
          }
        },
        "641897ad4681450b8b87a00c1c058603": {
          "model_module": "@jupyter-widgets/controls",
          "model_name": "DescriptionStyleModel",
          "model_module_version": "1.5.0",
          "state": {
            "_view_name": "StyleView",
            "_model_name": "DescriptionStyleModel",
            "description_width": "",
            "_view_module": "@jupyter-widgets/base",
            "_model_module_version": "1.5.0",
            "_view_count": null,
            "_view_module_version": "1.2.0",
            "_model_module": "@jupyter-widgets/controls"
          }
        },
        "3e77ed1982404a46ac198a37fbc72626": {
          "model_module": "@jupyter-widgets/base",
          "model_name": "LayoutModel",
          "model_module_version": "1.2.0",
          "state": {
            "_view_name": "LayoutView",
            "grid_template_rows": null,
            "right": null,
            "justify_content": null,
            "_view_module": "@jupyter-widgets/base",
            "overflow": null,
            "_model_module_version": "1.2.0",
            "_view_count": null,
            "flex_flow": null,
            "width": null,
            "min_width": null,
            "border": null,
            "align_items": null,
            "bottom": null,
            "_model_module": "@jupyter-widgets/base",
            "top": null,
            "grid_column": null,
            "overflow_y": null,
            "overflow_x": null,
            "grid_auto_flow": null,
            "grid_area": null,
            "grid_template_columns": null,
            "flex": null,
            "_model_name": "LayoutModel",
            "justify_items": null,
            "grid_row": null,
            "max_height": null,
            "align_content": null,
            "visibility": null,
            "align_self": null,
            "height": null,
            "min_height": null,
            "padding": null,
            "grid_auto_rows": null,
            "grid_gap": null,
            "max_width": null,
            "order": null,
            "_view_module_version": "1.2.0",
            "grid_template_areas": null,
            "object_position": null,
            "object_fit": null,
            "grid_auto_columns": null,
            "margin": null,
            "display": null,
            "left": null
          }
        },
        "dbe834dbfea849db9bf6f817d47103f3": {
          "model_module": "@jupyter-widgets/controls",
          "model_name": "ProgressStyleModel",
          "model_module_version": "1.5.0",
          "state": {
            "_view_name": "StyleView",
            "_model_name": "ProgressStyleModel",
            "description_width": "",
            "_view_module": "@jupyter-widgets/base",
            "_model_module_version": "1.5.0",
            "_view_count": null,
            "_view_module_version": "1.2.0",
            "bar_color": null,
            "_model_module": "@jupyter-widgets/controls"
          }
        },
        "1ee8dad83a424aa8b108f3dc84f32a0d": {
          "model_module": "@jupyter-widgets/base",
          "model_name": "LayoutModel",
          "model_module_version": "1.2.0",
          "state": {
            "_view_name": "LayoutView",
            "grid_template_rows": null,
            "right": null,
            "justify_content": null,
            "_view_module": "@jupyter-widgets/base",
            "overflow": null,
            "_model_module_version": "1.2.0",
            "_view_count": null,
            "flex_flow": null,
            "width": null,
            "min_width": null,
            "border": null,
            "align_items": null,
            "bottom": null,
            "_model_module": "@jupyter-widgets/base",
            "top": null,
            "grid_column": null,
            "overflow_y": null,
            "overflow_x": null,
            "grid_auto_flow": null,
            "grid_area": null,
            "grid_template_columns": null,
            "flex": null,
            "_model_name": "LayoutModel",
            "justify_items": null,
            "grid_row": null,
            "max_height": null,
            "align_content": null,
            "visibility": null,
            "align_self": null,
            "height": null,
            "min_height": null,
            "padding": null,
            "grid_auto_rows": null,
            "grid_gap": null,
            "max_width": null,
            "order": null,
            "_view_module_version": "1.2.0",
            "grid_template_areas": null,
            "object_position": null,
            "object_fit": null,
            "grid_auto_columns": null,
            "margin": null,
            "display": null,
            "left": null
          }
        },
        "5863f564943b42c894df6e97dab57ee1": {
          "model_module": "@jupyter-widgets/controls",
          "model_name": "DescriptionStyleModel",
          "model_module_version": "1.5.0",
          "state": {
            "_view_name": "StyleView",
            "_model_name": "DescriptionStyleModel",
            "description_width": "",
            "_view_module": "@jupyter-widgets/base",
            "_model_module_version": "1.5.0",
            "_view_count": null,
            "_view_module_version": "1.2.0",
            "_model_module": "@jupyter-widgets/controls"
          }
        },
        "e79609dd33564af5b8eae9cab6542f0e": {
          "model_module": "@jupyter-widgets/base",
          "model_name": "LayoutModel",
          "model_module_version": "1.2.0",
          "state": {
            "_view_name": "LayoutView",
            "grid_template_rows": null,
            "right": null,
            "justify_content": null,
            "_view_module": "@jupyter-widgets/base",
            "overflow": null,
            "_model_module_version": "1.2.0",
            "_view_count": null,
            "flex_flow": null,
            "width": null,
            "min_width": null,
            "border": null,
            "align_items": null,
            "bottom": null,
            "_model_module": "@jupyter-widgets/base",
            "top": null,
            "grid_column": null,
            "overflow_y": null,
            "overflow_x": null,
            "grid_auto_flow": null,
            "grid_area": null,
            "grid_template_columns": null,
            "flex": null,
            "_model_name": "LayoutModel",
            "justify_items": null,
            "grid_row": null,
            "max_height": null,
            "align_content": null,
            "visibility": null,
            "align_self": null,
            "height": null,
            "min_height": null,
            "padding": null,
            "grid_auto_rows": null,
            "grid_gap": null,
            "max_width": null,
            "order": null,
            "_view_module_version": "1.2.0",
            "grid_template_areas": null,
            "object_position": null,
            "object_fit": null,
            "grid_auto_columns": null,
            "margin": null,
            "display": null,
            "left": null
          }
        },
        "f1ddf3732356499f8ba61ed6f848424d": {
          "model_module": "@jupyter-widgets/controls",
          "model_name": "HBoxModel",
          "model_module_version": "1.5.0",
          "state": {
            "_view_name": "HBoxView",
            "_dom_classes": [],
            "_model_name": "HBoxModel",
            "_view_module": "@jupyter-widgets/controls",
            "_model_module_version": "1.5.0",
            "_view_count": null,
            "_view_module_version": "1.5.0",
            "box_style": "",
            "layout": "IPY_MODEL_78a5855aefc646a8b34f6c241d2e2ea8",
            "_model_module": "@jupyter-widgets/controls",
            "children": [
              "IPY_MODEL_678aa3e5620042a08ad9e1b10b7d45ad",
              "IPY_MODEL_257b71c6c5ca4ff0af83264ee41db7ab",
              "IPY_MODEL_c95d8deeab624b228ffecc1b989fe7e5"
            ]
          }
        },
        "78a5855aefc646a8b34f6c241d2e2ea8": {
          "model_module": "@jupyter-widgets/base",
          "model_name": "LayoutModel",
          "model_module_version": "1.2.0",
          "state": {
            "_view_name": "LayoutView",
            "grid_template_rows": null,
            "right": null,
            "justify_content": null,
            "_view_module": "@jupyter-widgets/base",
            "overflow": null,
            "_model_module_version": "1.2.0",
            "_view_count": null,
            "flex_flow": null,
            "width": null,
            "min_width": null,
            "border": null,
            "align_items": null,
            "bottom": null,
            "_model_module": "@jupyter-widgets/base",
            "top": null,
            "grid_column": null,
            "overflow_y": null,
            "overflow_x": null,
            "grid_auto_flow": null,
            "grid_area": null,
            "grid_template_columns": null,
            "flex": null,
            "_model_name": "LayoutModel",
            "justify_items": null,
            "grid_row": null,
            "max_height": null,
            "align_content": null,
            "visibility": null,
            "align_self": null,
            "height": null,
            "min_height": null,
            "padding": null,
            "grid_auto_rows": null,
            "grid_gap": null,
            "max_width": null,
            "order": null,
            "_view_module_version": "1.2.0",
            "grid_template_areas": null,
            "object_position": null,
            "object_fit": null,
            "grid_auto_columns": null,
            "margin": null,
            "display": null,
            "left": null
          }
        },
        "678aa3e5620042a08ad9e1b10b7d45ad": {
          "model_module": "@jupyter-widgets/controls",
          "model_name": "HTMLModel",
          "model_module_version": "1.5.0",
          "state": {
            "_view_name": "HTMLView",
            "style": "IPY_MODEL_58d1cd70c0ce4c8ca280adfbb1e0e514",
            "_dom_classes": [],
            "description": "",
            "_model_name": "HTMLModel",
            "placeholder": "​",
            "_view_module": "@jupyter-widgets/controls",
            "_model_module_version": "1.5.0",
            "value": "",
            "_view_count": null,
            "_view_module_version": "1.5.0",
            "description_tooltip": null,
            "_model_module": "@jupyter-widgets/controls",
            "layout": "IPY_MODEL_832fb678c264434c869f76d58544ab64"
          }
        },
        "257b71c6c5ca4ff0af83264ee41db7ab": {
          "model_module": "@jupyter-widgets/controls",
          "model_name": "FloatProgressModel",
          "model_module_version": "1.5.0",
          "state": {
            "_view_name": "ProgressView",
            "style": "IPY_MODEL_e236ed86f13f47cfbd9f007e56ce5113",
            "_dom_classes": [],
            "description": "",
            "_model_name": "FloatProgressModel",
            "bar_style": "success",
            "max": 3041136,
            "_view_module": "@jupyter-widgets/controls",
            "_model_module_version": "1.5.0",
            "value": 3041136,
            "_view_count": null,
            "_view_module_version": "1.5.0",
            "orientation": "horizontal",
            "min": 0,
            "description_tooltip": null,
            "_model_module": "@jupyter-widgets/controls",
            "layout": "IPY_MODEL_95c30cc93a4f4dd49b1c4978ee075d16"
          }
        },
        "c95d8deeab624b228ffecc1b989fe7e5": {
          "model_module": "@jupyter-widgets/controls",
          "model_name": "HTMLModel",
          "model_module_version": "1.5.0",
          "state": {
            "_view_name": "HTMLView",
            "style": "IPY_MODEL_5fc0981338be4663ac12d4f9933a5403",
            "_dom_classes": [],
            "description": "",
            "_model_name": "HTMLModel",
            "placeholder": "​",
            "_view_module": "@jupyter-widgets/controls",
            "_model_module_version": "1.5.0",
            "value": " 3041280/? [00:00&lt;00:00, 5533849.91it/s]",
            "_view_count": null,
            "_view_module_version": "1.5.0",
            "description_tooltip": null,
            "_model_module": "@jupyter-widgets/controls",
            "layout": "IPY_MODEL_7c73ed68a5f74abc8a95fb2059149485"
          }
        },
        "58d1cd70c0ce4c8ca280adfbb1e0e514": {
          "model_module": "@jupyter-widgets/controls",
          "model_name": "DescriptionStyleModel",
          "model_module_version": "1.5.0",
          "state": {
            "_view_name": "StyleView",
            "_model_name": "DescriptionStyleModel",
            "description_width": "",
            "_view_module": "@jupyter-widgets/base",
            "_model_module_version": "1.5.0",
            "_view_count": null,
            "_view_module_version": "1.2.0",
            "_model_module": "@jupyter-widgets/controls"
          }
        },
        "832fb678c264434c869f76d58544ab64": {
          "model_module": "@jupyter-widgets/base",
          "model_name": "LayoutModel",
          "model_module_version": "1.2.0",
          "state": {
            "_view_name": "LayoutView",
            "grid_template_rows": null,
            "right": null,
            "justify_content": null,
            "_view_module": "@jupyter-widgets/base",
            "overflow": null,
            "_model_module_version": "1.2.0",
            "_view_count": null,
            "flex_flow": null,
            "width": null,
            "min_width": null,
            "border": null,
            "align_items": null,
            "bottom": null,
            "_model_module": "@jupyter-widgets/base",
            "top": null,
            "grid_column": null,
            "overflow_y": null,
            "overflow_x": null,
            "grid_auto_flow": null,
            "grid_area": null,
            "grid_template_columns": null,
            "flex": null,
            "_model_name": "LayoutModel",
            "justify_items": null,
            "grid_row": null,
            "max_height": null,
            "align_content": null,
            "visibility": null,
            "align_self": null,
            "height": null,
            "min_height": null,
            "padding": null,
            "grid_auto_rows": null,
            "grid_gap": null,
            "max_width": null,
            "order": null,
            "_view_module_version": "1.2.0",
            "grid_template_areas": null,
            "object_position": null,
            "object_fit": null,
            "grid_auto_columns": null,
            "margin": null,
            "display": null,
            "left": null
          }
        },
        "e236ed86f13f47cfbd9f007e56ce5113": {
          "model_module": "@jupyter-widgets/controls",
          "model_name": "ProgressStyleModel",
          "model_module_version": "1.5.0",
          "state": {
            "_view_name": "StyleView",
            "_model_name": "ProgressStyleModel",
            "description_width": "",
            "_view_module": "@jupyter-widgets/base",
            "_model_module_version": "1.5.0",
            "_view_count": null,
            "_view_module_version": "1.2.0",
            "bar_color": null,
            "_model_module": "@jupyter-widgets/controls"
          }
        },
        "95c30cc93a4f4dd49b1c4978ee075d16": {
          "model_module": "@jupyter-widgets/base",
          "model_name": "LayoutModel",
          "model_module_version": "1.2.0",
          "state": {
            "_view_name": "LayoutView",
            "grid_template_rows": null,
            "right": null,
            "justify_content": null,
            "_view_module": "@jupyter-widgets/base",
            "overflow": null,
            "_model_module_version": "1.2.0",
            "_view_count": null,
            "flex_flow": null,
            "width": null,
            "min_width": null,
            "border": null,
            "align_items": null,
            "bottom": null,
            "_model_module": "@jupyter-widgets/base",
            "top": null,
            "grid_column": null,
            "overflow_y": null,
            "overflow_x": null,
            "grid_auto_flow": null,
            "grid_area": null,
            "grid_template_columns": null,
            "flex": null,
            "_model_name": "LayoutModel",
            "justify_items": null,
            "grid_row": null,
            "max_height": null,
            "align_content": null,
            "visibility": null,
            "align_self": null,
            "height": null,
            "min_height": null,
            "padding": null,
            "grid_auto_rows": null,
            "grid_gap": null,
            "max_width": null,
            "order": null,
            "_view_module_version": "1.2.0",
            "grid_template_areas": null,
            "object_position": null,
            "object_fit": null,
            "grid_auto_columns": null,
            "margin": null,
            "display": null,
            "left": null
          }
        },
        "5fc0981338be4663ac12d4f9933a5403": {
          "model_module": "@jupyter-widgets/controls",
          "model_name": "DescriptionStyleModel",
          "model_module_version": "1.5.0",
          "state": {
            "_view_name": "StyleView",
            "_model_name": "DescriptionStyleModel",
            "description_width": "",
            "_view_module": "@jupyter-widgets/base",
            "_model_module_version": "1.5.0",
            "_view_count": null,
            "_view_module_version": "1.2.0",
            "_model_module": "@jupyter-widgets/controls"
          }
        },
        "7c73ed68a5f74abc8a95fb2059149485": {
          "model_module": "@jupyter-widgets/base",
          "model_name": "LayoutModel",
          "model_module_version": "1.2.0",
          "state": {
            "_view_name": "LayoutView",
            "grid_template_rows": null,
            "right": null,
            "justify_content": null,
            "_view_module": "@jupyter-widgets/base",
            "overflow": null,
            "_model_module_version": "1.2.0",
            "_view_count": null,
            "flex_flow": null,
            "width": null,
            "min_width": null,
            "border": null,
            "align_items": null,
            "bottom": null,
            "_model_module": "@jupyter-widgets/base",
            "top": null,
            "grid_column": null,
            "overflow_y": null,
            "overflow_x": null,
            "grid_auto_flow": null,
            "grid_area": null,
            "grid_template_columns": null,
            "flex": null,
            "_model_name": "LayoutModel",
            "justify_items": null,
            "grid_row": null,
            "max_height": null,
            "align_content": null,
            "visibility": null,
            "align_self": null,
            "height": null,
            "min_height": null,
            "padding": null,
            "grid_auto_rows": null,
            "grid_gap": null,
            "max_width": null,
            "order": null,
            "_view_module_version": "1.2.0",
            "grid_template_areas": null,
            "object_position": null,
            "object_fit": null,
            "grid_auto_columns": null,
            "margin": null,
            "display": null,
            "left": null
          }
        },
        "6cf688a8c47945f29f0a637b6a011dac": {
          "model_module": "@jupyter-widgets/controls",
          "model_name": "HBoxModel",
          "model_module_version": "1.5.0",
          "state": {
            "_view_name": "HBoxView",
            "_dom_classes": [],
            "_model_name": "HBoxModel",
            "_view_module": "@jupyter-widgets/controls",
            "_model_module_version": "1.5.0",
            "_view_count": null,
            "_view_module_version": "1.5.0",
            "box_style": "",
            "layout": "IPY_MODEL_7a7f67795a4f467ebbb7877f8560bc62",
            "_model_module": "@jupyter-widgets/controls",
            "children": [
              "IPY_MODEL_fa88789ac8064b9da6ba639e739df6f1",
              "IPY_MODEL_37588a3213b94d4c87beb542322120f0",
              "IPY_MODEL_184ece222bba43139efd1fb2beba9115"
            ]
          }
        },
        "7a7f67795a4f467ebbb7877f8560bc62": {
          "model_module": "@jupyter-widgets/base",
          "model_name": "LayoutModel",
          "model_module_version": "1.2.0",
          "state": {
            "_view_name": "LayoutView",
            "grid_template_rows": null,
            "right": null,
            "justify_content": null,
            "_view_module": "@jupyter-widgets/base",
            "overflow": null,
            "_model_module_version": "1.2.0",
            "_view_count": null,
            "flex_flow": null,
            "width": null,
            "min_width": null,
            "border": null,
            "align_items": null,
            "bottom": null,
            "_model_module": "@jupyter-widgets/base",
            "top": null,
            "grid_column": null,
            "overflow_y": null,
            "overflow_x": null,
            "grid_auto_flow": null,
            "grid_area": null,
            "grid_template_columns": null,
            "flex": null,
            "_model_name": "LayoutModel",
            "justify_items": null,
            "grid_row": null,
            "max_height": null,
            "align_content": null,
            "visibility": null,
            "align_self": null,
            "height": null,
            "min_height": null,
            "padding": null,
            "grid_auto_rows": null,
            "grid_gap": null,
            "max_width": null,
            "order": null,
            "_view_module_version": "1.2.0",
            "grid_template_areas": null,
            "object_position": null,
            "object_fit": null,
            "grid_auto_columns": null,
            "margin": null,
            "display": null,
            "left": null
          }
        },
        "fa88789ac8064b9da6ba639e739df6f1": {
          "model_module": "@jupyter-widgets/controls",
          "model_name": "HTMLModel",
          "model_module_version": "1.5.0",
          "state": {
            "_view_name": "HTMLView",
            "style": "IPY_MODEL_4c69f5ff079f4c219d277c62216711b7",
            "_dom_classes": [],
            "description": "",
            "_model_name": "HTMLModel",
            "placeholder": "​",
            "_view_module": "@jupyter-widgets/controls",
            "_model_module_version": "1.5.0",
            "value": "100%",
            "_view_count": null,
            "_view_module_version": "1.5.0",
            "description_tooltip": null,
            "_model_module": "@jupyter-widgets/controls",
            "layout": "IPY_MODEL_98533fbd2d274a76a2aa100654f44ac6"
          }
        },
        "37588a3213b94d4c87beb542322120f0": {
          "model_module": "@jupyter-widgets/controls",
          "model_name": "FloatProgressModel",
          "model_module_version": "1.5.0",
          "state": {
            "_view_name": "ProgressView",
            "style": "IPY_MODEL_e7ed4357c43b413bb3b3d0c332e5516b",
            "_dom_classes": [],
            "description": "",
            "_model_name": "FloatProgressModel",
            "bar_style": "success",
            "max": 5120,
            "_view_module": "@jupyter-widgets/controls",
            "_model_module_version": "1.5.0",
            "value": 5120,
            "_view_count": null,
            "_view_module_version": "1.5.0",
            "orientation": "horizontal",
            "min": 0,
            "description_tooltip": null,
            "_model_module": "@jupyter-widgets/controls",
            "layout": "IPY_MODEL_067a8ac7cf52431689a3265fbfa7006b"
          }
        },
        "184ece222bba43139efd1fb2beba9115": {
          "model_module": "@jupyter-widgets/controls",
          "model_name": "HTMLModel",
          "model_module_version": "1.5.0",
          "state": {
            "_view_name": "HTMLView",
            "style": "IPY_MODEL_e379cec90eff48ce8b6d361606cf0f26",
            "_dom_classes": [],
            "description": "",
            "_model_name": "HTMLModel",
            "placeholder": "​",
            "_view_module": "@jupyter-widgets/controls",
            "_model_module_version": "1.5.0",
            "value": " 5120/5120 [00:00&lt;00:00, 145367.41it/s]",
            "_view_count": null,
            "_view_module_version": "1.5.0",
            "description_tooltip": null,
            "_model_module": "@jupyter-widgets/controls",
            "layout": "IPY_MODEL_c9956c37893748498fd69bfa1f1b0d92"
          }
        },
        "4c69f5ff079f4c219d277c62216711b7": {
          "model_module": "@jupyter-widgets/controls",
          "model_name": "DescriptionStyleModel",
          "model_module_version": "1.5.0",
          "state": {
            "_view_name": "StyleView",
            "_model_name": "DescriptionStyleModel",
            "description_width": "",
            "_view_module": "@jupyter-widgets/base",
            "_model_module_version": "1.5.0",
            "_view_count": null,
            "_view_module_version": "1.2.0",
            "_model_module": "@jupyter-widgets/controls"
          }
        },
        "98533fbd2d274a76a2aa100654f44ac6": {
          "model_module": "@jupyter-widgets/base",
          "model_name": "LayoutModel",
          "model_module_version": "1.2.0",
          "state": {
            "_view_name": "LayoutView",
            "grid_template_rows": null,
            "right": null,
            "justify_content": null,
            "_view_module": "@jupyter-widgets/base",
            "overflow": null,
            "_model_module_version": "1.2.0",
            "_view_count": null,
            "flex_flow": null,
            "width": null,
            "min_width": null,
            "border": null,
            "align_items": null,
            "bottom": null,
            "_model_module": "@jupyter-widgets/base",
            "top": null,
            "grid_column": null,
            "overflow_y": null,
            "overflow_x": null,
            "grid_auto_flow": null,
            "grid_area": null,
            "grid_template_columns": null,
            "flex": null,
            "_model_name": "LayoutModel",
            "justify_items": null,
            "grid_row": null,
            "max_height": null,
            "align_content": null,
            "visibility": null,
            "align_self": null,
            "height": null,
            "min_height": null,
            "padding": null,
            "grid_auto_rows": null,
            "grid_gap": null,
            "max_width": null,
            "order": null,
            "_view_module_version": "1.2.0",
            "grid_template_areas": null,
            "object_position": null,
            "object_fit": null,
            "grid_auto_columns": null,
            "margin": null,
            "display": null,
            "left": null
          }
        },
        "e7ed4357c43b413bb3b3d0c332e5516b": {
          "model_module": "@jupyter-widgets/controls",
          "model_name": "ProgressStyleModel",
          "model_module_version": "1.5.0",
          "state": {
            "_view_name": "StyleView",
            "_model_name": "ProgressStyleModel",
            "description_width": "",
            "_view_module": "@jupyter-widgets/base",
            "_model_module_version": "1.5.0",
            "_view_count": null,
            "_view_module_version": "1.2.0",
            "bar_color": null,
            "_model_module": "@jupyter-widgets/controls"
          }
        },
        "067a8ac7cf52431689a3265fbfa7006b": {
          "model_module": "@jupyter-widgets/base",
          "model_name": "LayoutModel",
          "model_module_version": "1.2.0",
          "state": {
            "_view_name": "LayoutView",
            "grid_template_rows": null,
            "right": null,
            "justify_content": null,
            "_view_module": "@jupyter-widgets/base",
            "overflow": null,
            "_model_module_version": "1.2.0",
            "_view_count": null,
            "flex_flow": null,
            "width": null,
            "min_width": null,
            "border": null,
            "align_items": null,
            "bottom": null,
            "_model_module": "@jupyter-widgets/base",
            "top": null,
            "grid_column": null,
            "overflow_y": null,
            "overflow_x": null,
            "grid_auto_flow": null,
            "grid_area": null,
            "grid_template_columns": null,
            "flex": null,
            "_model_name": "LayoutModel",
            "justify_items": null,
            "grid_row": null,
            "max_height": null,
            "align_content": null,
            "visibility": null,
            "align_self": null,
            "height": null,
            "min_height": null,
            "padding": null,
            "grid_auto_rows": null,
            "grid_gap": null,
            "max_width": null,
            "order": null,
            "_view_module_version": "1.2.0",
            "grid_template_areas": null,
            "object_position": null,
            "object_fit": null,
            "grid_auto_columns": null,
            "margin": null,
            "display": null,
            "left": null
          }
        },
        "e379cec90eff48ce8b6d361606cf0f26": {
          "model_module": "@jupyter-widgets/controls",
          "model_name": "DescriptionStyleModel",
          "model_module_version": "1.5.0",
          "state": {
            "_view_name": "StyleView",
            "_model_name": "DescriptionStyleModel",
            "description_width": "",
            "_view_module": "@jupyter-widgets/base",
            "_model_module_version": "1.5.0",
            "_view_count": null,
            "_view_module_version": "1.2.0",
            "_model_module": "@jupyter-widgets/controls"
          }
        },
        "c9956c37893748498fd69bfa1f1b0d92": {
          "model_module": "@jupyter-widgets/base",
          "model_name": "LayoutModel",
          "model_module_version": "1.2.0",
          "state": {
            "_view_name": "LayoutView",
            "grid_template_rows": null,
            "right": null,
            "justify_content": null,
            "_view_module": "@jupyter-widgets/base",
            "overflow": null,
            "_model_module_version": "1.2.0",
            "_view_count": null,
            "flex_flow": null,
            "width": null,
            "min_width": null,
            "border": null,
            "align_items": null,
            "bottom": null,
            "_model_module": "@jupyter-widgets/base",
            "top": null,
            "grid_column": null,
            "overflow_y": null,
            "overflow_x": null,
            "grid_auto_flow": null,
            "grid_area": null,
            "grid_template_columns": null,
            "flex": null,
            "_model_name": "LayoutModel",
            "justify_items": null,
            "grid_row": null,
            "max_height": null,
            "align_content": null,
            "visibility": null,
            "align_self": null,
            "height": null,
            "min_height": null,
            "padding": null,
            "grid_auto_rows": null,
            "grid_gap": null,
            "max_width": null,
            "order": null,
            "_view_module_version": "1.2.0",
            "grid_template_areas": null,
            "object_position": null,
            "object_fit": null,
            "grid_auto_columns": null,
            "margin": null,
            "display": null,
            "left": null
          }
        }
      }
    }
  },
  "nbformat": 4,
  "nbformat_minor": 0
}